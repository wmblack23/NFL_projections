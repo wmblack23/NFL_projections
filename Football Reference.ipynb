{
 "cells": [
  {
   "cell_type": "code",
   "execution_count": 2,
   "metadata": {},
   "outputs": [],
   "source": [
    "from bs4 import BeautifulSoup\n",
    "import pandas as pd\n",
    "import requests\n",
    "import numpy as np\n",
    "import plotly.express as px\n",
    "import matplotlib.pyplot as plt\n",
    "from sklearn.metrics import r2_score\n",
    "import datapane as dp\n",
    "from sklearn import linear_model"
   ]
  },
  {
   "cell_type": "markdown",
   "metadata": {},
   "source": [
    "# SCRAPING ALL WEEK-8 DATA GOING BACK TO 1978"
   ]
  },
  {
   "cell_type": "code",
   "execution_count": 7,
   "metadata": {},
   "outputs": [],
   "source": [
    "year = 1978\n",
    "\n",
    "total_week_8_teams, total_week_8_ptDiff, total_week_8_wins = [], [], []\n",
    "total_week_16_teams, total_week_16_ptDiff, total_week_16_wins = [], [], []\n",
    "\n",
    "while year < 2021:\n",
    "    week = 8\n",
    "    while week < 18:\n",
    "        \n",
    "        if week == 8:\n",
    "            \n",
    "            url = (\"https://www.pro-football-reference.com/boxscores/standings.cgi?week=\" + str(week) + \n",
    "                    \"&year=\" + str(year) + \"&wk_league=NFL\")\n",
    "\n",
    "            r = requests.get(url,timeout=2.5)\n",
    "            r_html = r.text\n",
    "\n",
    "            soup = BeautifulSoup(r_html, 'html.parser')\n",
    "            \n",
    "            week_8_teams = soup.find_all('th', attrs={\"class\": \"left\"})\n",
    "            week_8_teams = [str(l) for l in week_8_teams]\n",
    "            \n",
    "            for l in week_8_teams:\n",
    "                left, right = '.htm\">', '</a>'\n",
    "                if left in l and right in l:\n",
    "                    total_week_8_teams.append(l[l.index(left)+len(left):l.index(right)])\n",
    "                else:\n",
    "                    continue\n",
    "                    \n",
    "            week_8_table = soup.find_all(\"td\")\n",
    "            week_8_table = [str(l) for l in week_8_table]\n",
    "            \n",
    "            for l in week_8_table:\n",
    "                if 'wins\">' in l and '</td>' in l:\n",
    "                    total_week_8_wins.append(l[l.index('wins\">')+len('wins\">'):l.index('</td>')])\n",
    "                if 'points_diff\">' in l and '</td>' in l:\n",
    "                    total_week_8_ptDiff.append(l[l.index('points_diff\">')+len('points_diff\">'):l.index('</td>')])\n",
    "                else:\n",
    "                    continue\n",
    "            week += 9\n",
    "        \n",
    "        if week == 17:\n",
    "            \n",
    "            url = (\"https://www.pro-football-reference.com/boxscores/standings.cgi?week=\" + str(week) + \n",
    "                    \"&year=\" + str(year) + \"&wk_league=NFL\")\n",
    "\n",
    "            r = requests.get(url,timeout=2.5)\n",
    "            r_html = r.text\n",
    "\n",
    "            soup = BeautifulSoup(r_html, 'html.parser')\n",
    "            \n",
    "            week_16_teams = soup.find_all('th', attrs={\"class\": \"left\"})\n",
    "            week_16_teams = [str(l) for l in week_16_teams]\n",
    "            \n",
    "            for l in week_16_teams:\n",
    "                left, right = '.htm\">', '</a>'\n",
    "                if left in l and right in l:\n",
    "                    total_week_16_teams.append(l[l.index(left)+len(left):l.index(right)])\n",
    "                else:\n",
    "                    continue\n",
    "                    \n",
    "            week_16_table = soup.find_all(\"td\")\n",
    "            week_16_table = [str(l) for l in week_16_table]\n",
    "            \n",
    "            for l in week_16_table:\n",
    "                if 'wins\">' in l and '</td>' in l:\n",
    "                    total_week_16_wins.append(l[l.index('wins\">')+len('wins\">'):l.index('</td>')])\n",
    "                if 'points_diff\">' in l and '</td>' in l:\n",
    "                    total_week_16_ptDiff.append(l[l.index('points_diff\">')+len('points_diff\">'):l.index('</td>')])\n",
    "                else:\n",
    "                    continue \n",
    "            week += 1\n",
    "    if year == 1981:\n",
    "        year += 2\n",
    "    else:\n",
    "        year += 1"
   ]
  },
  {
   "cell_type": "markdown",
   "metadata": {},
   "source": [
    "## Lining up lists so teams are in proper order"
   ]
  },
  {
   "cell_type": "code",
   "execution_count": 8,
   "metadata": {},
   "outputs": [],
   "source": [
    "new_total_wins, new_total_teams = [], []\n",
    "\n",
    "for i in total_week_8_teams:\n",
    "    if i in total_week_16_teams:\n",
    "        new_total_teams.append(i)\n",
    "        new_total_wins.append(total_week_16_wins[total_week_16_teams.index(i)])\n",
    "        total_week_16_teams[total_week_16_teams.index(i)] = ''"
   ]
  },
  {
   "cell_type": "markdown",
   "metadata": {},
   "source": [
    "## DataFrame"
   ]
  },
  {
   "cell_type": "code",
   "execution_count": 114,
   "metadata": {},
   "outputs": [],
   "source": [
    "df = pd.DataFrame(data={\"Team\": new_total_teams, \"Wk 8 Pts Margin\": total_week_8_ptDiff, \"Wk 8 Wins\": total_week_8_wins,'Wk 17 Wins': total_week_16_wins})"
   ]
  },
  {
   "cell_type": "code",
   "execution_count": 115,
   "metadata": {},
   "outputs": [],
   "source": [
    "total_week_16_wins = [float(l) for l in total_week_16_wins]\n",
    "total_week_8_ptDiff = [float(l) for l in total_week_8_ptDiff]"
   ]
  },
  {
   "cell_type": "code",
   "execution_count": 116,
   "metadata": {},
   "outputs": [],
   "source": [
    "X = df[['Wk 8 Pts Margin']]\n",
    "y = df['Wk 8 Wins']\n",
    "\n",
    "scorig_margin = df['Wk 8 Pts Margin'].tolist()\n",
    "week8actual_wins = df['Wk 8 Wins'].tolist()\n",
    "week8actual_wins = [float(l) for l in week8actual_wins]\n",
    "\n",
    "week8predicted_wins = []\n",
    "\n",
    "for i in scorig_margin:\n",
    "    \n",
    "    regr = linear_model.LinearRegression()\n",
    "    regr.fit(X, y)\n",
    "    week8predicted_wins.append(round(float(regr.predict([[i]])), 2))\n",
    "\n",
    "\n",
    "#df['Week 8 Predicted Wins'] = week8predicted_wins\n",
    "week8diff_list = []\n",
    "\n",
    "for i, k in zip(week8actual_wins, week8predicted_wins):\n",
    "    diff = str(round(i-k, 2))\n",
    "    if float(diff) > 0:\n",
    "        diff = '+' + str(diff)\n",
    "\n",
    "    week8diff_list.append(diff)\n",
    "\n",
    "week8diff_list = [float(l) for l in week8diff_list]\n",
    "\n",
    "df.insert(3, 'Wk 8 Expected', week8predicted_wins)\n",
    "#df.insert(4, 'Week 8 Difference', week8diff_list)\n"
   ]
  },
  {
   "cell_type": "code",
   "execution_count": 117,
   "metadata": {},
   "outputs": [],
   "source": [
    "X = df[['Wk 8 Pts Margin']]\n",
    "y = df['Wk 17 Wins']\n",
    "\n",
    "scorig_margin = df['Wk 8 Pts Margin'].tolist()\n",
    "actual_wins = df['Wk 17 Wins'].tolist()\n",
    "\n",
    "predicted_wins = []\n",
    "\n",
    "for i in scorig_margin:\n",
    "    \n",
    "    regr = linear_model.LinearRegression()\n",
    "    regr.fit(X, y)\n",
    "    predicted_wins.append(round(float(regr.predict([[i]])), 2))\n",
    "                                                                               "
   ]
  },
  {
   "cell_type": "code",
   "execution_count": 118,
   "metadata": {},
   "outputs": [],
   "source": [
    "week_17_predicted = []\n",
    "for i, k in zip(predicted_wins, week8diff_list):\n",
    "    week_17_predicted.append(i + k)\n",
    "df['Wk 17 Predicted'] = week_17_predicted"
   ]
  },
  {
   "cell_type": "code",
   "execution_count": 119,
   "metadata": {},
   "outputs": [],
   "source": [
    "df['Wk 17 Predicted'] = week_17_predicted"
   ]
  },
  {
   "cell_type": "code",
   "execution_count": 120,
   "metadata": {},
   "outputs": [],
   "source": [
    "diff_list = []\n",
    "for i, k in zip(week_17_predicted, actual_wins):\n",
    "    diff_list.append(k - i)\n",
    "df['Difference'] = diff_list"
   ]
  },
  {
   "cell_type": "code",
   "execution_count": 121,
   "metadata": {},
   "outputs": [
    {
     "data": {
      "text/html": [
       "<div>\n",
       "<style scoped>\n",
       "    .dataframe tbody tr th:only-of-type {\n",
       "        vertical-align: middle;\n",
       "    }\n",
       "\n",
       "    .dataframe tbody tr th {\n",
       "        vertical-align: top;\n",
       "    }\n",
       "\n",
       "    .dataframe thead th {\n",
       "        text-align: right;\n",
       "    }\n",
       "</style>\n",
       "<table border=\"1\" class=\"dataframe\">\n",
       "  <thead>\n",
       "    <tr style=\"text-align: right;\">\n",
       "      <th></th>\n",
       "      <th>Team</th>\n",
       "      <th>Wk 8 Pts Margin</th>\n",
       "      <th>Wk 8 Wins</th>\n",
       "      <th>Wk 8 Expected</th>\n",
       "      <th>Wk 17 Wins</th>\n",
       "      <th>Wk 17 Predicted</th>\n",
       "      <th>Difference</th>\n",
       "    </tr>\n",
       "  </thead>\n",
       "  <tbody>\n",
       "    <tr>\n",
       "      <th>0</th>\n",
       "      <td>New England Patriots</td>\n",
       "      <td>39.0</td>\n",
       "      <td>6</td>\n",
       "      <td>4.79</td>\n",
       "      <td>11.0</td>\n",
       "      <td>10.95</td>\n",
       "      <td>0.05</td>\n",
       "    </tr>\n",
       "    <tr>\n",
       "      <th>1</th>\n",
       "      <td>Miami Dolphins</td>\n",
       "      <td>55.0</td>\n",
       "      <td>5</td>\n",
       "      <td>5.23</td>\n",
       "      <td>11.0</td>\n",
       "      <td>10.24</td>\n",
       "      <td>0.76</td>\n",
       "    </tr>\n",
       "    <tr>\n",
       "      <th>2</th>\n",
       "      <td>New York Jets</td>\n",
       "      <td>43.0</td>\n",
       "      <td>5</td>\n",
       "      <td>4.90</td>\n",
       "      <td>8.0</td>\n",
       "      <td>10.02</td>\n",
       "      <td>-2.02</td>\n",
       "    </tr>\n",
       "    <tr>\n",
       "      <th>3</th>\n",
       "      <td>Buffalo Bills</td>\n",
       "      <td>-30.0</td>\n",
       "      <td>3</td>\n",
       "      <td>2.88</td>\n",
       "      <td>5.0</td>\n",
       "      <td>6.71</td>\n",
       "      <td>-1.71</td>\n",
       "    </tr>\n",
       "    <tr>\n",
       "      <th>4</th>\n",
       "      <td>Baltimore Colts</td>\n",
       "      <td>-92.0</td>\n",
       "      <td>3</td>\n",
       "      <td>1.17</td>\n",
       "      <td>5.0</td>\n",
       "      <td>5.59</td>\n",
       "      <td>-0.59</td>\n",
       "    </tr>\n",
       "    <tr>\n",
       "      <th>...</th>\n",
       "      <td>...</td>\n",
       "      <td>...</td>\n",
       "      <td>...</td>\n",
       "      <td>...</td>\n",
       "      <td>...</td>\n",
       "      <td>...</td>\n",
       "      <td>...</td>\n",
       "    </tr>\n",
       "    <tr>\n",
       "      <th>1264</th>\n",
       "      <td>Atlanta Falcons</td>\n",
       "      <td>-15.0</td>\n",
       "      <td>2</td>\n",
       "      <td>3.30</td>\n",
       "      <td>4.0</td>\n",
       "      <td>5.97</td>\n",
       "      <td>-1.97</td>\n",
       "    </tr>\n",
       "    <tr>\n",
       "      <th>1265</th>\n",
       "      <td>Seattle Seahawks</td>\n",
       "      <td>41.0</td>\n",
       "      <td>6</td>\n",
       "      <td>4.84</td>\n",
       "      <td>12.0</td>\n",
       "      <td>10.99</td>\n",
       "      <td>1.01</td>\n",
       "    </tr>\n",
       "    <tr>\n",
       "      <th>1266</th>\n",
       "      <td>Arizona Cardinals</td>\n",
       "      <td>57.0</td>\n",
       "      <td>5</td>\n",
       "      <td>5.29</td>\n",
       "      <td>10.0</td>\n",
       "      <td>10.27</td>\n",
       "      <td>-0.27</td>\n",
       "    </tr>\n",
       "    <tr>\n",
       "      <th>1267</th>\n",
       "      <td>Los Angeles Rams</td>\n",
       "      <td>41.0</td>\n",
       "      <td>5</td>\n",
       "      <td>4.84</td>\n",
       "      <td>8.0</td>\n",
       "      <td>9.99</td>\n",
       "      <td>-1.99</td>\n",
       "    </tr>\n",
       "    <tr>\n",
       "      <th>1268</th>\n",
       "      <td>San Francisco 49ers</td>\n",
       "      <td>35.0</td>\n",
       "      <td>4</td>\n",
       "      <td>4.68</td>\n",
       "      <td>6.0</td>\n",
       "      <td>8.88</td>\n",
       "      <td>-2.88</td>\n",
       "    </tr>\n",
       "  </tbody>\n",
       "</table>\n",
       "<p>1269 rows × 7 columns</p>\n",
       "</div>"
      ],
      "text/plain": [
       "                      Team  Wk 8 Pts Margin Wk 8 Wins  Wk 8 Expected  \\\n",
       "0     New England Patriots             39.0         6           4.79   \n",
       "1           Miami Dolphins             55.0         5           5.23   \n",
       "2            New York Jets             43.0         5           4.90   \n",
       "3            Buffalo Bills            -30.0         3           2.88   \n",
       "4          Baltimore Colts            -92.0         3           1.17   \n",
       "...                    ...              ...       ...            ...   \n",
       "1264       Atlanta Falcons            -15.0         2           3.30   \n",
       "1265      Seattle Seahawks             41.0         6           4.84   \n",
       "1266     Arizona Cardinals             57.0         5           5.29   \n",
       "1267      Los Angeles Rams             41.0         5           4.84   \n",
       "1268   San Francisco 49ers             35.0         4           4.68   \n",
       "\n",
       "      Wk 17 Wins  Wk 17 Predicted  Difference  \n",
       "0           11.0            10.95        0.05  \n",
       "1           11.0            10.24        0.76  \n",
       "2            8.0            10.02       -2.02  \n",
       "3            5.0             6.71       -1.71  \n",
       "4            5.0             5.59       -0.59  \n",
       "...          ...              ...         ...  \n",
       "1264         4.0             5.97       -1.97  \n",
       "1265        12.0            10.99        1.01  \n",
       "1266        10.0            10.27       -0.27  \n",
       "1267         8.0             9.99       -1.99  \n",
       "1268         6.0             8.88       -2.88  \n",
       "\n",
       "[1269 rows x 7 columns]"
      ]
     },
     "execution_count": 121,
     "metadata": {},
     "output_type": "execute_result"
    }
   ],
   "source": [
    "df"
   ]
  },
  {
   "cell_type": "code",
   "execution_count": 25,
   "metadata": {},
   "outputs": [
    {
     "data": {
      "text/plain": [
       "1.1645153664302594"
      ]
     },
     "execution_count": 25,
     "metadata": {},
     "output_type": "execute_result"
    }
   ],
   "source": [
    "diff_list_float = [float(l) for l in diff_list]\n",
    "\n",
    "abs_vals = [abs(x) for x in diff_list_float]\n",
    "\n",
    "avg_difference = sum(abs_vals) / len(diff_list_float)\n",
    "\n",
    "avg_difference"
   ]
  },
  {
   "cell_type": "markdown",
   "metadata": {},
   "source": [
    "## Model"
   ]
  },
  {
   "cell_type": "code",
   "execution_count": 26,
   "metadata": {},
   "outputs": [],
   "source": [
    "model = np.polyfit(df['Week 8 Pts Margin'], df['Actual Wins'], 1)"
   ]
  },
  {
   "cell_type": "code",
   "execution_count": 27,
   "metadata": {},
   "outputs": [],
   "source": [
    "predict = np.poly1d(model)\n",
    "\n",
    "r2 = r2_score(total_week_16_wins, predict(total_week_8_ptDiff))"
   ]
  },
  {
   "cell_type": "code",
   "execution_count": 28,
   "metadata": {},
   "outputs": [
    {
     "data": {
      "text/plain": [
       "0.8016873170281702"
      ]
     },
     "execution_count": 28,
     "metadata": {},
     "output_type": "execute_result"
    }
   ],
   "source": [
    "np.sqrt(r2)"
   ]
  },
  {
   "cell_type": "code",
   "execution_count": 93,
   "metadata": {},
   "outputs": [
    {
     "data": {
      "text/plain": [
       "array([0.04570157, 7.95981087])"
      ]
     },
     "execution_count": 93,
     "metadata": {},
     "output_type": "execute_result"
    }
   ],
   "source": [
    "model"
   ]
  },
  {
   "cell_type": "markdown",
   "metadata": {},
   "source": [
    "## Current week 8 standings"
   ]
  },
  {
   "cell_type": "code",
   "execution_count": 4,
   "metadata": {},
   "outputs": [],
   "source": [
    "week, year = 8, 2021\n",
    "current_wins, current_ptDiff, current_teams = [], [], []\n",
    "\n",
    "url = (\"https://www.pro-football-reference.com/boxscores/standings.cgi?week=\" + str(week) + \n",
    "        \"&year=\" + str(year) + \"&wk_league=NFL\")\n",
    "\n",
    "r = requests.get(url,timeout=2.5)\n",
    "r_html = r.text\n",
    "\n",
    "soup = BeautifulSoup(r_html, 'html.parser')\n",
    "\n",
    "current_week_8_teams = soup.find_all('th', attrs={\"class\": \"left\"})\n",
    "current_week_8_teams = [str(l) for l in current_week_8_teams]\n",
    "\n",
    "current_week_8_table = soup.find_all(\"td\")\n",
    "current_week_8_table = [str(l) for l in current_week_8_table]\n",
    "\n",
    "for l in current_week_8_teams:\n",
    "    left, right = '.htm\">', '</a>'\n",
    "    if left in l and right in l:\n",
    "        current_teams.append(l[l.index(left)+len(left):l.index(right)])\n",
    "    else:\n",
    "        continue\n",
    "\n",
    "for l in current_week_8_table:\n",
    "    if 'wins\">' in l and '</td>' in l:\n",
    "        current_wins.append(l[l.index('wins\">')+len('wins\">'):l.index('</td>')])\n",
    "    if 'points_diff\">' in l and '</td>' in l:\n",
    "        current_ptDiff.append(l[l.index('points_diff\">')+len('points_diff\">'):l.index('</td>')])\n",
    "    else:\n",
    "        continue"
   ]
  },
  {
   "cell_type": "markdown",
   "metadata": {},
   "source": [
    "## Projecting Current Season Win Totals"
   ]
  },
  {
   "cell_type": "code",
   "execution_count": 159,
   "metadata": {},
   "outputs": [
    {
     "data": {
      "text/html": [
       "<div>\n",
       "<style scoped>\n",
       "    .dataframe tbody tr th:only-of-type {\n",
       "        vertical-align: middle;\n",
       "    }\n",
       "\n",
       "    .dataframe tbody tr th {\n",
       "        vertical-align: top;\n",
       "    }\n",
       "\n",
       "    .dataframe thead th {\n",
       "        text-align: right;\n",
       "    }\n",
       "</style>\n",
       "<table border=\"1\" class=\"dataframe\">\n",
       "  <thead>\n",
       "    <tr style=\"text-align: right;\">\n",
       "      <th></th>\n",
       "      <th>Team</th>\n",
       "      <th>Wk 8 Pts Margin</th>\n",
       "    </tr>\n",
       "  </thead>\n",
       "  <tbody>\n",
       "    <tr>\n",
       "      <th>0</th>\n",
       "      <td>Buffalo Bills</td>\n",
       "      <td>120.0</td>\n",
       "    </tr>\n",
       "    <tr>\n",
       "      <th>1</th>\n",
       "      <td>New England Patriots</td>\n",
       "      <td>42.0</td>\n",
       "    </tr>\n",
       "    <tr>\n",
       "      <th>2</th>\n",
       "      <td>New York Jets</td>\n",
       "      <td>-92.0</td>\n",
       "    </tr>\n",
       "    <tr>\n",
       "      <th>3</th>\n",
       "      <td>Miami Dolphins</td>\n",
       "      <td>-95.0</td>\n",
       "    </tr>\n",
       "    <tr>\n",
       "      <th>4</th>\n",
       "      <td>Baltimore Ravens</td>\n",
       "      <td>23.0</td>\n",
       "    </tr>\n",
       "    <tr>\n",
       "      <th>5</th>\n",
       "      <td>Cincinnati Bengals</td>\n",
       "      <td>58.0</td>\n",
       "    </tr>\n",
       "    <tr>\n",
       "      <th>6</th>\n",
       "      <td>Pittsburgh Steelers</td>\n",
       "      <td>-10.0</td>\n",
       "    </tr>\n",
       "    <tr>\n",
       "      <th>7</th>\n",
       "      <td>Cleveland Browns</td>\n",
       "      <td>3.0</td>\n",
       "    </tr>\n",
       "    <tr>\n",
       "      <th>8</th>\n",
       "      <td>Tennessee Titans</td>\n",
       "      <td>32.0</td>\n",
       "    </tr>\n",
       "    <tr>\n",
       "      <th>9</th>\n",
       "      <td>Indianapolis Colts</td>\n",
       "      <td>17.0</td>\n",
       "    </tr>\n",
       "    <tr>\n",
       "      <th>10</th>\n",
       "      <td>Jacksonville Jaguars</td>\n",
       "      <td>-80.0</td>\n",
       "    </tr>\n",
       "    <tr>\n",
       "      <th>11</th>\n",
       "      <td>Houston Texans</td>\n",
       "      <td>-122.0</td>\n",
       "    </tr>\n",
       "    <tr>\n",
       "      <th>12</th>\n",
       "      <td>Las Vegas Raiders</td>\n",
       "      <td>14.0</td>\n",
       "    </tr>\n",
       "    <tr>\n",
       "      <th>13</th>\n",
       "      <td>Los Angeles Chargers</td>\n",
       "      <td>-5.0</td>\n",
       "    </tr>\n",
       "    <tr>\n",
       "      <th>14</th>\n",
       "      <td>Denver Broncos</td>\n",
       "      <td>20.0</td>\n",
       "    </tr>\n",
       "    <tr>\n",
       "      <th>15</th>\n",
       "      <td>Kansas City Chiefs</td>\n",
       "      <td>-12.0</td>\n",
       "    </tr>\n",
       "    <tr>\n",
       "      <th>16</th>\n",
       "      <td>Dallas Cowboys</td>\n",
       "      <td>63.0</td>\n",
       "    </tr>\n",
       "    <tr>\n",
       "      <th>17</th>\n",
       "      <td>Philadelphia Eagles</td>\n",
       "      <td>12.0</td>\n",
       "    </tr>\n",
       "    <tr>\n",
       "      <th>18</th>\n",
       "      <td>New York Giants</td>\n",
       "      <td>-44.0</td>\n",
       "    </tr>\n",
       "    <tr>\n",
       "      <th>19</th>\n",
       "      <td>Washington Football Team</td>\n",
       "      <td>-71.0</td>\n",
       "    </tr>\n",
       "    <tr>\n",
       "      <th>20</th>\n",
       "      <td>Green Bay Packers</td>\n",
       "      <td>25.0</td>\n",
       "    </tr>\n",
       "    <tr>\n",
       "      <th>21</th>\n",
       "      <td>Minnesota Vikings</td>\n",
       "      <td>6.0</td>\n",
       "    </tr>\n",
       "    <tr>\n",
       "      <th>22</th>\n",
       "      <td>Chicago Bears</td>\n",
       "      <td>-72.0</td>\n",
       "    </tr>\n",
       "    <tr>\n",
       "      <th>23</th>\n",
       "      <td>Detroit Lions</td>\n",
       "      <td>-110.0</td>\n",
       "    </tr>\n",
       "    <tr>\n",
       "      <th>24</th>\n",
       "      <td>Tampa Bay Buccaneers</td>\n",
       "      <td>77.0</td>\n",
       "    </tr>\n",
       "    <tr>\n",
       "      <th>25</th>\n",
       "      <td>New Orleans Saints</td>\n",
       "      <td>48.0</td>\n",
       "    </tr>\n",
       "    <tr>\n",
       "      <th>26</th>\n",
       "      <td>Carolina Panthers</td>\n",
       "      <td>6.0</td>\n",
       "    </tr>\n",
       "    <tr>\n",
       "      <th>27</th>\n",
       "      <td>Atlanta Falcons</td>\n",
       "      <td>-47.0</td>\n",
       "    </tr>\n",
       "    <tr>\n",
       "      <th>28</th>\n",
       "      <td>Arizona Cardinals</td>\n",
       "      <td>108.0</td>\n",
       "    </tr>\n",
       "    <tr>\n",
       "      <th>29</th>\n",
       "      <td>Los Angeles Rams</td>\n",
       "      <td>77.0</td>\n",
       "    </tr>\n",
       "    <tr>\n",
       "      <th>30</th>\n",
       "      <td>San Francisco 49ers</td>\n",
       "      <td>-3.0</td>\n",
       "    </tr>\n",
       "    <tr>\n",
       "      <th>31</th>\n",
       "      <td>Seattle Seahawks</td>\n",
       "      <td>12.0</td>\n",
       "    </tr>\n",
       "  </tbody>\n",
       "</table>\n",
       "</div>"
      ],
      "text/plain": [
       "                        Team  Wk 8 Pts Margin\n",
       "0              Buffalo Bills            120.0\n",
       "1       New England Patriots             42.0\n",
       "2              New York Jets            -92.0\n",
       "3             Miami Dolphins            -95.0\n",
       "4           Baltimore Ravens             23.0\n",
       "5         Cincinnati Bengals             58.0\n",
       "6        Pittsburgh Steelers            -10.0\n",
       "7           Cleveland Browns              3.0\n",
       "8           Tennessee Titans             32.0\n",
       "9         Indianapolis Colts             17.0\n",
       "10      Jacksonville Jaguars            -80.0\n",
       "11            Houston Texans           -122.0\n",
       "12         Las Vegas Raiders             14.0\n",
       "13      Los Angeles Chargers             -5.0\n",
       "14            Denver Broncos             20.0\n",
       "15        Kansas City Chiefs            -12.0\n",
       "16            Dallas Cowboys             63.0\n",
       "17       Philadelphia Eagles             12.0\n",
       "18           New York Giants            -44.0\n",
       "19  Washington Football Team            -71.0\n",
       "20         Green Bay Packers             25.0\n",
       "21         Minnesota Vikings              6.0\n",
       "22             Chicago Bears            -72.0\n",
       "23             Detroit Lions           -110.0\n",
       "24      Tampa Bay Buccaneers             77.0\n",
       "25        New Orleans Saints             48.0\n",
       "26         Carolina Panthers              6.0\n",
       "27           Atlanta Falcons            -47.0\n",
       "28         Arizona Cardinals            108.0\n",
       "29          Los Angeles Rams             77.0\n",
       "30       San Francisco 49ers             -3.0\n",
       "31          Seattle Seahawks             12.0"
      ]
     },
     "execution_count": 159,
     "metadata": {},
     "output_type": "execute_result"
    }
   ],
   "source": [
    "new_df = pd.DataFrame(data={\"Team\": current_teams, \"Wk 8 Pts Margin\": current_ptDiff})\n",
    "new_df"
   ]
  },
  {
   "cell_type": "code",
   "execution_count": 85,
   "metadata": {},
   "outputs": [],
   "source": [
    "current_ptDiff = [float(l) for l in current_ptDiff]"
   ]
  },
  {
   "cell_type": "code",
   "execution_count": 86,
   "metadata": {},
   "outputs": [],
   "source": [
    "projected_wins = []\n",
    "\n",
    "for i in current_ptDiff:\n",
    "    \n",
    "    X = df[['Week 8 Pts Margin']]\n",
    "    y = df['Actual Wins']\n",
    "\n",
    "    regr = linear_model.LinearRegression()\n",
    "    regr.fit(X, y)\n",
    "    \n",
    "    prediction = regr.predict([[i]])\n",
    "    \n",
    "    projected_wins.append(round(float(prediction), 2))"
   ]
  },
  {
   "cell_type": "code",
   "execution_count": 87,
   "metadata": {},
   "outputs": [],
   "source": [
    "wins_thru_17 = [round((i/16)*17, 2) for i in projected_wins]"
   ]
  },
  {
   "cell_type": "code",
   "execution_count": 88,
   "metadata": {},
   "outputs": [],
   "source": [
    "X = new_df[['Wk 8 Pts Margin']]\n",
    "y = current_wins\n",
    "\n",
    "current_predicted_wins = []\n",
    "\n",
    "for i in current_ptDiff:\n",
    "    \n",
    "    regr = linear_model.LinearRegression()\n",
    "    regr.fit(X, y)\n",
    "    current_predicted_wins.append(round(float(regr.predict([[i]])), 2))\n",
    "    \n",
    "week8diff_list = []\n",
    "current_wins = [float(l) for l in current_wins]\n",
    "current_predicted_wins = [float(l) for l in current_predicted_wins]\n",
    "\n",
    "for i, k in zip(current_wins, current_predicted_wins):\n",
    "    diff = str(round(i-k, 2))\n",
    "    if float(diff) > 0:\n",
    "        diff = '+' + str(diff)\n",
    "\n",
    "    week8diff_list.append(diff)\n",
    "\n",
    "week8diff_list = [float(l) for l in week8diff_list]\n",
    "\n",
    "new_df.insert(2, 'Wk 8 Wins', current_wins)\n",
    "#new_df.insert(3, 'Wk 8 Expected Wins', current_predicted_wins)"
   ]
  },
  {
   "cell_type": "code",
   "execution_count": 89,
   "metadata": {},
   "outputs": [],
   "source": [
    "week_17_predicted = []\n",
    "for i, k in zip(wins_thru_17, week8diff_list):\n",
    "    week_17_predicted.append(i + k)\n",
    "new_df['Wk 17 Predicted Wins'] = week_17_predicted"
   ]
  },
  {
   "cell_type": "code",
   "execution_count": 90,
   "metadata": {},
   "outputs": [
    {
     "data": {
      "text/html": [
       "<div>\n",
       "<style scoped>\n",
       "    .dataframe tbody tr th:only-of-type {\n",
       "        vertical-align: middle;\n",
       "    }\n",
       "\n",
       "    .dataframe tbody tr th {\n",
       "        vertical-align: top;\n",
       "    }\n",
       "\n",
       "    .dataframe thead th {\n",
       "        text-align: right;\n",
       "    }\n",
       "</style>\n",
       "<table border=\"1\" class=\"dataframe\">\n",
       "  <thead>\n",
       "    <tr style=\"text-align: right;\">\n",
       "      <th></th>\n",
       "      <th>Team</th>\n",
       "      <th>Wk 8 Pts Margin</th>\n",
       "      <th>Wk 8 Wins</th>\n",
       "      <th>Wk 17 Predicted Wins</th>\n",
       "    </tr>\n",
       "  </thead>\n",
       "  <tbody>\n",
       "    <tr>\n",
       "      <th>0</th>\n",
       "      <td>Buffalo Bills</td>\n",
       "      <td>120.0</td>\n",
       "      <td>5.0</td>\n",
       "      <td>12.37</td>\n",
       "    </tr>\n",
       "    <tr>\n",
       "      <th>1</th>\n",
       "      <td>New England Patriots</td>\n",
       "      <td>42.0</td>\n",
       "      <td>4.0</td>\n",
       "      <td>9.60</td>\n",
       "    </tr>\n",
       "    <tr>\n",
       "      <th>2</th>\n",
       "      <td>New York Jets</td>\n",
       "      <td>-92.0</td>\n",
       "      <td>2.0</td>\n",
       "      <td>4.56</td>\n",
       "    </tr>\n",
       "    <tr>\n",
       "      <th>3</th>\n",
       "      <td>Miami Dolphins</td>\n",
       "      <td>-95.0</td>\n",
       "      <td>1.0</td>\n",
       "      <td>3.49</td>\n",
       "    </tr>\n",
       "    <tr>\n",
       "      <th>4</th>\n",
       "      <td>Baltimore Ravens</td>\n",
       "      <td>23.0</td>\n",
       "      <td>5.0</td>\n",
       "      <td>10.16</td>\n",
       "    </tr>\n",
       "    <tr>\n",
       "      <th>5</th>\n",
       "      <td>Cincinnati Bengals</td>\n",
       "      <td>58.0</td>\n",
       "      <td>5.0</td>\n",
       "      <td>10.96</td>\n",
       "    </tr>\n",
       "    <tr>\n",
       "      <th>6</th>\n",
       "      <td>Pittsburgh Steelers</td>\n",
       "      <td>-10.0</td>\n",
       "      <td>4.0</td>\n",
       "      <td>8.42</td>\n",
       "    </tr>\n",
       "    <tr>\n",
       "      <th>7</th>\n",
       "      <td>Cleveland Browns</td>\n",
       "      <td>3.0</td>\n",
       "      <td>4.0</td>\n",
       "      <td>8.72</td>\n",
       "    </tr>\n",
       "    <tr>\n",
       "      <th>8</th>\n",
       "      <td>Tennessee Titans</td>\n",
       "      <td>32.0</td>\n",
       "      <td>6.0</td>\n",
       "      <td>11.37</td>\n",
       "    </tr>\n",
       "    <tr>\n",
       "      <th>9</th>\n",
       "      <td>Indianapolis Colts</td>\n",
       "      <td>17.0</td>\n",
       "      <td>3.0</td>\n",
       "      <td>8.04</td>\n",
       "    </tr>\n",
       "    <tr>\n",
       "      <th>10</th>\n",
       "      <td>Jacksonville Jaguars</td>\n",
       "      <td>-80.0</td>\n",
       "      <td>1.0</td>\n",
       "      <td>3.83</td>\n",
       "    </tr>\n",
       "    <tr>\n",
       "      <th>11</th>\n",
       "      <td>Houston Texans</td>\n",
       "      <td>-122.0</td>\n",
       "      <td>1.0</td>\n",
       "      <td>2.87</td>\n",
       "    </tr>\n",
       "    <tr>\n",
       "      <th>12</th>\n",
       "      <td>Las Vegas Raiders</td>\n",
       "      <td>14.0</td>\n",
       "      <td>5.0</td>\n",
       "      <td>9.97</td>\n",
       "    </tr>\n",
       "    <tr>\n",
       "      <th>13</th>\n",
       "      <td>Los Angeles Chargers</td>\n",
       "      <td>-5.0</td>\n",
       "      <td>4.0</td>\n",
       "      <td>8.53</td>\n",
       "    </tr>\n",
       "    <tr>\n",
       "      <th>14</th>\n",
       "      <td>Denver Broncos</td>\n",
       "      <td>20.0</td>\n",
       "      <td>4.0</td>\n",
       "      <td>9.09</td>\n",
       "    </tr>\n",
       "    <tr>\n",
       "      <th>15</th>\n",
       "      <td>Kansas City Chiefs</td>\n",
       "      <td>-12.0</td>\n",
       "      <td>4.0</td>\n",
       "      <td>8.37</td>\n",
       "    </tr>\n",
       "    <tr>\n",
       "      <th>16</th>\n",
       "      <td>Dallas Cowboys</td>\n",
       "      <td>63.0</td>\n",
       "      <td>6.0</td>\n",
       "      <td>12.08</td>\n",
       "    </tr>\n",
       "    <tr>\n",
       "      <th>17</th>\n",
       "      <td>Philadelphia Eagles</td>\n",
       "      <td>12.0</td>\n",
       "      <td>3.0</td>\n",
       "      <td>7.92</td>\n",
       "    </tr>\n",
       "    <tr>\n",
       "      <th>18</th>\n",
       "      <td>New York Giants</td>\n",
       "      <td>-44.0</td>\n",
       "      <td>2.0</td>\n",
       "      <td>5.64</td>\n",
       "    </tr>\n",
       "    <tr>\n",
       "      <th>19</th>\n",
       "      <td>Washington Football Team</td>\n",
       "      <td>-71.0</td>\n",
       "      <td>2.0</td>\n",
       "      <td>5.02</td>\n",
       "    </tr>\n",
       "    <tr>\n",
       "      <th>20</th>\n",
       "      <td>Green Bay Packers</td>\n",
       "      <td>25.0</td>\n",
       "      <td>7.0</td>\n",
       "      <td>12.21</td>\n",
       "    </tr>\n",
       "    <tr>\n",
       "      <th>21</th>\n",
       "      <td>Minnesota Vikings</td>\n",
       "      <td>6.0</td>\n",
       "      <td>3.0</td>\n",
       "      <td>7.77</td>\n",
       "    </tr>\n",
       "    <tr>\n",
       "      <th>22</th>\n",
       "      <td>Chicago Bears</td>\n",
       "      <td>-72.0</td>\n",
       "      <td>3.0</td>\n",
       "      <td>6.01</td>\n",
       "    </tr>\n",
       "    <tr>\n",
       "      <th>23</th>\n",
       "      <td>Detroit Lions</td>\n",
       "      <td>-110.0</td>\n",
       "      <td>0.0</td>\n",
       "      <td>2.14</td>\n",
       "    </tr>\n",
       "    <tr>\n",
       "      <th>24</th>\n",
       "      <td>Tampa Bay Buccaneers</td>\n",
       "      <td>77.0</td>\n",
       "      <td>6.0</td>\n",
       "      <td>12.40</td>\n",
       "    </tr>\n",
       "    <tr>\n",
       "      <th>25</th>\n",
       "      <td>New Orleans Saints</td>\n",
       "      <td>48.0</td>\n",
       "      <td>5.0</td>\n",
       "      <td>10.73</td>\n",
       "    </tr>\n",
       "    <tr>\n",
       "      <th>26</th>\n",
       "      <td>Carolina Panthers</td>\n",
       "      <td>6.0</td>\n",
       "      <td>4.0</td>\n",
       "      <td>8.77</td>\n",
       "    </tr>\n",
       "    <tr>\n",
       "      <th>27</th>\n",
       "      <td>Atlanta Falcons</td>\n",
       "      <td>-47.0</td>\n",
       "      <td>3.0</td>\n",
       "      <td>6.57</td>\n",
       "    </tr>\n",
       "    <tr>\n",
       "      <th>28</th>\n",
       "      <td>Arizona Cardinals</td>\n",
       "      <td>108.0</td>\n",
       "      <td>7.0</td>\n",
       "      <td>14.11</td>\n",
       "    </tr>\n",
       "    <tr>\n",
       "      <th>29</th>\n",
       "      <td>Los Angeles Rams</td>\n",
       "      <td>77.0</td>\n",
       "      <td>7.0</td>\n",
       "      <td>13.40</td>\n",
       "    </tr>\n",
       "    <tr>\n",
       "      <th>30</th>\n",
       "      <td>San Francisco 49ers</td>\n",
       "      <td>-3.0</td>\n",
       "      <td>3.0</td>\n",
       "      <td>7.58</td>\n",
       "    </tr>\n",
       "    <tr>\n",
       "      <th>31</th>\n",
       "      <td>Seattle Seahawks</td>\n",
       "      <td>12.0</td>\n",
       "      <td>3.0</td>\n",
       "      <td>7.92</td>\n",
       "    </tr>\n",
       "  </tbody>\n",
       "</table>\n",
       "</div>"
      ],
      "text/plain": [
       "                        Team  Wk 8 Pts Margin  Wk 8 Wins  Wk 17 Predicted Wins\n",
       "0              Buffalo Bills            120.0        5.0                 12.37\n",
       "1       New England Patriots             42.0        4.0                  9.60\n",
       "2              New York Jets            -92.0        2.0                  4.56\n",
       "3             Miami Dolphins            -95.0        1.0                  3.49\n",
       "4           Baltimore Ravens             23.0        5.0                 10.16\n",
       "5         Cincinnati Bengals             58.0        5.0                 10.96\n",
       "6        Pittsburgh Steelers            -10.0        4.0                  8.42\n",
       "7           Cleveland Browns              3.0        4.0                  8.72\n",
       "8           Tennessee Titans             32.0        6.0                 11.37\n",
       "9         Indianapolis Colts             17.0        3.0                  8.04\n",
       "10      Jacksonville Jaguars            -80.0        1.0                  3.83\n",
       "11            Houston Texans           -122.0        1.0                  2.87\n",
       "12         Las Vegas Raiders             14.0        5.0                  9.97\n",
       "13      Los Angeles Chargers             -5.0        4.0                  8.53\n",
       "14            Denver Broncos             20.0        4.0                  9.09\n",
       "15        Kansas City Chiefs            -12.0        4.0                  8.37\n",
       "16            Dallas Cowboys             63.0        6.0                 12.08\n",
       "17       Philadelphia Eagles             12.0        3.0                  7.92\n",
       "18           New York Giants            -44.0        2.0                  5.64\n",
       "19  Washington Football Team            -71.0        2.0                  5.02\n",
       "20         Green Bay Packers             25.0        7.0                 12.21\n",
       "21         Minnesota Vikings              6.0        3.0                  7.77\n",
       "22             Chicago Bears            -72.0        3.0                  6.01\n",
       "23             Detroit Lions           -110.0        0.0                  2.14\n",
       "24      Tampa Bay Buccaneers             77.0        6.0                 12.40\n",
       "25        New Orleans Saints             48.0        5.0                 10.73\n",
       "26         Carolina Panthers              6.0        4.0                  8.77\n",
       "27           Atlanta Falcons            -47.0        3.0                  6.57\n",
       "28         Arizona Cardinals            108.0        7.0                 14.11\n",
       "29          Los Angeles Rams             77.0        7.0                 13.40\n",
       "30       San Francisco 49ers             -3.0        3.0                  7.58\n",
       "31          Seattle Seahawks             12.0        3.0                  7.92"
      ]
     },
     "execution_count": 90,
     "metadata": {},
     "output_type": "execute_result"
    }
   ],
   "source": [
    "new_df"
   ]
  },
  {
   "cell_type": "code",
   "execution_count": 91,
   "metadata": {},
   "outputs": [
    {
     "data": {
      "text/markdown": [
       "Uploading report and associated data - *please wait...*"
      ],
      "text/plain": [
       "<IPython.core.display.Markdown object>"
      ]
     },
     "metadata": {},
     "output_type": "display_data"
    },
    {
     "data": {
      "text/markdown": [
       "Your report only contains a single element - did you know you can include additional plots, tables and text in a single report? Check out [the docs](https://docs.datapane.com/reports/blocks/layout-pages-and-selects) for more info"
      ],
      "text/plain": [
       "<IPython.core.display.Markdown object>"
      ]
     },
     "metadata": {},
     "output_type": "display_data"
    },
    {
     "data": {
      "text/markdown": [
       "Report successfully uploaded, click [here](https://datapane.com/u/wmblack23/reports/Y3YVgz7/projected-win-totals-for-the-2021-nfl-season/) to view and share your report"
      ],
      "text/plain": [
       "<IPython.core.display.Markdown object>"
      ]
     },
     "metadata": {},
     "output_type": "display_data"
    }
   ],
   "source": [
    "table = dp.DataTable(new_df)\n",
    "dp.Report(table).upload(name='Projected Win Totals for the 2021 NFL Season')"
   ]
  },
  {
   "cell_type": "code",
   "execution_count": 141,
   "metadata": {},
   "outputs": [
    {
     "data": {
      "application/vnd.plotly.v1+json": {
       "config": {
        "plotlyServerURL": "https://plot.ly"
       },
       "data": [
        {
         "customdata": [
          [
           "New England Patriots"
          ],
          [
           "Miami Dolphins"
          ],
          [
           "New York Jets"
          ],
          [
           "Buffalo Bills"
          ],
          [
           "Baltimore Colts"
          ],
          [
           "Pittsburgh Steelers"
          ],
          [
           "Houston Oilers"
          ],
          [
           "Cleveland Browns"
          ],
          [
           "Cincinnati Bengals"
          ],
          [
           "Denver Broncos"
          ],
          [
           "Oakland Raiders"
          ],
          [
           "Seattle Seahawks"
          ],
          [
           "San Diego Chargers"
          ],
          [
           "Kansas City Chiefs"
          ],
          [
           "Dallas Cowboys"
          ],
          [
           "Washington Redskins"
          ],
          [
           "New York Giants"
          ],
          [
           "Philadelphia Eagles"
          ],
          [
           "St. Louis Cardinals"
          ],
          [
           "Green Bay Packers"
          ],
          [
           "Minnesota Vikings"
          ],
          [
           "Tampa Bay Buccaneers"
          ],
          [
           "Chicago Bears"
          ],
          [
           "Detroit Lions"
          ],
          [
           "Los Angeles Rams"
          ],
          [
           "Atlanta Falcons"
          ],
          [
           "New Orleans Saints"
          ],
          [
           "San Francisco 49ers"
          ],
          [
           "New England Patriots"
          ],
          [
           "Miami Dolphins"
          ],
          [
           "New York Jets"
          ],
          [
           "Buffalo Bills"
          ],
          [
           "Baltimore Colts"
          ],
          [
           "Pittsburgh Steelers"
          ],
          [
           "Houston Oilers"
          ],
          [
           "Cleveland Browns"
          ],
          [
           "Cincinnati Bengals"
          ],
          [
           "San Diego Chargers"
          ],
          [
           "Denver Broncos"
          ],
          [
           "Oakland Raiders"
          ],
          [
           "Kansas City Chiefs"
          ],
          [
           "Seattle Seahawks"
          ],
          [
           "Dallas Cowboys"
          ],
          [
           "Philadelphia Eagles"
          ],
          [
           "Washington Redskins"
          ],
          [
           "New York Giants"
          ],
          [
           "St. Louis Cardinals"
          ],
          [
           "Tampa Bay Buccaneers"
          ],
          [
           "Minnesota Vikings"
          ],
          [
           "Chicago Bears"
          ],
          [
           "Green Bay Packers"
          ],
          [
           "Detroit Lions"
          ],
          [
           "Los Angeles Rams"
          ],
          [
           "New Orleans Saints"
          ],
          [
           "Atlanta Falcons"
          ],
          [
           "San Francisco 49ers"
          ],
          [
           "Buffalo Bills"
          ],
          [
           "New England Patriots"
          ],
          [
           "Miami Dolphins"
          ],
          [
           "Baltimore Colts"
          ],
          [
           "New York Jets"
          ],
          [
           "Cleveland Browns"
          ],
          [
           "Houston Oilers"
          ],
          [
           "Pittsburgh Steelers"
          ],
          [
           "Cincinnati Bengals"
          ],
          [
           "San Diego Chargers"
          ],
          [
           "Oakland Raiders"
          ],
          [
           "Kansas City Chiefs"
          ],
          [
           "Denver Broncos"
          ],
          [
           "Seattle Seahawks"
          ],
          [
           "Philadelphia Eagles"
          ],
          [
           "Dallas Cowboys"
          ],
          [
           "Washington Redskins"
          ],
          [
           "St. Louis Cardinals"
          ],
          [
           "New York Giants"
          ],
          [
           "Detroit Lions"
          ],
          [
           "Tampa Bay Buccaneers"
          ],
          [
           "Green Bay Packers"
          ],
          [
           "Minnesota Vikings"
          ],
          [
           "Chicago Bears"
          ],
          [
           "Atlanta Falcons"
          ],
          [
           "Los Angeles Rams"
          ],
          [
           "San Francisco 49ers"
          ],
          [
           "New Orleans Saints"
          ],
          [
           "Miami Dolphins"
          ],
          [
           "Buffalo Bills"
          ],
          [
           "New York Jets"
          ],
          [
           "New England Patriots"
          ],
          [
           "Baltimore Colts"
          ],
          [
           "Cincinnati Bengals"
          ],
          [
           "Pittsburgh Steelers"
          ],
          [
           "Houston Oilers"
          ],
          [
           "Cleveland Browns"
          ],
          [
           "Kansas City Chiefs"
          ],
          [
           "San Diego Chargers"
          ],
          [
           "Denver Broncos"
          ],
          [
           "Oakland Raiders"
          ],
          [
           "Seattle Seahawks"
          ],
          [
           "Philadelphia Eagles"
          ],
          [
           "Dallas Cowboys"
          ],
          [
           "New York Giants"
          ],
          [
           "St. Louis Cardinals"
          ],
          [
           "Washington Redskins"
          ],
          [
           "Minnesota Vikings"
          ],
          [
           "Tampa Bay Buccaneers"
          ],
          [
           "Detroit Lions"
          ],
          [
           "Green Bay Packers"
          ],
          [
           "Chicago Bears"
          ],
          [
           "San Francisco 49ers"
          ],
          [
           "Atlanta Falcons"
          ],
          [
           "Los Angeles Rams"
          ],
          [
           "New Orleans Saints"
          ],
          [
           "Miami Dolphins"
          ],
          [
           "Buffalo Bills"
          ],
          [
           "New England Patriots"
          ],
          [
           "Baltimore Colts"
          ],
          [
           "New York Jets"
          ],
          [
           "Pittsburgh Steelers"
          ],
          [
           "Cleveland Browns"
          ],
          [
           "Cincinnati Bengals"
          ],
          [
           "Houston Oilers"
          ],
          [
           "Los Angeles Raiders"
          ],
          [
           "Denver Broncos"
          ],
          [
           "Seattle Seahawks"
          ],
          [
           "Kansas City Chiefs"
          ],
          [
           "San Diego Chargers"
          ],
          [
           "Dallas Cowboys"
          ],
          [
           "Washington Redskins"
          ],
          [
           "Philadelphia Eagles"
          ],
          [
           "St. Louis Cardinals"
          ],
          [
           "New York Giants"
          ],
          [
           "Minnesota Vikings"
          ],
          [
           "Green Bay Packers"
          ],
          [
           "Detroit Lions"
          ],
          [
           "Chicago Bears"
          ],
          [
           "Tampa Bay Buccaneers"
          ],
          [
           "San Francisco 49ers"
          ],
          [
           "Los Angeles Rams"
          ],
          [
           "New Orleans Saints"
          ],
          [
           "Atlanta Falcons"
          ],
          [
           "Miami Dolphins"
          ],
          [
           "New York Jets"
          ],
          [
           "New England Patriots"
          ],
          [
           "Indianapolis Colts"
          ],
          [
           "Buffalo Bills"
          ],
          [
           "Pittsburgh Steelers"
          ],
          [
           "Cincinnati Bengals"
          ],
          [
           "Cleveland Browns"
          ],
          [
           "Houston Oilers"
          ],
          [
           "Denver Broncos"
          ],
          [
           "Los Angeles Raiders"
          ],
          [
           "Seattle Seahawks"
          ],
          [
           "Kansas City Chiefs"
          ],
          [
           "San Diego Chargers"
          ],
          [
           "Washington Redskins"
          ],
          [
           "St. Louis Cardinals"
          ],
          [
           "Dallas Cowboys"
          ],
          [
           "New York Giants"
          ],
          [
           "Philadelphia Eagles"
          ],
          [
           "Chicago Bears"
          ],
          [
           "Tampa Bay Buccaneers"
          ],
          [
           "Detroit Lions"
          ],
          [
           "Minnesota Vikings"
          ],
          [
           "Green Bay Packers"
          ],
          [
           "San Francisco 49ers"
          ],
          [
           "Los Angeles Rams"
          ],
          [
           "New Orleans Saints"
          ],
          [
           "Atlanta Falcons"
          ],
          [
           "New York Jets"
          ],
          [
           "Miami Dolphins"
          ],
          [
           "New England Patriots"
          ],
          [
           "Indianapolis Colts"
          ],
          [
           "Buffalo Bills"
          ],
          [
           "Cleveland Browns"
          ],
          [
           "Cincinnati Bengals"
          ],
          [
           "Pittsburgh Steelers"
          ],
          [
           "Houston Oilers"
          ],
          [
           "Los Angeles Raiders"
          ],
          [
           "Denver Broncos"
          ],
          [
           "Seattle Seahawks"
          ],
          [
           "San Diego Chargers"
          ],
          [
           "Kansas City Chiefs"
          ],
          [
           "Dallas Cowboys"
          ],
          [
           "New York Giants"
          ],
          [
           "Washington Redskins"
          ],
          [
           "Philadelphia Eagles"
          ],
          [
           "St. Louis Cardinals"
          ],
          [
           "Chicago Bears"
          ],
          [
           "Detroit Lions"
          ],
          [
           "Minnesota Vikings"
          ],
          [
           "Green Bay Packers"
          ],
          [
           "Tampa Bay Buccaneers"
          ],
          [
           "Los Angeles Rams"
          ],
          [
           "San Francisco 49ers"
          ],
          [
           "New Orleans Saints"
          ],
          [
           "Atlanta Falcons"
          ],
          [
           "New York Jets"
          ],
          [
           "New England Patriots"
          ],
          [
           "Miami Dolphins"
          ],
          [
           "Buffalo Bills"
          ],
          [
           "Indianapolis Colts"
          ],
          [
           "Cleveland Browns"
          ],
          [
           "Cincinnati Bengals"
          ],
          [
           "Pittsburgh Steelers"
          ],
          [
           "Houston Oilers"
          ],
          [
           "Denver Broncos"
          ],
          [
           "Kansas City Chiefs"
          ],
          [
           "Seattle Seahawks"
          ],
          [
           "Los Angeles Raiders"
          ],
          [
           "San Diego Chargers"
          ],
          [
           "New York Giants"
          ],
          [
           "Washington Redskins"
          ],
          [
           "Dallas Cowboys"
          ],
          [
           "Philadelphia Eagles"
          ],
          [
           "St. Louis Cardinals"
          ],
          [
           "Chicago Bears"
          ],
          [
           "Minnesota Vikings"
          ],
          [
           "Detroit Lions"
          ],
          [
           "Green Bay Packers"
          ],
          [
           "Tampa Bay Buccaneers"
          ],
          [
           "Los Angeles Rams"
          ],
          [
           "San Francisco 49ers"
          ],
          [
           "Atlanta Falcons"
          ],
          [
           "New Orleans Saints"
          ],
          [
           "Indianapolis Colts"
          ],
          [
           "New England Patriots"
          ],
          [
           "Miami Dolphins"
          ],
          [
           "Buffalo Bills"
          ],
          [
           "New York Jets"
          ],
          [
           "Houston Oilers"
          ],
          [
           "Cleveland Browns"
          ],
          [
           "Pittsburgh Steelers"
          ],
          [
           "Cincinnati Bengals"
          ],
          [
           "San Diego Chargers"
          ],
          [
           "Seattle Seahawks"
          ],
          [
           "Denver Broncos"
          ],
          [
           "Los Angeles Raiders"
          ],
          [
           "Kansas City Chiefs"
          ],
          [
           "Washington Redskins"
          ],
          [
           "Dallas Cowboys"
          ],
          [
           "Philadelphia Eagles"
          ],
          [
           "St. Louis Cardinals"
          ],
          [
           "New York Giants"
          ],
          [
           "Chicago Bears"
          ],
          [
           "Tampa Bay Buccaneers"
          ],
          [
           "Green Bay Packers"
          ],
          [
           "Minnesota Vikings"
          ],
          [
           "Detroit Lions"
          ],
          [
           "San Francisco 49ers"
          ],
          [
           "New Orleans Saints"
          ],
          [
           "Atlanta Falcons"
          ],
          [
           "Los Angeles Rams"
          ],
          [
           "Buffalo Bills"
          ],
          [
           "New York Jets"
          ],
          [
           "Miami Dolphins"
          ],
          [
           "Indianapolis Colts"
          ],
          [
           "New England Patriots"
          ],
          [
           "Cincinnati Bengals"
          ],
          [
           "Cleveland Browns"
          ],
          [
           "Houston Oilers"
          ],
          [
           "Pittsburgh Steelers"
          ],
          [
           "Seattle Seahawks"
          ],
          [
           "Denver Broncos"
          ],
          [
           "Los Angeles Raiders"
          ],
          [
           "San Diego Chargers"
          ],
          [
           "Kansas City Chiefs"
          ],
          [
           "New York Giants"
          ],
          [
           "Washington Redskins"
          ],
          [
           "Philadelphia Eagles"
          ],
          [
           "Phoenix Cardinals"
          ],
          [
           "Dallas Cowboys"
          ],
          [
           "Chicago Bears"
          ],
          [
           "Minnesota Vikings"
          ],
          [
           "Tampa Bay Buccaneers"
          ],
          [
           "Detroit Lions"
          ],
          [
           "Green Bay Packers"
          ],
          [
           "New Orleans Saints"
          ],
          [
           "Los Angeles Rams"
          ],
          [
           "San Francisco 49ers"
          ],
          [
           "Atlanta Falcons"
          ],
          [
           "Buffalo Bills"
          ],
          [
           "Indianapolis Colts"
          ],
          [
           "Miami Dolphins"
          ],
          [
           "New England Patriots"
          ],
          [
           "New York Jets"
          ],
          [
           "Cleveland Browns"
          ],
          [
           "Cincinnati Bengals"
          ],
          [
           "Houston Oilers"
          ],
          [
           "Pittsburgh Steelers"
          ],
          [
           "Denver Broncos"
          ],
          [
           "Los Angeles Raiders"
          ],
          [
           "Seattle Seahawks"
          ],
          [
           "Kansas City Chiefs"
          ],
          [
           "San Diego Chargers"
          ],
          [
           "New York Giants"
          ],
          [
           "Philadelphia Eagles"
          ],
          [
           "Washington Redskins"
          ],
          [
           "Phoenix Cardinals"
          ],
          [
           "Dallas Cowboys"
          ],
          [
           "Minnesota Vikings"
          ],
          [
           "Chicago Bears"
          ],
          [
           "Green Bay Packers"
          ],
          [
           "Tampa Bay Buccaneers"
          ],
          [
           "Detroit Lions"
          ],
          [
           "San Francisco 49ers"
          ],
          [
           "Los Angeles Rams"
          ],
          [
           "New Orleans Saints"
          ],
          [
           "Atlanta Falcons"
          ],
          [
           "Buffalo Bills"
          ],
          [
           "Miami Dolphins"
          ],
          [
           "New York Jets"
          ],
          [
           "Indianapolis Colts"
          ],
          [
           "New England Patriots"
          ],
          [
           "Cincinnati Bengals"
          ],
          [
           "Houston Oilers"
          ],
          [
           "Pittsburgh Steelers"
          ],
          [
           "Cleveland Browns"
          ],
          [
           "Los Angeles Raiders"
          ],
          [
           "Kansas City Chiefs"
          ],
          [
           "Seattle Seahawks"
          ],
          [
           "Denver Broncos"
          ],
          [
           "San Diego Chargers"
          ],
          [
           "New York Giants"
          ],
          [
           "Washington Redskins"
          ],
          [
           "Philadelphia Eagles"
          ],
          [
           "Dallas Cowboys"
          ],
          [
           "Phoenix Cardinals"
          ],
          [
           "Chicago Bears"
          ],
          [
           "Tampa Bay Buccaneers"
          ],
          [
           "Detroit Lions"
          ],
          [
           "Green Bay Packers"
          ],
          [
           "Minnesota Vikings"
          ],
          [
           "San Francisco 49ers"
          ],
          [
           "Atlanta Falcons"
          ],
          [
           "New Orleans Saints"
          ],
          [
           "Los Angeles Rams"
          ],
          [
           "Buffalo Bills"
          ],
          [
           "New York Jets"
          ],
          [
           "New England Patriots"
          ],
          [
           "Miami Dolphins"
          ],
          [
           "Indianapolis Colts"
          ],
          [
           "Houston Oilers"
          ],
          [
           "Pittsburgh Steelers"
          ],
          [
           "Cleveland Browns"
          ],
          [
           "Cincinnati Bengals"
          ],
          [
           "Denver Broncos"
          ],
          [
           "Kansas City Chiefs"
          ],
          [
           "Los Angeles Raiders"
          ],
          [
           "Seattle Seahawks"
          ],
          [
           "San Diego Chargers"
          ],
          [
           "Washington Redskins"
          ],
          [
           "Dallas Cowboys"
          ],
          [
           "New York Giants"
          ],
          [
           "Phoenix Cardinals"
          ],
          [
           "Philadelphia Eagles"
          ],
          [
           "Detroit Lions"
          ],
          [
           "Chicago Bears"
          ],
          [
           "Minnesota Vikings"
          ],
          [
           "Green Bay Packers"
          ],
          [
           "Tampa Bay Buccaneers"
          ],
          [
           "New Orleans Saints"
          ],
          [
           "Atlanta Falcons"
          ],
          [
           "San Francisco 49ers"
          ],
          [
           "Los Angeles Rams"
          ],
          [
           "Miami Dolphins"
          ],
          [
           "Buffalo Bills"
          ],
          [
           "Indianapolis Colts"
          ],
          [
           "New York Jets"
          ],
          [
           "New England Patriots"
          ],
          [
           "Pittsburgh Steelers"
          ],
          [
           "Houston Oilers"
          ],
          [
           "Cleveland Browns"
          ],
          [
           "Cincinnati Bengals"
          ],
          [
           "Denver Broncos"
          ],
          [
           "Kansas City Chiefs"
          ],
          [
           "San Diego Chargers"
          ],
          [
           "Los Angeles Raiders"
          ],
          [
           "Seattle Seahawks"
          ],
          [
           "Dallas Cowboys"
          ],
          [
           "Philadelphia Eagles"
          ],
          [
           "Washington Redskins"
          ],
          [
           "New York Giants"
          ],
          [
           "Phoenix Cardinals"
          ],
          [
           "Minnesota Vikings"
          ],
          [
           "Chicago Bears"
          ],
          [
           "Tampa Bay Buccaneers"
          ],
          [
           "Green Bay Packers"
          ],
          [
           "Detroit Lions"
          ],
          [
           "San Francisco 49ers"
          ],
          [
           "New Orleans Saints"
          ],
          [
           "Los Angeles Rams"
          ],
          [
           "Atlanta Falcons"
          ],
          [
           "Buffalo Bills"
          ],
          [
           "Miami Dolphins"
          ],
          [
           "New York Jets"
          ],
          [
           "Indianapolis Colts"
          ],
          [
           "New England Patriots"
          ],
          [
           "Cleveland Browns"
          ],
          [
           "Pittsburgh Steelers"
          ],
          [
           "Houston Oilers"
          ],
          [
           "Cincinnati Bengals"
          ],
          [
           "Kansas City Chiefs"
          ],
          [
           "Los Angeles Raiders"
          ],
          [
           "Seattle Seahawks"
          ],
          [
           "Denver Broncos"
          ],
          [
           "San Diego Chargers"
          ],
          [
           "New York Giants"
          ],
          [
           "Dallas Cowboys"
          ],
          [
           "Philadelphia Eagles"
          ],
          [
           "Phoenix Cardinals"
          ],
          [
           "Washington Redskins"
          ],
          [
           "Detroit Lions"
          ],
          [
           "Minnesota Vikings"
          ],
          [
           "Green Bay Packers"
          ],
          [
           "Chicago Bears"
          ],
          [
           "Tampa Bay Buccaneers"
          ],
          [
           "New Orleans Saints"
          ],
          [
           "San Francisco 49ers"
          ],
          [
           "Atlanta Falcons"
          ],
          [
           "Los Angeles Rams"
          ],
          [
           "Miami Dolphins"
          ],
          [
           "Buffalo Bills"
          ],
          [
           "New York Jets"
          ],
          [
           "New England Patriots"
          ],
          [
           "Indianapolis Colts"
          ],
          [
           "Cleveland Browns"
          ],
          [
           "Pittsburgh Steelers"
          ],
          [
           "Houston Oilers"
          ],
          [
           "Cincinnati Bengals"
          ],
          [
           "San Diego Chargers"
          ],
          [
           "Kansas City Chiefs"
          ],
          [
           "Los Angeles Raiders"
          ],
          [
           "Seattle Seahawks"
          ],
          [
           "Denver Broncos"
          ],
          [
           "Dallas Cowboys"
          ],
          [
           "Philadelphia Eagles"
          ],
          [
           "New York Giants"
          ],
          [
           "Arizona Cardinals"
          ],
          [
           "Washington Redskins"
          ],
          [
           "Minnesota Vikings"
          ],
          [
           "Chicago Bears"
          ],
          [
           "Green Bay Packers"
          ],
          [
           "Detroit Lions"
          ],
          [
           "Tampa Bay Buccaneers"
          ],
          [
           "San Francisco 49ers"
          ],
          [
           "Atlanta Falcons"
          ],
          [
           "New Orleans Saints"
          ],
          [
           "Los Angeles Rams"
          ],
          [
           "Buffalo Bills"
          ],
          [
           "Indianapolis Colts"
          ],
          [
           "Miami Dolphins"
          ],
          [
           "New England Patriots"
          ],
          [
           "New York Jets"
          ],
          [
           "Pittsburgh Steelers"
          ],
          [
           "Cincinnati Bengals"
          ],
          [
           "Cleveland Browns"
          ],
          [
           "Jacksonville Jaguars"
          ],
          [
           "Houston Oilers"
          ],
          [
           "Kansas City Chiefs"
          ],
          [
           "Oakland Raiders"
          ],
          [
           "San Diego Chargers"
          ],
          [
           "Denver Broncos"
          ],
          [
           "Seattle Seahawks"
          ],
          [
           "Dallas Cowboys"
          ],
          [
           "Philadelphia Eagles"
          ],
          [
           "Washington Redskins"
          ],
          [
           "New York Giants"
          ],
          [
           "Arizona Cardinals"
          ],
          [
           "Green Bay Packers"
          ],
          [
           "Chicago Bears"
          ],
          [
           "Tampa Bay Buccaneers"
          ],
          [
           "Minnesota Vikings"
          ],
          [
           "Detroit Lions"
          ],
          [
           "San Francisco 49ers"
          ],
          [
           "Atlanta Falcons"
          ],
          [
           "St. Louis Rams"
          ],
          [
           "Carolina Panthers"
          ],
          [
           "New Orleans Saints"
          ],
          [
           "Buffalo Bills"
          ],
          [
           "Indianapolis Colts"
          ],
          [
           "New England Patriots"
          ],
          [
           "Miami Dolphins"
          ],
          [
           "New York Jets"
          ],
          [
           "Pittsburgh Steelers"
          ],
          [
           "Houston Oilers"
          ],
          [
           "Jacksonville Jaguars"
          ],
          [
           "Baltimore Ravens"
          ],
          [
           "Cincinnati Bengals"
          ],
          [
           "Denver Broncos"
          ],
          [
           "Kansas City Chiefs"
          ],
          [
           "San Diego Chargers"
          ],
          [
           "Oakland Raiders"
          ],
          [
           "Seattle Seahawks"
          ],
          [
           "Washington Redskins"
          ],
          [
           "Philadelphia Eagles"
          ],
          [
           "Dallas Cowboys"
          ],
          [
           "Arizona Cardinals"
          ],
          [
           "New York Giants"
          ],
          [
           "Green Bay Packers"
          ],
          [
           "Minnesota Vikings"
          ],
          [
           "Detroit Lions"
          ],
          [
           "Chicago Bears"
          ],
          [
           "Tampa Bay Buccaneers"
          ],
          [
           "Carolina Panthers"
          ],
          [
           "San Francisco 49ers"
          ],
          [
           "St. Louis Rams"
          ],
          [
           "New Orleans Saints"
          ],
          [
           "Atlanta Falcons"
          ],
          [
           "New England Patriots"
          ],
          [
           "Miami Dolphins"
          ],
          [
           "New York Jets"
          ],
          [
           "Buffalo Bills"
          ],
          [
           "Indianapolis Colts"
          ],
          [
           "Pittsburgh Steelers"
          ],
          [
           "Jacksonville Jaguars"
          ],
          [
           "Tennessee Oilers"
          ],
          [
           "Baltimore Ravens"
          ],
          [
           "Cincinnati Bengals"
          ],
          [
           "Denver Broncos"
          ],
          [
           "Kansas City Chiefs"
          ],
          [
           "Seattle Seahawks"
          ],
          [
           "Oakland Raiders"
          ],
          [
           "San Diego Chargers"
          ],
          [
           "New York Giants"
          ],
          [
           "Washington Redskins"
          ],
          [
           "Dallas Cowboys"
          ],
          [
           "Philadelphia Eagles"
          ],
          [
           "Arizona Cardinals"
          ],
          [
           "Green Bay Packers"
          ],
          [
           "Tampa Bay Buccaneers"
          ],
          [
           "Minnesota Vikings"
          ],
          [
           "Detroit Lions"
          ],
          [
           "Chicago Bears"
          ],
          [
           "San Francisco 49ers"
          ],
          [
           "Carolina Panthers"
          ],
          [
           "St. Louis Rams"
          ],
          [
           "New Orleans Saints"
          ],
          [
           "Atlanta Falcons"
          ],
          [
           "Miami Dolphins"
          ],
          [
           "New York Jets"
          ],
          [
           "Buffalo Bills"
          ],
          [
           "New England Patriots"
          ],
          [
           "Indianapolis Colts"
          ],
          [
           "Jacksonville Jaguars"
          ],
          [
           "Pittsburgh Steelers"
          ],
          [
           "Tennessee Oilers"
          ],
          [
           "Baltimore Ravens"
          ],
          [
           "Cincinnati Bengals"
          ],
          [
           "Denver Broncos"
          ],
          [
           "Oakland Raiders"
          ],
          [
           "Seattle Seahawks"
          ],
          [
           "Kansas City Chiefs"
          ],
          [
           "San Diego Chargers"
          ],
          [
           "Dallas Cowboys"
          ],
          [
           "Arizona Cardinals"
          ],
          [
           "New York Giants"
          ],
          [
           "Philadelphia Eagles"
          ],
          [
           "Washington Redskins"
          ],
          [
           "Minnesota Vikings"
          ],
          [
           "Green Bay Packers"
          ],
          [
           "Tampa Bay Buccaneers"
          ],
          [
           "Chicago Bears"
          ],
          [
           "Detroit Lions"
          ],
          [
           "San Francisco 49ers"
          ],
          [
           "Atlanta Falcons"
          ],
          [
           "New Orleans Saints"
          ],
          [
           "St. Louis Rams"
          ],
          [
           "Carolina Panthers"
          ],
          [
           "Miami Dolphins"
          ],
          [
           "New England Patriots"
          ],
          [
           "Indianapolis Colts"
          ],
          [
           "Buffalo Bills"
          ],
          [
           "New York Jets"
          ],
          [
           "Jacksonville Jaguars"
          ],
          [
           "Tennessee Titans"
          ],
          [
           "Pittsburgh Steelers"
          ],
          [
           "Baltimore Ravens"
          ],
          [
           "Cincinnati Bengals"
          ],
          [
           "Cleveland Browns"
          ],
          [
           "Seattle Seahawks"
          ],
          [
           "Kansas City Chiefs"
          ],
          [
           "San Diego Chargers"
          ],
          [
           "Oakland Raiders"
          ],
          [
           "Denver Broncos"
          ],
          [
           "Washington Redskins"
          ],
          [
           "New York Giants"
          ],
          [
           "Dallas Cowboys"
          ],
          [
           "Arizona Cardinals"
          ],
          [
           "Philadelphia Eagles"
          ],
          [
           "Detroit Lions"
          ],
          [
           "Green Bay Packers"
          ],
          [
           "Minnesota Vikings"
          ],
          [
           "Tampa Bay Buccaneers"
          ],
          [
           "Chicago Bears"
          ],
          [
           "St. Louis Rams"
          ],
          [
           "San Francisco 49ers"
          ],
          [
           "Carolina Panthers"
          ],
          [
           "Atlanta Falcons"
          ],
          [
           "New Orleans Saints"
          ],
          [
           "New York Jets"
          ],
          [
           "Miami Dolphins"
          ],
          [
           "Indianapolis Colts"
          ],
          [
           "Buffalo Bills"
          ],
          [
           "New England Patriots"
          ],
          [
           "Tennessee Titans"
          ],
          [
           "Baltimore Ravens"
          ],
          [
           "Pittsburgh Steelers"
          ],
          [
           "Jacksonville Jaguars"
          ],
          [
           "Cleveland Browns"
          ],
          [
           "Cincinnati Bengals"
          ],
          [
           "Oakland Raiders"
          ],
          [
           "Kansas City Chiefs"
          ],
          [
           "Denver Broncos"
          ],
          [
           "Seattle Seahawks"
          ],
          [
           "San Diego Chargers"
          ],
          [
           "Washington Redskins"
          ],
          [
           "New York Giants"
          ],
          [
           "Philadelphia Eagles"
          ],
          [
           "Dallas Cowboys"
          ],
          [
           "Arizona Cardinals"
          ],
          [
           "Minnesota Vikings"
          ],
          [
           "Detroit Lions"
          ],
          [
           "Tampa Bay Buccaneers"
          ],
          [
           "Green Bay Packers"
          ],
          [
           "Chicago Bears"
          ],
          [
           "St. Louis Rams"
          ],
          [
           "New Orleans Saints"
          ],
          [
           "Carolina Panthers"
          ],
          [
           "San Francisco 49ers"
          ],
          [
           "Atlanta Falcons"
          ],
          [
           "Miami Dolphins"
          ],
          [
           "New York Jets"
          ],
          [
           "Indianapolis Colts"
          ],
          [
           "New England Patriots"
          ],
          [
           "Buffalo Bills"
          ],
          [
           "Pittsburgh Steelers"
          ],
          [
           "Baltimore Ravens"
          ],
          [
           "Cleveland Browns"
          ],
          [
           "Cincinnati Bengals"
          ],
          [
           "Tennessee Titans"
          ],
          [
           "Jacksonville Jaguars"
          ],
          [
           "Oakland Raiders"
          ],
          [
           "San Diego Chargers"
          ],
          [
           "Denver Broncos"
          ],
          [
           "Seattle Seahawks"
          ],
          [
           "Kansas City Chiefs"
          ],
          [
           "Philadelphia Eagles"
          ],
          [
           "New York Giants"
          ],
          [
           "Washington Redskins"
          ],
          [
           "Arizona Cardinals"
          ],
          [
           "Dallas Cowboys"
          ],
          [
           "Chicago Bears"
          ],
          [
           "Green Bay Packers"
          ],
          [
           "Tampa Bay Buccaneers"
          ],
          [
           "Minnesota Vikings"
          ],
          [
           "Detroit Lions"
          ],
          [
           "St. Louis Rams"
          ],
          [
           "San Francisco 49ers"
          ],
          [
           "New Orleans Saints"
          ],
          [
           "Atlanta Falcons"
          ],
          [
           "Carolina Panthers"
          ],
          [
           "Miami Dolphins"
          ],
          [
           "Buffalo Bills"
          ],
          [
           "New England Patriots"
          ],
          [
           "New York Jets"
          ],
          [
           "Pittsburgh Steelers"
          ],
          [
           "Cleveland Browns"
          ],
          [
           "Baltimore Ravens"
          ],
          [
           "Cincinnati Bengals"
          ],
          [
           "Indianapolis Colts"
          ],
          [
           "Tennessee Titans"
          ],
          [
           "Jacksonville Jaguars"
          ],
          [
           "Houston Texans"
          ],
          [
           "San Diego Chargers"
          ],
          [
           "Denver Broncos"
          ],
          [
           "Oakland Raiders"
          ],
          [
           "Kansas City Chiefs"
          ],
          [
           "Philadelphia Eagles"
          ],
          [
           "New York Giants"
          ],
          [
           "Washington Redskins"
          ],
          [
           "Dallas Cowboys"
          ],
          [
           "Green Bay Packers"
          ],
          [
           "Minnesota Vikings"
          ],
          [
           "Chicago Bears"
          ],
          [
           "Detroit Lions"
          ],
          [
           "Tampa Bay Buccaneers"
          ],
          [
           "New Orleans Saints"
          ],
          [
           "Atlanta Falcons"
          ],
          [
           "Carolina Panthers"
          ],
          [
           "San Francisco 49ers"
          ],
          [
           "Arizona Cardinals"
          ],
          [
           "St. Louis Rams"
          ],
          [
           "Seattle Seahawks"
          ],
          [
           "New England Patriots"
          ],
          [
           "Miami Dolphins"
          ],
          [
           "Buffalo Bills"
          ],
          [
           "New York Jets"
          ],
          [
           "Baltimore Ravens"
          ],
          [
           "Cincinnati Bengals"
          ],
          [
           "Cleveland Browns"
          ],
          [
           "Pittsburgh Steelers"
          ],
          [
           "Indianapolis Colts"
          ],
          [
           "Tennessee Titans"
          ],
          [
           "Houston Texans"
          ],
          [
           "Jacksonville Jaguars"
          ],
          [
           "Kansas City Chiefs"
          ],
          [
           "Denver Broncos"
          ],
          [
           "Oakland Raiders"
          ],
          [
           "San Diego Chargers"
          ],
          [
           "Dallas Cowboys"
          ],
          [
           "Philadelphia Eagles"
          ],
          [
           "Washington Redskins"
          ],
          [
           "New York Giants"
          ],
          [
           "Minnesota Vikings"
          ],
          [
           "Green Bay Packers"
          ],
          [
           "Chicago Bears"
          ],
          [
           "Detroit Lions"
          ],
          [
           "Carolina Panthers"
          ],
          [
           "Tampa Bay Buccaneers"
          ],
          [
           "New Orleans Saints"
          ],
          [
           "Atlanta Falcons"
          ],
          [
           "St. Louis Rams"
          ],
          [
           "Seattle Seahawks"
          ],
          [
           "San Francisco 49ers"
          ],
          [
           "Arizona Cardinals"
          ],
          [
           "New England Patriots"
          ],
          [
           "New York Jets"
          ],
          [
           "Buffalo Bills"
          ],
          [
           "Miami Dolphins"
          ],
          [
           "Pittsburgh Steelers"
          ],
          [
           "Baltimore Ravens"
          ],
          [
           "Cleveland Browns"
          ],
          [
           "Cincinnati Bengals"
          ],
          [
           "Jacksonville Jaguars"
          ],
          [
           "Indianapolis Colts"
          ],
          [
           "Houston Texans"
          ],
          [
           "Tennessee Titans"
          ],
          [
           "San Diego Chargers"
          ],
          [
           "Denver Broncos"
          ],
          [
           "Kansas City Chiefs"
          ],
          [
           "Oakland Raiders"
          ],
          [
           "Philadelphia Eagles"
          ],
          [
           "New York Giants"
          ],
          [
           "Dallas Cowboys"
          ],
          [
           "Washington Redskins"
          ],
          [
           "Minnesota Vikings"
          ],
          [
           "Detroit Lions"
          ],
          [
           "Green Bay Packers"
          ],
          [
           "Chicago Bears"
          ],
          [
           "Atlanta Falcons"
          ],
          [
           "New Orleans Saints"
          ],
          [
           "Tampa Bay Buccaneers"
          ],
          [
           "Carolina Panthers"
          ],
          [
           "Seattle Seahawks"
          ],
          [
           "St. Louis Rams"
          ],
          [
           "Arizona Cardinals"
          ],
          [
           "San Francisco 49ers"
          ],
          [
           "New England Patriots"
          ],
          [
           "Miami Dolphins"
          ],
          [
           "Buffalo Bills"
          ],
          [
           "New York Jets"
          ],
          [
           "Cincinnati Bengals"
          ],
          [
           "Pittsburgh Steelers"
          ],
          [
           "Baltimore Ravens"
          ],
          [
           "Cleveland Browns"
          ],
          [
           "Indianapolis Colts"
          ],
          [
           "Jacksonville Jaguars"
          ],
          [
           "Tennessee Titans"
          ],
          [
           "Houston Texans"
          ],
          [
           "Denver Broncos"
          ],
          [
           "Kansas City Chiefs"
          ],
          [
           "San Diego Chargers"
          ],
          [
           "Oakland Raiders"
          ],
          [
           "New York Giants"
          ],
          [
           "Dallas Cowboys"
          ],
          [
           "Washington Redskins"
          ],
          [
           "Philadelphia Eagles"
          ],
          [
           "Chicago Bears"
          ],
          [
           "Detroit Lions"
          ],
          [
           "Minnesota Vikings"
          ],
          [
           "Green Bay Packers"
          ],
          [
           "Tampa Bay Buccaneers"
          ],
          [
           "Carolina Panthers"
          ],
          [
           "Atlanta Falcons"
          ],
          [
           "New Orleans Saints"
          ],
          [
           "Seattle Seahawks"
          ],
          [
           "St. Louis Rams"
          ],
          [
           "Arizona Cardinals"
          ],
          [
           "San Francisco 49ers"
          ],
          [
           "New England Patriots"
          ],
          [
           "New York Jets"
          ],
          [
           "Buffalo Bills"
          ],
          [
           "Miami Dolphins"
          ],
          [
           "Baltimore Ravens"
          ],
          [
           "Cincinnati Bengals"
          ],
          [
           "Pittsburgh Steelers"
          ],
          [
           "Cleveland Browns"
          ],
          [
           "Indianapolis Colts"
          ],
          [
           "Jacksonville Jaguars"
          ],
          [
           "Tennessee Titans"
          ],
          [
           "Houston Texans"
          ],
          [
           "San Diego Chargers"
          ],
          [
           "Denver Broncos"
          ],
          [
           "Kansas City Chiefs"
          ],
          [
           "Oakland Raiders"
          ],
          [
           "New York Giants"
          ],
          [
           "Dallas Cowboys"
          ],
          [
           "Philadelphia Eagles"
          ],
          [
           "Washington Redskins"
          ],
          [
           "Chicago Bears"
          ],
          [
           "Minnesota Vikings"
          ],
          [
           "Green Bay Packers"
          ],
          [
           "Detroit Lions"
          ],
          [
           "New Orleans Saints"
          ],
          [
           "Atlanta Falcons"
          ],
          [
           "Carolina Panthers"
          ],
          [
           "Tampa Bay Buccaneers"
          ],
          [
           "Seattle Seahawks"
          ],
          [
           "St. Louis Rams"
          ],
          [
           "San Francisco 49ers"
          ],
          [
           "Arizona Cardinals"
          ],
          [
           "New England Patriots"
          ],
          [
           "Buffalo Bills"
          ],
          [
           "New York Jets"
          ],
          [
           "Miami Dolphins"
          ],
          [
           "Pittsburgh Steelers"
          ],
          [
           "Cleveland Browns"
          ],
          [
           "Baltimore Ravens"
          ],
          [
           "Cincinnati Bengals"
          ],
          [
           "Indianapolis Colts"
          ],
          [
           "Jacksonville Jaguars"
          ],
          [
           "Tennessee Titans"
          ],
          [
           "Houston Texans"
          ],
          [
           "San Diego Chargers"
          ],
          [
           "Kansas City Chiefs"
          ],
          [
           "Denver Broncos"
          ],
          [
           "Oakland Raiders"
          ],
          [
           "Dallas Cowboys"
          ],
          [
           "New York Giants"
          ],
          [
           "Washington Redskins"
          ],
          [
           "Philadelphia Eagles"
          ],
          [
           "Green Bay Packers"
          ],
          [
           "Detroit Lions"
          ],
          [
           "Chicago Bears"
          ],
          [
           "Minnesota Vikings"
          ],
          [
           "Carolina Panthers"
          ],
          [
           "Tampa Bay Buccaneers"
          ],
          [
           "New Orleans Saints"
          ],
          [
           "Atlanta Falcons"
          ],
          [
           "Seattle Seahawks"
          ],
          [
           "Arizona Cardinals"
          ],
          [
           "San Francisco 49ers"
          ],
          [
           "St. Louis Rams"
          ],
          [
           "New England Patriots"
          ],
          [
           "Buffalo Bills"
          ],
          [
           "New York Jets"
          ],
          [
           "Miami Dolphins"
          ],
          [
           "Pittsburgh Steelers"
          ],
          [
           "Baltimore Ravens"
          ],
          [
           "Cleveland Browns"
          ],
          [
           "Cincinnati Bengals"
          ],
          [
           "Tennessee Titans"
          ],
          [
           "Indianapolis Colts"
          ],
          [
           "Houston Texans"
          ],
          [
           "Jacksonville Jaguars"
          ],
          [
           "Denver Broncos"
          ],
          [
           "San Diego Chargers"
          ],
          [
           "Oakland Raiders"
          ],
          [
           "Kansas City Chiefs"
          ],
          [
           "New York Giants"
          ],
          [
           "Washington Redskins"
          ],
          [
           "Dallas Cowboys"
          ],
          [
           "Philadelphia Eagles"
          ],
          [
           "Chicago Bears"
          ],
          [
           "Green Bay Packers"
          ],
          [
           "Minnesota Vikings"
          ],
          [
           "Detroit Lions"
          ],
          [
           "Carolina Panthers"
          ],
          [
           "Tampa Bay Buccaneers"
          ],
          [
           "Atlanta Falcons"
          ],
          [
           "New Orleans Saints"
          ],
          [
           "Arizona Cardinals"
          ],
          [
           "Seattle Seahawks"
          ],
          [
           "St. Louis Rams"
          ],
          [
           "San Francisco 49ers"
          ],
          [
           "New England Patriots"
          ],
          [
           "New York Jets"
          ],
          [
           "Miami Dolphins"
          ],
          [
           "Buffalo Bills"
          ],
          [
           "Cincinnati Bengals"
          ],
          [
           "Pittsburgh Steelers"
          ],
          [
           "Baltimore Ravens"
          ],
          [
           "Cleveland Browns"
          ],
          [
           "Indianapolis Colts"
          ],
          [
           "Houston Texans"
          ],
          [
           "Jacksonville Jaguars"
          ],
          [
           "Tennessee Titans"
          ],
          [
           "Denver Broncos"
          ],
          [
           "San Diego Chargers"
          ],
          [
           "Oakland Raiders"
          ],
          [
           "Kansas City Chiefs"
          ],
          [
           "Dallas Cowboys"
          ],
          [
           "Philadelphia Eagles"
          ],
          [
           "New York Giants"
          ],
          [
           "Washington Redskins"
          ],
          [
           "Minnesota Vikings"
          ],
          [
           "Green Bay Packers"
          ],
          [
           "Chicago Bears"
          ],
          [
           "Detroit Lions"
          ],
          [
           "New Orleans Saints"
          ],
          [
           "Atlanta Falcons"
          ],
          [
           "Carolina Panthers"
          ],
          [
           "Tampa Bay Buccaneers"
          ],
          [
           "Arizona Cardinals"
          ],
          [
           "San Francisco 49ers"
          ],
          [
           "Seattle Seahawks"
          ],
          [
           "St. Louis Rams"
          ],
          [
           "New England Patriots"
          ],
          [
           "New York Jets"
          ],
          [
           "Miami Dolphins"
          ],
          [
           "Buffalo Bills"
          ],
          [
           "Pittsburgh Steelers"
          ],
          [
           "Baltimore Ravens"
          ],
          [
           "Cleveland Browns"
          ],
          [
           "Cincinnati Bengals"
          ],
          [
           "Indianapolis Colts"
          ],
          [
           "Tennessee Titans"
          ],
          [
           "Houston Texans"
          ],
          [
           "Jacksonville Jaguars"
          ],
          [
           "Kansas City Chiefs"
          ],
          [
           "Oakland Raiders"
          ],
          [
           "San Diego Chargers"
          ],
          [
           "Denver Broncos"
          ],
          [
           "New York Giants"
          ],
          [
           "Philadelphia Eagles"
          ],
          [
           "Washington Redskins"
          ],
          [
           "Dallas Cowboys"
          ],
          [
           "Green Bay Packers"
          ],
          [
           "Chicago Bears"
          ],
          [
           "Detroit Lions"
          ],
          [
           "Minnesota Vikings"
          ],
          [
           "Atlanta Falcons"
          ],
          [
           "Tampa Bay Buccaneers"
          ],
          [
           "New Orleans Saints"
          ],
          [
           "Carolina Panthers"
          ],
          [
           "Seattle Seahawks"
          ],
          [
           "St. Louis Rams"
          ],
          [
           "Arizona Cardinals"
          ],
          [
           "San Francisco 49ers"
          ],
          [
           "New England Patriots"
          ],
          [
           "Buffalo Bills"
          ],
          [
           "New York Jets"
          ],
          [
           "Miami Dolphins"
          ],
          [
           "Pittsburgh Steelers"
          ],
          [
           "Baltimore Ravens"
          ],
          [
           "Cincinnati Bengals"
          ],
          [
           "Cleveland Browns"
          ],
          [
           "Houston Texans"
          ],
          [
           "Tennessee Titans"
          ],
          [
           "Jacksonville Jaguars"
          ],
          [
           "Indianapolis Colts"
          ],
          [
           "San Diego Chargers"
          ],
          [
           "Oakland Raiders"
          ],
          [
           "Kansas City Chiefs"
          ],
          [
           "Denver Broncos"
          ],
          [
           "New York Giants"
          ],
          [
           "Philadelphia Eagles"
          ],
          [
           "Dallas Cowboys"
          ],
          [
           "Washington Redskins"
          ],
          [
           "Green Bay Packers"
          ],
          [
           "Detroit Lions"
          ],
          [
           "Chicago Bears"
          ],
          [
           "Minnesota Vikings"
          ],
          [
           "New Orleans Saints"
          ],
          [
           "Atlanta Falcons"
          ],
          [
           "Tampa Bay Buccaneers"
          ],
          [
           "Carolina Panthers"
          ],
          [
           "San Francisco 49ers"
          ],
          [
           "Seattle Seahawks"
          ],
          [
           "Arizona Cardinals"
          ],
          [
           "St. Louis Rams"
          ],
          [
           "New England Patriots"
          ],
          [
           "Miami Dolphins"
          ],
          [
           "Buffalo Bills"
          ],
          [
           "New York Jets"
          ],
          [
           "Baltimore Ravens"
          ],
          [
           "Pittsburgh Steelers"
          ],
          [
           "Cincinnati Bengals"
          ],
          [
           "Cleveland Browns"
          ],
          [
           "Houston Texans"
          ],
          [
           "Indianapolis Colts"
          ],
          [
           "Tennessee Titans"
          ],
          [
           "Jacksonville Jaguars"
          ],
          [
           "Denver Broncos"
          ],
          [
           "San Diego Chargers"
          ],
          [
           "Oakland Raiders"
          ],
          [
           "Kansas City Chiefs"
          ],
          [
           "New York Giants"
          ],
          [
           "Dallas Cowboys"
          ],
          [
           "Philadelphia Eagles"
          ],
          [
           "Washington Redskins"
          ],
          [
           "Chicago Bears"
          ],
          [
           "Green Bay Packers"
          ],
          [
           "Minnesota Vikings"
          ],
          [
           "Detroit Lions"
          ],
          [
           "Atlanta Falcons"
          ],
          [
           "Tampa Bay Buccaneers"
          ],
          [
           "New Orleans Saints"
          ],
          [
           "Carolina Panthers"
          ],
          [
           "San Francisco 49ers"
          ],
          [
           "Seattle Seahawks"
          ],
          [
           "Arizona Cardinals"
          ],
          [
           "St. Louis Rams"
          ],
          [
           "New England Patriots"
          ],
          [
           "New York Jets"
          ],
          [
           "Miami Dolphins"
          ],
          [
           "Buffalo Bills"
          ],
          [
           "Cincinnati Bengals"
          ],
          [
           "Baltimore Ravens"
          ],
          [
           "Cleveland Browns"
          ],
          [
           "Pittsburgh Steelers"
          ],
          [
           "Indianapolis Colts"
          ],
          [
           "Tennessee Titans"
          ],
          [
           "Houston Texans"
          ],
          [
           "Jacksonville Jaguars"
          ],
          [
           "Kansas City Chiefs"
          ],
          [
           "Denver Broncos"
          ],
          [
           "San Diego Chargers"
          ],
          [
           "Oakland Raiders"
          ],
          [
           "Dallas Cowboys"
          ],
          [
           "Philadelphia Eagles"
          ],
          [
           "Washington Redskins"
          ],
          [
           "New York Giants"
          ],
          [
           "Green Bay Packers"
          ],
          [
           "Detroit Lions"
          ],
          [
           "Chicago Bears"
          ],
          [
           "Minnesota Vikings"
          ],
          [
           "New Orleans Saints"
          ],
          [
           "Carolina Panthers"
          ],
          [
           "Atlanta Falcons"
          ],
          [
           "Tampa Bay Buccaneers"
          ],
          [
           "Seattle Seahawks"
          ],
          [
           "San Francisco 49ers"
          ],
          [
           "Arizona Cardinals"
          ],
          [
           "St. Louis Rams"
          ],
          [
           "New England Patriots"
          ],
          [
           "Buffalo Bills"
          ],
          [
           "Miami Dolphins"
          ],
          [
           "New York Jets"
          ],
          [
           "Cincinnati Bengals"
          ],
          [
           "Pittsburgh Steelers"
          ],
          [
           "Baltimore Ravens"
          ],
          [
           "Cleveland Browns"
          ],
          [
           "Indianapolis Colts"
          ],
          [
           "Houston Texans"
          ],
          [
           "Tennessee Titans"
          ],
          [
           "Jacksonville Jaguars"
          ],
          [
           "Denver Broncos"
          ],
          [
           "San Diego Chargers"
          ],
          [
           "Kansas City Chiefs"
          ],
          [
           "Oakland Raiders"
          ],
          [
           "Dallas Cowboys"
          ],
          [
           "Philadelphia Eagles"
          ],
          [
           "New York Giants"
          ],
          [
           "Washington Redskins"
          ],
          [
           "Detroit Lions"
          ],
          [
           "Green Bay Packers"
          ],
          [
           "Minnesota Vikings"
          ],
          [
           "Chicago Bears"
          ],
          [
           "Carolina Panthers"
          ],
          [
           "New Orleans Saints"
          ],
          [
           "Atlanta Falcons"
          ],
          [
           "Tampa Bay Buccaneers"
          ],
          [
           "Arizona Cardinals"
          ],
          [
           "Seattle Seahawks"
          ],
          [
           "San Francisco 49ers"
          ],
          [
           "St. Louis Rams"
          ],
          [
           "New England Patriots"
          ],
          [
           "New York Jets"
          ],
          [
           "Buffalo Bills"
          ],
          [
           "Miami Dolphins"
          ],
          [
           "Cincinnati Bengals"
          ],
          [
           "Pittsburgh Steelers"
          ],
          [
           "Baltimore Ravens"
          ],
          [
           "Cleveland Browns"
          ],
          [
           "Houston Texans"
          ],
          [
           "Indianapolis Colts"
          ],
          [
           "Jacksonville Jaguars"
          ],
          [
           "Tennessee Titans"
          ],
          [
           "Denver Broncos"
          ],
          [
           "Oakland Raiders"
          ],
          [
           "Kansas City Chiefs"
          ],
          [
           "San Diego Chargers"
          ],
          [
           "New York Giants"
          ],
          [
           "Washington Redskins"
          ],
          [
           "Philadelphia Eagles"
          ],
          [
           "Dallas Cowboys"
          ],
          [
           "Green Bay Packers"
          ],
          [
           "Minnesota Vikings"
          ],
          [
           "Chicago Bears"
          ],
          [
           "Detroit Lions"
          ],
          [
           "Carolina Panthers"
          ],
          [
           "Atlanta Falcons"
          ],
          [
           "New Orleans Saints"
          ],
          [
           "Tampa Bay Buccaneers"
          ],
          [
           "Arizona Cardinals"
          ],
          [
           "St. Louis Rams"
          ],
          [
           "Seattle Seahawks"
          ],
          [
           "San Francisco 49ers"
          ],
          [
           "New England Patriots"
          ],
          [
           "Buffalo Bills"
          ],
          [
           "Miami Dolphins"
          ],
          [
           "New York Jets"
          ],
          [
           "Pittsburgh Steelers"
          ],
          [
           "Cincinnati Bengals"
          ],
          [
           "Baltimore Ravens"
          ],
          [
           "Cleveland Browns"
          ],
          [
           "Houston Texans"
          ],
          [
           "Tennessee Titans"
          ],
          [
           "Indianapolis Colts"
          ],
          [
           "Jacksonville Jaguars"
          ],
          [
           "Oakland Raiders"
          ],
          [
           "Denver Broncos"
          ],
          [
           "Kansas City Chiefs"
          ],
          [
           "San Diego Chargers"
          ],
          [
           "Dallas Cowboys"
          ],
          [
           "New York Giants"
          ],
          [
           "Philadelphia Eagles"
          ],
          [
           "Washington Redskins"
          ],
          [
           "Minnesota Vikings"
          ],
          [
           "Green Bay Packers"
          ],
          [
           "Detroit Lions"
          ],
          [
           "Chicago Bears"
          ],
          [
           "Atlanta Falcons"
          ],
          [
           "Tampa Bay Buccaneers"
          ],
          [
           "New Orleans Saints"
          ],
          [
           "Carolina Panthers"
          ],
          [
           "Seattle Seahawks"
          ],
          [
           "Arizona Cardinals"
          ],
          [
           "Los Angeles Rams"
          ],
          [
           "San Francisco 49ers"
          ],
          [
           "New England Patriots"
          ],
          [
           "Buffalo Bills"
          ],
          [
           "Miami Dolphins"
          ],
          [
           "New York Jets"
          ],
          [
           "Pittsburgh Steelers"
          ],
          [
           "Baltimore Ravens"
          ],
          [
           "Cincinnati Bengals"
          ],
          [
           "Cleveland Browns"
          ],
          [
           "Jacksonville Jaguars"
          ],
          [
           "Tennessee Titans"
          ],
          [
           "Houston Texans"
          ],
          [
           "Indianapolis Colts"
          ],
          [
           "Kansas City Chiefs"
          ],
          [
           "Denver Broncos"
          ],
          [
           "Los Angeles Chargers"
          ],
          [
           "Oakland Raiders"
          ],
          [
           "Philadelphia Eagles"
          ],
          [
           "Dallas Cowboys"
          ],
          [
           "Washington Redskins"
          ],
          [
           "New York Giants"
          ],
          [
           "Minnesota Vikings"
          ],
          [
           "Green Bay Packers"
          ],
          [
           "Detroit Lions"
          ],
          [
           "Chicago Bears"
          ],
          [
           "New Orleans Saints"
          ],
          [
           "Carolina Panthers"
          ],
          [
           "Atlanta Falcons"
          ],
          [
           "Tampa Bay Buccaneers"
          ],
          [
           "Los Angeles Rams"
          ],
          [
           "Seattle Seahawks"
          ],
          [
           "Arizona Cardinals"
          ],
          [
           "San Francisco 49ers"
          ],
          [
           "New England Patriots"
          ],
          [
           "Miami Dolphins"
          ],
          [
           "New York Jets"
          ],
          [
           "Buffalo Bills"
          ],
          [
           "Pittsburgh Steelers"
          ],
          [
           "Cincinnati Bengals"
          ],
          [
           "Baltimore Ravens"
          ],
          [
           "Cleveland Browns"
          ],
          [
           "Houston Texans"
          ],
          [
           "Tennessee Titans"
          ],
          [
           "Indianapolis Colts"
          ],
          [
           "Jacksonville Jaguars"
          ],
          [
           "Kansas City Chiefs"
          ],
          [
           "Los Angeles Chargers"
          ],
          [
           "Denver Broncos"
          ],
          [
           "Oakland Raiders"
          ],
          [
           "Washington Redskins"
          ],
          [
           "Philadelphia Eagles"
          ],
          [
           "Dallas Cowboys"
          ],
          [
           "New York Giants"
          ],
          [
           "Chicago Bears"
          ],
          [
           "Minnesota Vikings"
          ],
          [
           "Green Bay Packers"
          ],
          [
           "Detroit Lions"
          ],
          [
           "New Orleans Saints"
          ],
          [
           "Carolina Panthers"
          ],
          [
           "Atlanta Falcons"
          ],
          [
           "Tampa Bay Buccaneers"
          ],
          [
           "Los Angeles Rams"
          ],
          [
           "Seattle Seahawks"
          ],
          [
           "Arizona Cardinals"
          ],
          [
           "San Francisco 49ers"
          ],
          [
           "New England Patriots"
          ],
          [
           "Buffalo Bills"
          ],
          [
           "New York Jets"
          ],
          [
           "Miami Dolphins"
          ],
          [
           "Baltimore Ravens"
          ],
          [
           "Pittsburgh Steelers"
          ],
          [
           "Cleveland Browns"
          ],
          [
           "Cincinnati Bengals"
          ],
          [
           "Indianapolis Colts"
          ],
          [
           "Houston Texans"
          ],
          [
           "Tennessee Titans"
          ],
          [
           "Jacksonville Jaguars"
          ],
          [
           "Kansas City Chiefs"
          ],
          [
           "Oakland Raiders"
          ],
          [
           "Los Angeles Chargers"
          ],
          [
           "Denver Broncos"
          ],
          [
           "Dallas Cowboys"
          ],
          [
           "Philadelphia Eagles"
          ],
          [
           "New York Giants"
          ],
          [
           "Washington Redskins"
          ],
          [
           "Green Bay Packers"
          ],
          [
           "Minnesota Vikings"
          ],
          [
           "Detroit Lions"
          ],
          [
           "Chicago Bears"
          ],
          [
           "New Orleans Saints"
          ],
          [
           "Carolina Panthers"
          ],
          [
           "Tampa Bay Buccaneers"
          ],
          [
           "Atlanta Falcons"
          ],
          [
           "San Francisco 49ers"
          ],
          [
           "Seattle Seahawks"
          ],
          [
           "Los Angeles Rams"
          ],
          [
           "Arizona Cardinals"
          ],
          [
           "Buffalo Bills"
          ],
          [
           "Miami Dolphins"
          ],
          [
           "New England Patriots"
          ],
          [
           "New York Jets"
          ],
          [
           "Pittsburgh Steelers"
          ],
          [
           "Baltimore Ravens"
          ],
          [
           "Cleveland Browns"
          ],
          [
           "Cincinnati Bengals"
          ],
          [
           "Tennessee Titans"
          ],
          [
           "Indianapolis Colts"
          ],
          [
           "Houston Texans"
          ],
          [
           "Jacksonville Jaguars"
          ],
          [
           "Kansas City Chiefs"
          ],
          [
           "Las Vegas Raiders"
          ],
          [
           "Denver Broncos"
          ],
          [
           "Los Angeles Chargers"
          ],
          [
           "Philadelphia Eagles"
          ],
          [
           "Washington Football Team"
          ],
          [
           "Dallas Cowboys"
          ],
          [
           "New York Giants"
          ],
          [
           "Green Bay Packers"
          ],
          [
           "Chicago Bears"
          ],
          [
           "Detroit Lions"
          ],
          [
           "Minnesota Vikings"
          ],
          [
           "Tampa Bay Buccaneers"
          ],
          [
           "New Orleans Saints"
          ],
          [
           "Carolina Panthers"
          ],
          [
           "Atlanta Falcons"
          ],
          [
           "Seattle Seahawks"
          ],
          [
           "Arizona Cardinals"
          ],
          [
           "Los Angeles Rams"
          ],
          [
           "San Francisco 49ers"
          ]
         ],
         "hovertemplate": "Wk 8 Pts Margin=%{marker.color}<br>Wk 17 Wins=%{marker.size}<br>Team=%{customdata[0]}<extra></extra>",
         "legendgroup": "",
         "marker": {
          "color": [
           39,
           55,
           43,
           -30,
           -92,
           101,
           7,
           -7,
           -80,
           30,
           23,
           -13,
           -37,
           -64,
           71,
           33,
           19,
           7,
           -87,
           47,
           7,
           8,
           -14,
           -49,
           62,
           -21,
           -9,
           -49,
           91,
           20,
           -30,
           32,
           -51,
           65,
           -6,
           -12,
           -51,
           88,
           -26,
           -2,
           28,
           -9,
           68,
           26,
           50,
           -37,
           -28,
           35,
           -39,
           -17,
           -26,
           -66,
           -24,
           12,
           -21,
           -70,
           58,
           58,
           -48,
           4,
           -47,
           15,
           9,
           43,
           -17,
           71,
           23,
           -14,
           -21,
           -26,
           113,
           95,
           -11,
           -3,
           -127,
           52,
           -40,
           -54,
           -61,
           -11,
           53,
           70,
           -69,
           -115,
           34,
           53,
           -37,
           7,
           -123,
           39,
           16,
           -25,
           -22,
           44,
           66,
           42,
           -35,
           -67,
           71,
           30,
           43,
           -51,
           -56,
           -11,
           15,
           27,
           -48,
           -72,
           51,
           60,
           14,
           -65,
           36,
           -15,
           21,
           -32,
           -5,
           57,
           -31,
           -31,
           -88,
           51,
           3,
           0,
           25,
           -28,
           78,
           80,
           -28,
           -81,
           -30,
           0,
           -7,
           -7,
           -7,
           -81,
           91,
           17,
           6,
           6,
           150,
           44,
           -24,
           -55,
           -97,
           -5,
           -52,
           -48,
           -131,
           64,
           57,
           64,
           -8,
           13,
           74,
           42,
           -13,
           -35,
           -4,
           42,
           -57,
           -21,
           -40,
           -54,
           71,
           47,
           -21,
           -3,
           55,
           30,
           13,
           -14,
           -89,
           19,
           -24,
           29,
           -26,
           39,
           58,
           -11,
           -31,
           -30,
           72,
           50,
           -44,
           2,
           -41,
           125,
           -23,
           0,
           -46,
           -86,
           46,
           50,
           -44,
           -79,
           40,
           104,
           -35,
           -26,
           -125,
           -5,
           -37,
           -77,
           -33,
           73,
           9,
           58,
           17,
           -58,
           59,
           23,
           92,
           -45,
           -91,
           89,
           62,
           -20,
           -114,
           -91,
           17,
           77,
           35,
           2,
           37,
           -12,
           46,
           -61,
           2,
           27,
           66,
           1,
           -32,
           32,
           59,
           45,
           11,
           -115,
           69,
           10,
           -35,
           -29,
           -52,
           86,
           36,
           -15,
           -21,
           -94,
           45,
           57,
           -99,
           -64,
           32,
           18,
           -9,
           -6,
           -67,
           81,
           14,
           -22,
           -44,
           -19,
           27,
           -32,
           -67,
           -30,
           9,
           28,
           19,
           12,
           -28,
           74,
           46,
           -65,
           -51,
           1,
           43,
           90,
           24,
           -78,
           41,
           11,
           -29,
           -58,
           -83,
           79,
           64,
           13,
           -70,
           51,
           30,
           -12,
           -28,
           -24,
           76,
           26,
           7,
           -17,
           -126,
           23,
           46,
           4,
           -37,
           -75,
           70,
           8,
           52,
           -42,
           51,
           62,
           -39,
           -57,
           -96,
           1,
           29,
           12,
           -65,
           48,
           53,
           9,
           -10,
           22,
           75,
           41,
           -1,
           -46,
           -72,
           77,
           -25,
           -11,
           -29,
           -9,
           56,
           -1,
           -35,
           -40,
           75,
           16,
           -42,
           -41,
           -138,
           94,
           -12,
           -16,
           -99,
           24,
           61,
           -11,
           42,
           -42,
           149,
           14,
           5,
           -34,
           3,
           -23,
           -4,
           -13,
           -42,
           -56,
           97,
           -27,
           53,
           -33,
           63,
           68,
           -33,
           -43,
           -96,
           61,
           59,
           6,
           -65,
           -33,
           25,
           -32,
           -15,
           -105,
           55,
           66,
           31,
           -11,
           -64,
           46,
           14,
           -16,
           -61,
           12,
           91,
           35,
           -12,
           -46,
           58,
           34,
           24,
           -48,
           -81,
           19,
           48,
           4,
           -81,
           22,
           10,
           0,
           31,
           -43,
           74,
           40,
           -5,
           2,
           -62,
           21,
           -9,
           29,
           31,
           -91,
           26,
           29,
           -44,
           -38,
           34,
           -9,
           -6,
           -8,
           -19,
           87,
           7,
           -62,
           -79,
           59,
           28,
           -15,
           29,
           -36,
           97,
           49,
           -17,
           -66,
           -42,
           42,
           0,
           20,
           -18,
           -63,
           87,
           -26,
           -52,
           -21,
           28,
           -12,
           64,
           -78,
           -100,
           -20,
           9,
           9,
           -31,
           -17,
           61,
           90,
           -14,
           31,
           -44,
           85,
           -29,
           -4,
           -41,
           -66,
           34,
           37,
           -2,
           -7,
           -10,
           102,
           -1,
           -1,
           -29,
           -44,
           -13,
           10,
           34,
           47,
           -98,
           41,
           31,
           -2,
           -42,
           -32,
           62,
           43,
           -8,
           31,
           -78,
           62,
           11,
           29,
           -59,
           -58,
           135,
           11,
           38,
           -48,
           -74,
           73,
           77,
           -80,
           -59,
           -84,
           91,
           19,
           45,
           -34,
           -70,
           1,
           46,
           -5,
           16,
           -92,
           102,
           40,
           -19,
           6,
           -52,
           4,
           8,
           48,
           -23,
           -25,
           19,
           16,
           21,
           25,
           -98,
           89,
           -20,
           -46,
           -57,
           -55,
           35,
           44,
           20,
           48,
           -81,
           18,
           6,
           18,
           -32,
           -59,
           107,
           -12,
           55,
           8,
           -36,
           59,
           -47,
           -6,
           -83,
           -134,
           125,
           39,
           -27,
           -26,
           -45,
           99,
           24,
           -18,
           -28,
           -71,
           29,
           41,
           53,
           18,
           -29,
           111,
           26,
           28,
           -40,
           -145,
           -123,
           40,
           79,
           -23,
           4,
           -24,
           54,
           0,
           53,
           -71,
           -44,
           30,
           -11,
           25,
           -11,
           -32,
           151,
           -63,
           -9,
           -76,
           -41,
           25,
           58,
           49,
           -13,
           -28,
           48,
           45,
           43,
           -48,
           -102,
           -96,
           64,
           41,
           60,
           -79,
           -87,
           34,
           15,
           71,
           0,
           -89,
           47,
           9,
           39,
           9,
           -92,
           68,
           14,
           28,
           -44,
           -89,
           16,
           -18,
           3,
           25,
           -73,
           42,
           12,
           14,
           -16,
           -51,
           -1,
           56,
           60,
           10,
           -40,
           -8,
           47,
           8,
           -82,
           -67,
           -31,
           67,
           63,
           20,
           -27,
           -87,
           92,
           19,
           14,
           -16,
           -51,
           47,
           10,
           10,
           -77,
           29,
           13,
           -20,
           -136,
           1,
           -37,
           14,
           -72,
           54,
           37,
           41,
           19,
           97,
           -26,
           -47,
           -38,
           49,
           -30,
           -41,
           -64,
           80,
           47,
           48,
           -6,
           36,
           5,
           -19,
           -24,
           25,
           57,
           -5,
           -7,
           28,
           -18,
           -15,
           -47,
           82,
           57,
           -79,
           -57,
           116,
           43,
           -36,
           -70,
           34,
           -17,
           -36,
           -6,
           63,
           34,
           -71,
           -67,
           16,
           53,
           -19,
           -106,
           74,
           39,
           30,
           -95,
           44,
           52,
           -5,
           -62,
           36,
           27,
           0,
           -40,
           -18,
           40,
           15,
           -27,
           63,
           27,
           29,
           -85,
           82,
           38,
           -39,
           -25,
           21,
           -17,
           20,
           -13,
           0,
           -37,
           -15,
           -58,
           34,
           -7,
           -16,
           -64,
           -21,
           2,
           -31,
           -47,
           64,
           55,
           -32,
           -28,
           112,
           4,
           -50,
           -102,
           49,
           9,
           55,
           4,
           72,
           44,
           -4,
           -4,
           38,
           -8,
           -90,
           19,
           39,
           37,
           42,
           -97,
           54,
           -23,
           -51,
           -111,
           80,
           -33,
           -53,
           -43,
           54,
           13,
           12,
           -31,
           52,
           31,
           -66,
           -61,
           107,
           32,
           0,
           -56,
           46,
           62,
           46,
           -31,
           152,
           1,
           -24,
           -57,
           22,
           19,
           -26,
           -54,
           -28,
           -3,
           -101,
           -62,
           204,
           -38,
           -66,
           -78,
           93,
           -9,
           5,
           -34,
           122,
           21,
           28,
           -30,
           43,
           -11,
           -64,
           -18,
           69,
           41,
           -11,
           22,
           41,
           -22,
           -37,
           -6,
           -11,
           13,
           -30,
           -58,
           29,
           -10,
           -78,
           -120,
           21,
           22,
           12,
           -1,
           45,
           24,
           -8,
           -113,
           93,
           -13,
           -10,
           -10,
           -22,
           25,
           -70,
           -94,
           76,
           20,
           18,
           57,
           46,
           35,
           -13,
           -98,
           47,
           50,
           -1,
           21,
           29,
           -40,
           -89,
           -59,
           100,
           43,
           -1,
           -46,
           35,
           38,
           62,
           -131,
           106,
           30,
           -44,
           -97,
           44,
           26,
           -123,
           -76,
           61,
           70,
           29,
           -27,
           70,
           53,
           9,
           -92,
           119,
           22,
           -38,
           -107,
           14,
           7,
           -12,
           -144,
           51,
           49,
           -16,
           -80,
           45,
           20,
           -24,
           -17,
           51,
           74,
           -27,
           -61,
           41,
           44,
           36,
           -69,
           22,
           15,
           -15,
           -33,
           40,
           12,
           18,
           -15,
           36,
           -27,
           19,
           -65,
           -17,
           -1,
           -65,
           -41,
           42,
           64,
           20,
           -59,
           37,
           75,
           48,
           -33,
           61,
           -6,
           -65,
           -131,
           2,
           -18,
           -42,
           -67,
           10,
           27,
           -6,
           -23,
           89,
           92,
           20,
           -27,
           71,
           -5,
           -38,
           -20,
           80,
           -53,
           -40,
           -105,
           92,
           24,
           -56,
           -32,
           13,
           23,
           -21,
           -32,
           88,
           -35,
           -95,
           -85,
           52,
           10,
           -48,
           -89,
           73,
           -25,
           -35,
           -14,
           85,
           38,
           17,
           -13,
           71,
           31,
           -26,
           -39,
           86,
           6,
           -15,
           -49,
           35,
           -68,
           -15,
           -37,
           53,
           2,
           -31,
           -28,
           56,
           -1,
           -72,
           -178,
           94,
           125,
           24,
           -24,
           44,
           -35,
           -56,
           -82,
           54,
           20,
           7,
           -62,
           76,
           74,
           -18,
           -63,
           80,
           73,
           -14,
           -33,
           61,
           13,
           23,
           -84,
           -3,
           9,
           86,
           11,
           63,
           19,
           -65,
           -100,
           82,
           56,
           48,
           -76,
           46,
           47,
           -15,
           -29,
           36,
           31,
           -34,
           -42,
           -41,
           11,
           -29,
           -90,
           25,
           22,
           -7,
           -74,
           116,
           33,
           3,
           -19,
           66,
           21,
           -24,
           -49,
           -31,
           -30,
           -60,
           -34,
           56,
           5,
           13,
           -36,
           7,
           -20,
           23,
           -38,
           44,
           25,
           -62,
           -96,
           55,
           40,
           -21,
           -36,
           110,
           10,
           27,
           -98,
           85,
           40,
           -13,
           -58,
           20,
           -22,
           -6,
           -80,
           -30,
           -1,
           -22,
           -57,
           12,
           58,
           29,
           13,
           58,
           -8,
           62,
           -3,
           35,
           16,
           -7,
           -48,
           31,
           -37,
           -14,
           -5,
           22,
           39,
           -34,
           -75,
           37,
           38,
           -60,
           -29,
           36,
           22,
           -13,
           -83,
           73,
           -15,
           27,
           -104,
           56,
           -20,
           -2,
           -21,
           76,
           37,
           -20,
           -44,
           44,
           3,
           7,
           -37,
           46,
           6,
           1,
           -20,
           74,
           43,
           -72,
           -86,
           54,
           -45,
           -8,
           -113,
           32,
           -16,
           60,
           -41,
           30,
           -21,
           18,
           -36,
           85,
           32,
           -6,
           -80,
           12,
           22,
           17,
           -55,
           50,
           2,
           2,
           -15,
           51,
           26,
           -22,
           -32,
           109,
           40,
           -89,
           -63,
           189,
           12,
           -107,
           -161,
           58,
           5,
           -48,
           -86,
           7,
           24,
           13,
           10,
           45,
           -41,
           0,
           -26,
           66,
           3,
           -60,
           -96,
           52,
           79,
           -6,
           6,
           39,
           -5,
           -16,
           -85,
           130,
           12,
           40,
           -53,
           -1,
           58,
           -31,
           -144,
           69,
           71,
           -31,
           -20,
           24,
           62,
           -51,
           -66,
           101,
           -16,
           -36,
           -6,
           -19,
           -32,
           -81,
           -54,
           32,
           -5,
           -29,
           -31,
           82,
           9,
           -14,
           -15,
           41,
           57,
           41,
           35
          ],
          "coloraxis": "coloraxis",
          "size": [
           11,
           11,
           8,
           5,
           5,
           14,
           10,
           8,
           4,
           10,
           9,
           9,
           9,
           4,
           12,
           9,
           8,
           6,
           6,
           8,
           8,
           7,
           7,
           5,
           12,
           9,
           7,
           2,
           10,
           9,
           8,
           7,
           5,
           12,
           11,
           9,
           4,
           12,
           10,
           9,
           9,
           7,
           11,
           11,
           10,
           6,
           5,
           10,
           10,
           7,
           5,
           2,
           9,
           8,
           6,
           2,
           11,
           10,
           8,
           7,
           4,
           11,
           11,
           9,
           6,
           11,
           11,
           8,
           8,
           4,
           12,
           12,
           6,
           5,
           4,
           9,
           9,
           7,
           5,
           5,
           12,
           11,
           6,
           1,
           11,
           10,
           10,
           2,
           2,
           12,
           8,
           7,
           5,
           10,
           10,
           9,
           7,
           6,
           12,
           10,
           9,
           8,
           7,
           9,
           8,
           8,
           7,
           6,
           13,
           7,
           6,
           4,
           12,
           8,
           8,
           7,
           7,
           10,
           9,
           7,
           2,
           12,
           9,
           9,
           6,
           6,
           14,
           12,
           8,
           5,
           3,
           9,
           8,
           8,
           8,
           2,
           10,
           9,
           8,
           7,
           14,
           9,
           7,
           4,
           2,
           9,
           8,
           5,
           3,
           13,
           12,
           11,
           8,
           7,
           11,
           9,
           9,
           9,
           6,
           10,
           8,
           6,
           4,
           3,
           15,
           10,
           7,
           4,
           12,
           11,
           11,
           5,
           2,
           8,
           7,
           7,
           5,
           12,
           11,
           8,
           8,
           6,
           10,
           10,
           10,
           7,
           5,
           15,
           8,
           7,
           7,
           2,
           11,
           10,
           5,
           4,
           11,
           10,
           8,
           4,
           3,
           12,
           10,
           6,
           5,
           11,
           10,
           10,
           8,
           4,
           14,
           12,
           7,
           5,
           4,
           14,
           9,
           5,
           4,
           2,
           10,
           10,
           7,
           7,
           9,
           8,
           8,
           7,
           6,
           10,
           9,
           8,
           4,
           10,
           9,
           8,
           5,
           4,
           11,
           7,
           7,
           7,
           6,
           11,
           8,
           5,
           4,
           4,
           13,
           12,
           6,
           3,
           12,
           9,
           9,
           8,
           6,
           12,
           10,
           10,
           5,
           9,
           8,
           7,
           6,
           4,
           10,
           10,
           7,
           7,
           3,
           12,
           11,
           5,
           4,
           4,
           10,
           10,
           10,
           5,
           9,
           8,
           8,
           5,
           4,
           9,
           9,
           9,
           8,
           11,
           8,
           8,
           7,
           6,
           12,
           11,
           10,
           5,
           1,
           10,
           10,
           7,
           6,
           5,
           14,
           11,
           9,
           3,
           13,
           12,
           7,
           6,
           1,
           9,
           9,
           9,
           3,
           12,
           11,
           9,
           6,
           5,
           13,
           10,
           10,
           7,
           5,
           11,
           6,
           6,
           6,
           6,
           14,
           8,
           5,
           5,
           13,
           8,
           8,
           6,
           1,
           11,
           7,
           6,
           3,
           12,
           10,
           9,
           7,
           4,
           14,
           11,
           10,
           8,
           4,
           12,
           11,
           8,
           4,
           3,
           11,
           10,
           10,
           3,
           11,
           11,
           9,
           4,
           2,
           11,
           10,
           7,
           5,
           11,
           10,
           8,
           7,
           2,
           13,
           11,
           9,
           6,
           4,
           11,
           9,
           5,
           5,
           5,
           14,
           12,
           6,
           6,
           11,
           9,
           8,
           4,
           4,
           11,
           8,
           7,
           3,
           10,
           9,
           9,
           7,
           6,
           11,
           11,
           7,
           6,
           4,
           9,
           9,
           8,
           7,
           5,
           10,
           7,
           6,
           4,
           10,
           10,
           8,
           7,
           6,
           12,
           11,
           3,
           2,
           11,
           9,
           9,
           7,
           6,
           12,
           9,
           8,
           7,
           3,
           10,
           9,
           9,
           9,
           6,
           13,
           7,
           7,
           4,
           10,
           9,
           9,
           6,
           3,
           11,
           7,
           7,
           5,
           4,
           13,
           9,
           8,
           8,
           8,
           12,
           10,
           6,
           5,
           4,
           11,
           10,
           9,
           8,
           7,
           11,
           9,
           7,
           7,
           7,
           11,
           10,
           9,
           8,
           1,
           10,
           9,
           8,
           8,
           4,
           13,
           9,
           8,
           7,
           7,
           10,
           10,
           9,
           7,
           6,
           13,
           9,
           7,
           6,
           5,
           12,
           12,
           6,
           3,
           3,
           10,
           9,
           9,
           6,
           3,
           11,
           11,
           8,
           7,
           6,
           13,
           12,
           8,
           4,
           4,
           10,
           8,
           6,
           6,
           4,
           13,
           10,
           9,
           9,
           4,
           13,
           7,
           7,
           6,
           5,
           12,
           10,
           10,
           9,
           3,
           11,
           8,
           7,
           6,
           3,
           14,
           8,
           8,
           7,
           5,
           10,
           9,
           8,
           6,
           3,
           15,
           11,
           8,
           5,
           4,
           14,
           12,
           6,
           4,
           4,
           13,
           11,
           9,
           8,
           8,
           14,
           13,
           8,
           6,
           4,
           2,
           9,
           9,
           8,
           8,
           6,
           10,
           8,
           7,
           6,
           5,
           11,
           10,
           8,
           8,
           6,
           13,
           8,
           5,
           4,
           3,
           11,
           10,
           9,
           8,
           5,
           13,
           12,
           9,
           7,
           4,
           3,
           12,
           11,
           7,
           6,
           1,
           12,
           11,
           8,
           5,
           3,
           11,
           10,
           9,
           9,
           5,
           10,
           10,
           7,
           6,
           4,
           11,
           11,
           10,
           6,
           3,
           13,
           10,
           7,
           7,
           6,
           6,
           10,
           9,
           8,
           6,
           5,
           11,
           8,
           7,
           7,
           5,
           13,
           12,
           9,
           5,
           2,
           14,
           12,
           7,
           7,
           1,
           9,
           9,
           9,
           8,
           10,
           9,
           7,
           2,
           11,
           10,
           6,
           4,
           11,
           9,
           8,
           8,
           12,
           10,
           7,
           5,
           12,
           6,
           4,
           3,
           12,
           9,
           9,
           7,
           10,
           7,
           7,
           5,
           14,
           10,
           6,
           6,
           10,
           8,
           6,
           5,
           12,
           12,
           5,
           5,
           13,
           10,
           4,
           4,
           12,
           10,
           5,
           4,
           10,
           9,
           7,
           5,
           11,
           8,
           7,
           5,
           12,
           10,
           7,
           4,
           14,
           10,
           9,
           4,
           15,
           9,
           8,
           4,
           12,
           9,
           7,
           5,
           12,
           10,
           7,
           5,
           13,
           6,
           6,
           6,
           10,
           8,
           6,
           5,
           11,
           8,
           7,
           5,
           9,
           8,
           6,
           2,
           10,
           9,
           5,
           4,
           11,
           11,
           6,
           6,
           14,
           12,
           4,
           2,
           13,
           10,
           9,
           4,
           11,
           10,
           9,
           6,
           11,
           9,
           5,
           4,
           11,
           11,
           8,
           3,
           13,
           6,
           5,
           4,
           12,
           10,
           7,
           6,
           13,
           8,
           8,
           4,
           12,
           8,
           8,
           6,
           14,
           9,
           9,
           2,
           10,
           9,
           8,
           5,
           13,
           8,
           6,
           3,
           10,
           8,
           7,
           4,
           9,
           8,
           7,
           5,
           16,
           7,
           4,
           1,
           10,
           10,
           7,
           5,
           13,
           11,
           10,
           8,
           11,
           7,
           4,
           4,
           13,
           10,
           9,
           8,
           13,
           8,
           7,
           7,
           9,
           7,
           7,
           4,
           10,
           8,
           5,
           3,
           11,
           11,
           9,
           7,
           12,
           11,
           4,
           4,
           13,
           12,
           8,
           5,
           8,
           8,
           5,
           2,
           12,
           9,
           9,
           8,
           10,
           9,
           6,
           0,
           12,
           11,
           9,
           8,
           9,
           7,
           4,
           2,
           10,
           9,
           7,
           6,
           10,
           9,
           9,
           5,
           14,
           9,
           8,
           7,
           13,
           8,
           5,
           4,
           11,
           11,
           8,
           4,
           12,
           11,
           7,
           2,
           13,
           9,
           8,
           3,
           10,
           8,
           5,
           1,
           14,
           11,
           7,
           4,
           12,
           12,
           5,
           4,
           10,
           8,
           6,
           6,
           10,
           9,
           8,
           4,
           10,
           10,
           6,
           6,
           11,
           10,
           6,
           6,
           13,
           11,
           10,
           2,
           7,
           7,
           6,
           5,
           13,
           8,
           6,
           6,
           12,
           12,
           9,
           4,
           10,
           9,
           5,
           2,
           8,
           8,
           8,
           7,
           9,
           8,
           8,
           5,
           15,
           10,
           8,
           3,
           13,
           10,
           6,
           4,
           13,
           8,
           7,
           2,
           12,
           7,
           6,
           6,
           10,
           10,
           8,
           5,
           12,
           11,
           6,
           2,
           13,
           7,
           4,
           2,
           10,
           9,
           8,
           4,
           11,
           10,
           10,
           4,
           13,
           7,
           7,
           7,
           11,
           11,
           7,
           5,
           12,
           8,
           8,
           6,
           11,
           8,
           8,
           4,
           11,
           7,
           4,
           2,
           13,
           11,
           9,
           4,
           10,
           8,
           7,
           3,
           8,
           8,
           7,
           5,
           12,
           11,
           4,
           4,
           13,
           12,
           10,
           7,
           12,
           9,
           8,
           4,
           11,
           10,
           10,
           7,
           11,
           9,
           3,
           2,
           12,
           9,
           9,
           3,
           12,
           10,
           6,
           4,
           12,
           11,
           7,
           5,
           7,
           7,
           6,
           2,
           12,
           11,
           8,
           6,
           12,
           10,
           8,
           6,
           12,
           10,
           5,
           3,
           9,
           8,
           5,
           3,
           12,
           11,
           7,
           4,
           9,
           7,
           6,
           4,
           11,
           10,
           7,
           6,
           15,
           8,
           7,
           6,
           13,
           10,
           7,
           5,
           14,
           10,
           7,
           5,
           11,
           8,
           6,
           1,
           9,
           9,
           8,
           3,
           12,
           12,
           9,
           5,
           13,
           11,
           8,
           7,
           10,
           9,
           8,
           3,
           11,
           9,
           7,
           6,
           10,
           7,
           4,
           2,
           13,
           9,
           6,
           5,
           13,
           9,
           7,
           0,
           10,
           9,
           4,
           4,
           10,
           9,
           6,
           5,
           13,
           9,
           7,
           3,
           13,
           9,
           7,
           5,
           11,
           11,
           10,
           5,
           11,
           9,
           8,
           6,
           11,
           7,
           6,
           4,
           10,
           9,
           7,
           6,
           11,
           10,
           9,
           5,
           12,
           12,
           6,
           4,
           10,
           9,
           7,
           5,
           12,
           8,
           6,
           6,
           13,
           7,
           7,
           5,
           13,
           10,
           4,
           3,
           12,
           10,
           7,
           5,
           14,
           8,
           6,
           2,
           10,
           9,
           7,
           6,
           12,
           7,
           7,
           5,
           9,
           8,
           4,
           3,
           13,
           10,
           8,
           3,
           13,
           7,
           7,
           5,
           13,
           11,
           9,
           5,
           13,
           10,
           7,
           2,
           12,
           11,
           11,
           4,
           11,
           11,
           4,
           1,
           14,
           8,
           7,
           5,
           7,
           6,
           6,
           4,
           13,
           8,
           7,
           5,
           12,
           11,
           5,
           4,
           12,
           10,
           8,
           6
          ],
          "sizemode": "area",
          "sizeref": 0.05536332179930796,
          "symbol": "circle"
         },
         "mode": "markers",
         "name": "",
         "showlegend": false,
         "type": "scattergl",
         "x": [
          39,
          55,
          43,
          -30,
          -92,
          101,
          7,
          -7,
          -80,
          30,
          23,
          -13,
          -37,
          -64,
          71,
          33,
          19,
          7,
          -87,
          47,
          7,
          8,
          -14,
          -49,
          62,
          -21,
          -9,
          -49,
          91,
          20,
          -30,
          32,
          -51,
          65,
          -6,
          -12,
          -51,
          88,
          -26,
          -2,
          28,
          -9,
          68,
          26,
          50,
          -37,
          -28,
          35,
          -39,
          -17,
          -26,
          -66,
          -24,
          12,
          -21,
          -70,
          58,
          58,
          -48,
          4,
          -47,
          15,
          9,
          43,
          -17,
          71,
          23,
          -14,
          -21,
          -26,
          113,
          95,
          -11,
          -3,
          -127,
          52,
          -40,
          -54,
          -61,
          -11,
          53,
          70,
          -69,
          -115,
          34,
          53,
          -37,
          7,
          -123,
          39,
          16,
          -25,
          -22,
          44,
          66,
          42,
          -35,
          -67,
          71,
          30,
          43,
          -51,
          -56,
          -11,
          15,
          27,
          -48,
          -72,
          51,
          60,
          14,
          -65,
          36,
          -15,
          21,
          -32,
          -5,
          57,
          -31,
          -31,
          -88,
          51,
          3,
          0,
          25,
          -28,
          78,
          80,
          -28,
          -81,
          -30,
          0,
          -7,
          -7,
          -7,
          -81,
          91,
          17,
          6,
          6,
          150,
          44,
          -24,
          -55,
          -97,
          -5,
          -52,
          -48,
          -131,
          64,
          57,
          64,
          -8,
          13,
          74,
          42,
          -13,
          -35,
          -4,
          42,
          -57,
          -21,
          -40,
          -54,
          71,
          47,
          -21,
          -3,
          55,
          30,
          13,
          -14,
          -89,
          19,
          -24,
          29,
          -26,
          39,
          58,
          -11,
          -31,
          -30,
          72,
          50,
          -44,
          2,
          -41,
          125,
          -23,
          0,
          -46,
          -86,
          46,
          50,
          -44,
          -79,
          40,
          104,
          -35,
          -26,
          -125,
          -5,
          -37,
          -77,
          -33,
          73,
          9,
          58,
          17,
          -58,
          59,
          23,
          92,
          -45,
          -91,
          89,
          62,
          -20,
          -114,
          -91,
          17,
          77,
          35,
          2,
          37,
          -12,
          46,
          -61,
          2,
          27,
          66,
          1,
          -32,
          32,
          59,
          45,
          11,
          -115,
          69,
          10,
          -35,
          -29,
          -52,
          86,
          36,
          -15,
          -21,
          -94,
          45,
          57,
          -99,
          -64,
          32,
          18,
          -9,
          -6,
          -67,
          81,
          14,
          -22,
          -44,
          -19,
          27,
          -32,
          -67,
          -30,
          9,
          28,
          19,
          12,
          -28,
          74,
          46,
          -65,
          -51,
          1,
          43,
          90,
          24,
          -78,
          41,
          11,
          -29,
          -58,
          -83,
          79,
          64,
          13,
          -70,
          51,
          30,
          -12,
          -28,
          -24,
          76,
          26,
          7,
          -17,
          -126,
          23,
          46,
          4,
          -37,
          -75,
          70,
          8,
          52,
          -42,
          51,
          62,
          -39,
          -57,
          -96,
          1,
          29,
          12,
          -65,
          48,
          53,
          9,
          -10,
          22,
          75,
          41,
          -1,
          -46,
          -72,
          77,
          -25,
          -11,
          -29,
          -9,
          56,
          -1,
          -35,
          -40,
          75,
          16,
          -42,
          -41,
          -138,
          94,
          -12,
          -16,
          -99,
          24,
          61,
          -11,
          42,
          -42,
          149,
          14,
          5,
          -34,
          3,
          -23,
          -4,
          -13,
          -42,
          -56,
          97,
          -27,
          53,
          -33,
          63,
          68,
          -33,
          -43,
          -96,
          61,
          59,
          6,
          -65,
          -33,
          25,
          -32,
          -15,
          -105,
          55,
          66,
          31,
          -11,
          -64,
          46,
          14,
          -16,
          -61,
          12,
          91,
          35,
          -12,
          -46,
          58,
          34,
          24,
          -48,
          -81,
          19,
          48,
          4,
          -81,
          22,
          10,
          0,
          31,
          -43,
          74,
          40,
          -5,
          2,
          -62,
          21,
          -9,
          29,
          31,
          -91,
          26,
          29,
          -44,
          -38,
          34,
          -9,
          -6,
          -8,
          -19,
          87,
          7,
          -62,
          -79,
          59,
          28,
          -15,
          29,
          -36,
          97,
          49,
          -17,
          -66,
          -42,
          42,
          0,
          20,
          -18,
          -63,
          87,
          -26,
          -52,
          -21,
          28,
          -12,
          64,
          -78,
          -100,
          -20,
          9,
          9,
          -31,
          -17,
          61,
          90,
          -14,
          31,
          -44,
          85,
          -29,
          -4,
          -41,
          -66,
          34,
          37,
          -2,
          -7,
          -10,
          102,
          -1,
          -1,
          -29,
          -44,
          -13,
          10,
          34,
          47,
          -98,
          41,
          31,
          -2,
          -42,
          -32,
          62,
          43,
          -8,
          31,
          -78,
          62,
          11,
          29,
          -59,
          -58,
          135,
          11,
          38,
          -48,
          -74,
          73,
          77,
          -80,
          -59,
          -84,
          91,
          19,
          45,
          -34,
          -70,
          1,
          46,
          -5,
          16,
          -92,
          102,
          40,
          -19,
          6,
          -52,
          4,
          8,
          48,
          -23,
          -25,
          19,
          16,
          21,
          25,
          -98,
          89,
          -20,
          -46,
          -57,
          -55,
          35,
          44,
          20,
          48,
          -81,
          18,
          6,
          18,
          -32,
          -59,
          107,
          -12,
          55,
          8,
          -36,
          59,
          -47,
          -6,
          -83,
          -134,
          125,
          39,
          -27,
          -26,
          -45,
          99,
          24,
          -18,
          -28,
          -71,
          29,
          41,
          53,
          18,
          -29,
          111,
          26,
          28,
          -40,
          -145,
          -123,
          40,
          79,
          -23,
          4,
          -24,
          54,
          0,
          53,
          -71,
          -44,
          30,
          -11,
          25,
          -11,
          -32,
          151,
          -63,
          -9,
          -76,
          -41,
          25,
          58,
          49,
          -13,
          -28,
          48,
          45,
          43,
          -48,
          -102,
          -96,
          64,
          41,
          60,
          -79,
          -87,
          34,
          15,
          71,
          0,
          -89,
          47,
          9,
          39,
          9,
          -92,
          68,
          14,
          28,
          -44,
          -89,
          16,
          -18,
          3,
          25,
          -73,
          42,
          12,
          14,
          -16,
          -51,
          -1,
          56,
          60,
          10,
          -40,
          -8,
          47,
          8,
          -82,
          -67,
          -31,
          67,
          63,
          20,
          -27,
          -87,
          92,
          19,
          14,
          -16,
          -51,
          47,
          10,
          10,
          -77,
          29,
          13,
          -20,
          -136,
          1,
          -37,
          14,
          -72,
          54,
          37,
          41,
          19,
          97,
          -26,
          -47,
          -38,
          49,
          -30,
          -41,
          -64,
          80,
          47,
          48,
          -6,
          36,
          5,
          -19,
          -24,
          25,
          57,
          -5,
          -7,
          28,
          -18,
          -15,
          -47,
          82,
          57,
          -79,
          -57,
          116,
          43,
          -36,
          -70,
          34,
          -17,
          -36,
          -6,
          63,
          34,
          -71,
          -67,
          16,
          53,
          -19,
          -106,
          74,
          39,
          30,
          -95,
          44,
          52,
          -5,
          -62,
          36,
          27,
          0,
          -40,
          -18,
          40,
          15,
          -27,
          63,
          27,
          29,
          -85,
          82,
          38,
          -39,
          -25,
          21,
          -17,
          20,
          -13,
          0,
          -37,
          -15,
          -58,
          34,
          -7,
          -16,
          -64,
          -21,
          2,
          -31,
          -47,
          64,
          55,
          -32,
          -28,
          112,
          4,
          -50,
          -102,
          49,
          9,
          55,
          4,
          72,
          44,
          -4,
          -4,
          38,
          -8,
          -90,
          19,
          39,
          37,
          42,
          -97,
          54,
          -23,
          -51,
          -111,
          80,
          -33,
          -53,
          -43,
          54,
          13,
          12,
          -31,
          52,
          31,
          -66,
          -61,
          107,
          32,
          0,
          -56,
          46,
          62,
          46,
          -31,
          152,
          1,
          -24,
          -57,
          22,
          19,
          -26,
          -54,
          -28,
          -3,
          -101,
          -62,
          204,
          -38,
          -66,
          -78,
          93,
          -9,
          5,
          -34,
          122,
          21,
          28,
          -30,
          43,
          -11,
          -64,
          -18,
          69,
          41,
          -11,
          22,
          41,
          -22,
          -37,
          -6,
          -11,
          13,
          -30,
          -58,
          29,
          -10,
          -78,
          -120,
          21,
          22,
          12,
          -1,
          45,
          24,
          -8,
          -113,
          93,
          -13,
          -10,
          -10,
          -22,
          25,
          -70,
          -94,
          76,
          20,
          18,
          57,
          46,
          35,
          -13,
          -98,
          47,
          50,
          -1,
          21,
          29,
          -40,
          -89,
          -59,
          100,
          43,
          -1,
          -46,
          35,
          38,
          62,
          -131,
          106,
          30,
          -44,
          -97,
          44,
          26,
          -123,
          -76,
          61,
          70,
          29,
          -27,
          70,
          53,
          9,
          -92,
          119,
          22,
          -38,
          -107,
          14,
          7,
          -12,
          -144,
          51,
          49,
          -16,
          -80,
          45,
          20,
          -24,
          -17,
          51,
          74,
          -27,
          -61,
          41,
          44,
          36,
          -69,
          22,
          15,
          -15,
          -33,
          40,
          12,
          18,
          -15,
          36,
          -27,
          19,
          -65,
          -17,
          -1,
          -65,
          -41,
          42,
          64,
          20,
          -59,
          37,
          75,
          48,
          -33,
          61,
          -6,
          -65,
          -131,
          2,
          -18,
          -42,
          -67,
          10,
          27,
          -6,
          -23,
          89,
          92,
          20,
          -27,
          71,
          -5,
          -38,
          -20,
          80,
          -53,
          -40,
          -105,
          92,
          24,
          -56,
          -32,
          13,
          23,
          -21,
          -32,
          88,
          -35,
          -95,
          -85,
          52,
          10,
          -48,
          -89,
          73,
          -25,
          -35,
          -14,
          85,
          38,
          17,
          -13,
          71,
          31,
          -26,
          -39,
          86,
          6,
          -15,
          -49,
          35,
          -68,
          -15,
          -37,
          53,
          2,
          -31,
          -28,
          56,
          -1,
          -72,
          -178,
          94,
          125,
          24,
          -24,
          44,
          -35,
          -56,
          -82,
          54,
          20,
          7,
          -62,
          76,
          74,
          -18,
          -63,
          80,
          73,
          -14,
          -33,
          61,
          13,
          23,
          -84,
          -3,
          9,
          86,
          11,
          63,
          19,
          -65,
          -100,
          82,
          56,
          48,
          -76,
          46,
          47,
          -15,
          -29,
          36,
          31,
          -34,
          -42,
          -41,
          11,
          -29,
          -90,
          25,
          22,
          -7,
          -74,
          116,
          33,
          3,
          -19,
          66,
          21,
          -24,
          -49,
          -31,
          -30,
          -60,
          -34,
          56,
          5,
          13,
          -36,
          7,
          -20,
          23,
          -38,
          44,
          25,
          -62,
          -96,
          55,
          40,
          -21,
          -36,
          110,
          10,
          27,
          -98,
          85,
          40,
          -13,
          -58,
          20,
          -22,
          -6,
          -80,
          -30,
          -1,
          -22,
          -57,
          12,
          58,
          29,
          13,
          58,
          -8,
          62,
          -3,
          35,
          16,
          -7,
          -48,
          31,
          -37,
          -14,
          -5,
          22,
          39,
          -34,
          -75,
          37,
          38,
          -60,
          -29,
          36,
          22,
          -13,
          -83,
          73,
          -15,
          27,
          -104,
          56,
          -20,
          -2,
          -21,
          76,
          37,
          -20,
          -44,
          44,
          3,
          7,
          -37,
          46,
          6,
          1,
          -20,
          74,
          43,
          -72,
          -86,
          54,
          -45,
          -8,
          -113,
          32,
          -16,
          60,
          -41,
          30,
          -21,
          18,
          -36,
          85,
          32,
          -6,
          -80,
          12,
          22,
          17,
          -55,
          50,
          2,
          2,
          -15,
          51,
          26,
          -22,
          -32,
          109,
          40,
          -89,
          -63,
          189,
          12,
          -107,
          -161,
          58,
          5,
          -48,
          -86,
          7,
          24,
          13,
          10,
          45,
          -41,
          0,
          -26,
          66,
          3,
          -60,
          -96,
          52,
          79,
          -6,
          6,
          39,
          -5,
          -16,
          -85,
          130,
          12,
          40,
          -53,
          -1,
          58,
          -31,
          -144,
          69,
          71,
          -31,
          -20,
          24,
          62,
          -51,
          -66,
          101,
          -16,
          -36,
          -6,
          -19,
          -32,
          -81,
          -54,
          32,
          -5,
          -29,
          -31,
          82,
          9,
          -14,
          -15,
          41,
          57,
          41,
          35
         ],
         "xaxis": "x",
         "y": [
          11,
          11,
          8,
          5,
          5,
          14,
          10,
          8,
          4,
          10,
          9,
          9,
          9,
          4,
          12,
          9,
          8,
          6,
          6,
          8,
          8,
          7,
          7,
          5,
          12,
          9,
          7,
          2,
          10,
          9,
          8,
          7,
          5,
          12,
          11,
          9,
          4,
          12,
          10,
          9,
          9,
          7,
          11,
          11,
          10,
          6,
          5,
          10,
          10,
          7,
          5,
          2,
          9,
          8,
          6,
          2,
          11,
          10,
          8,
          7,
          4,
          11,
          11,
          9,
          6,
          11,
          11,
          8,
          8,
          4,
          12,
          12,
          6,
          5,
          4,
          9,
          9,
          7,
          5,
          5,
          12,
          11,
          6,
          1,
          11,
          10,
          10,
          2,
          2,
          12,
          8,
          7,
          5,
          10,
          10,
          9,
          7,
          6,
          12,
          10,
          9,
          8,
          7,
          9,
          8,
          8,
          7,
          6,
          13,
          7,
          6,
          4,
          12,
          8,
          8,
          7,
          7,
          10,
          9,
          7,
          2,
          12,
          9,
          9,
          6,
          6,
          14,
          12,
          8,
          5,
          3,
          9,
          8,
          8,
          8,
          2,
          10,
          9,
          8,
          7,
          14,
          9,
          7,
          4,
          2,
          9,
          8,
          5,
          3,
          13,
          12,
          11,
          8,
          7,
          11,
          9,
          9,
          9,
          6,
          10,
          8,
          6,
          4,
          3,
          15,
          10,
          7,
          4,
          12,
          11,
          11,
          5,
          2,
          8,
          7,
          7,
          5,
          12,
          11,
          8,
          8,
          6,
          10,
          10,
          10,
          7,
          5,
          15,
          8,
          7,
          7,
          2,
          11,
          10,
          5,
          4,
          11,
          10,
          8,
          4,
          3,
          12,
          10,
          6,
          5,
          11,
          10,
          10,
          8,
          4,
          14,
          12,
          7,
          5,
          4,
          14,
          9,
          5,
          4,
          2,
          10,
          10,
          7,
          7,
          9,
          8,
          8,
          7,
          6,
          10,
          9,
          8,
          4,
          10,
          9,
          8,
          5,
          4,
          11,
          7,
          7,
          7,
          6,
          11,
          8,
          5,
          4,
          4,
          13,
          12,
          6,
          3,
          12,
          9,
          9,
          8,
          6,
          12,
          10,
          10,
          5,
          9,
          8,
          7,
          6,
          4,
          10,
          10,
          7,
          7,
          3,
          12,
          11,
          5,
          4,
          4,
          10,
          10,
          10,
          5,
          9,
          8,
          8,
          5,
          4,
          9,
          9,
          9,
          8,
          11,
          8,
          8,
          7,
          6,
          12,
          11,
          10,
          5,
          1,
          10,
          10,
          7,
          6,
          5,
          14,
          11,
          9,
          3,
          13,
          12,
          7,
          6,
          1,
          9,
          9,
          9,
          3,
          12,
          11,
          9,
          6,
          5,
          13,
          10,
          10,
          7,
          5,
          11,
          6,
          6,
          6,
          6,
          14,
          8,
          5,
          5,
          13,
          8,
          8,
          6,
          1,
          11,
          7,
          6,
          3,
          12,
          10,
          9,
          7,
          4,
          14,
          11,
          10,
          8,
          4,
          12,
          11,
          8,
          4,
          3,
          11,
          10,
          10,
          3,
          11,
          11,
          9,
          4,
          2,
          11,
          10,
          7,
          5,
          11,
          10,
          8,
          7,
          2,
          13,
          11,
          9,
          6,
          4,
          11,
          9,
          5,
          5,
          5,
          14,
          12,
          6,
          6,
          11,
          9,
          8,
          4,
          4,
          11,
          8,
          7,
          3,
          10,
          9,
          9,
          7,
          6,
          11,
          11,
          7,
          6,
          4,
          9,
          9,
          8,
          7,
          5,
          10,
          7,
          6,
          4,
          10,
          10,
          8,
          7,
          6,
          12,
          11,
          3,
          2,
          11,
          9,
          9,
          7,
          6,
          12,
          9,
          8,
          7,
          3,
          10,
          9,
          9,
          9,
          6,
          13,
          7,
          7,
          4,
          10,
          9,
          9,
          6,
          3,
          11,
          7,
          7,
          5,
          4,
          13,
          9,
          8,
          8,
          8,
          12,
          10,
          6,
          5,
          4,
          11,
          10,
          9,
          8,
          7,
          11,
          9,
          7,
          7,
          7,
          11,
          10,
          9,
          8,
          1,
          10,
          9,
          8,
          8,
          4,
          13,
          9,
          8,
          7,
          7,
          10,
          10,
          9,
          7,
          6,
          13,
          9,
          7,
          6,
          5,
          12,
          12,
          6,
          3,
          3,
          10,
          9,
          9,
          6,
          3,
          11,
          11,
          8,
          7,
          6,
          13,
          12,
          8,
          4,
          4,
          10,
          8,
          6,
          6,
          4,
          13,
          10,
          9,
          9,
          4,
          13,
          7,
          7,
          6,
          5,
          12,
          10,
          10,
          9,
          3,
          11,
          8,
          7,
          6,
          3,
          14,
          8,
          8,
          7,
          5,
          10,
          9,
          8,
          6,
          3,
          15,
          11,
          8,
          5,
          4,
          14,
          12,
          6,
          4,
          4,
          13,
          11,
          9,
          8,
          8,
          14,
          13,
          8,
          6,
          4,
          2,
          9,
          9,
          8,
          8,
          6,
          10,
          8,
          7,
          6,
          5,
          11,
          10,
          8,
          8,
          6,
          13,
          8,
          5,
          4,
          3,
          11,
          10,
          9,
          8,
          5,
          13,
          12,
          9,
          7,
          4,
          3,
          12,
          11,
          7,
          6,
          1,
          12,
          11,
          8,
          5,
          3,
          11,
          10,
          9,
          9,
          5,
          10,
          10,
          7,
          6,
          4,
          11,
          11,
          10,
          6,
          3,
          13,
          10,
          7,
          7,
          6,
          6,
          10,
          9,
          8,
          6,
          5,
          11,
          8,
          7,
          7,
          5,
          13,
          12,
          9,
          5,
          2,
          14,
          12,
          7,
          7,
          1,
          9,
          9,
          9,
          8,
          10,
          9,
          7,
          2,
          11,
          10,
          6,
          4,
          11,
          9,
          8,
          8,
          12,
          10,
          7,
          5,
          12,
          6,
          4,
          3,
          12,
          9,
          9,
          7,
          10,
          7,
          7,
          5,
          14,
          10,
          6,
          6,
          10,
          8,
          6,
          5,
          12,
          12,
          5,
          5,
          13,
          10,
          4,
          4,
          12,
          10,
          5,
          4,
          10,
          9,
          7,
          5,
          11,
          8,
          7,
          5,
          12,
          10,
          7,
          4,
          14,
          10,
          9,
          4,
          15,
          9,
          8,
          4,
          12,
          9,
          7,
          5,
          12,
          10,
          7,
          5,
          13,
          6,
          6,
          6,
          10,
          8,
          6,
          5,
          11,
          8,
          7,
          5,
          9,
          8,
          6,
          2,
          10,
          9,
          5,
          4,
          11,
          11,
          6,
          6,
          14,
          12,
          4,
          2,
          13,
          10,
          9,
          4,
          11,
          10,
          9,
          6,
          11,
          9,
          5,
          4,
          11,
          11,
          8,
          3,
          13,
          6,
          5,
          4,
          12,
          10,
          7,
          6,
          13,
          8,
          8,
          4,
          12,
          8,
          8,
          6,
          14,
          9,
          9,
          2,
          10,
          9,
          8,
          5,
          13,
          8,
          6,
          3,
          10,
          8,
          7,
          4,
          9,
          8,
          7,
          5,
          16,
          7,
          4,
          1,
          10,
          10,
          7,
          5,
          13,
          11,
          10,
          8,
          11,
          7,
          4,
          4,
          13,
          10,
          9,
          8,
          13,
          8,
          7,
          7,
          9,
          7,
          7,
          4,
          10,
          8,
          5,
          3,
          11,
          11,
          9,
          7,
          12,
          11,
          4,
          4,
          13,
          12,
          8,
          5,
          8,
          8,
          5,
          2,
          12,
          9,
          9,
          8,
          10,
          9,
          6,
          0,
          12,
          11,
          9,
          8,
          9,
          7,
          4,
          2,
          10,
          9,
          7,
          6,
          10,
          9,
          9,
          5,
          14,
          9,
          8,
          7,
          13,
          8,
          5,
          4,
          11,
          11,
          8,
          4,
          12,
          11,
          7,
          2,
          13,
          9,
          8,
          3,
          10,
          8,
          5,
          1,
          14,
          11,
          7,
          4,
          12,
          12,
          5,
          4,
          10,
          8,
          6,
          6,
          10,
          9,
          8,
          4,
          10,
          10,
          6,
          6,
          11,
          10,
          6,
          6,
          13,
          11,
          10,
          2,
          7,
          7,
          6,
          5,
          13,
          8,
          6,
          6,
          12,
          12,
          9,
          4,
          10,
          9,
          5,
          2,
          8,
          8,
          8,
          7,
          9,
          8,
          8,
          5,
          15,
          10,
          8,
          3,
          13,
          10,
          6,
          4,
          13,
          8,
          7,
          2,
          12,
          7,
          6,
          6,
          10,
          10,
          8,
          5,
          12,
          11,
          6,
          2,
          13,
          7,
          4,
          2,
          10,
          9,
          8,
          4,
          11,
          10,
          10,
          4,
          13,
          7,
          7,
          7,
          11,
          11,
          7,
          5,
          12,
          8,
          8,
          6,
          11,
          8,
          8,
          4,
          11,
          7,
          4,
          2,
          13,
          11,
          9,
          4,
          10,
          8,
          7,
          3,
          8,
          8,
          7,
          5,
          12,
          11,
          4,
          4,
          13,
          12,
          10,
          7,
          12,
          9,
          8,
          4,
          11,
          10,
          10,
          7,
          11,
          9,
          3,
          2,
          12,
          9,
          9,
          3,
          12,
          10,
          6,
          4,
          12,
          11,
          7,
          5,
          7,
          7,
          6,
          2,
          12,
          11,
          8,
          6,
          12,
          10,
          8,
          6,
          12,
          10,
          5,
          3,
          9,
          8,
          5,
          3,
          12,
          11,
          7,
          4,
          9,
          7,
          6,
          4,
          11,
          10,
          7,
          6,
          15,
          8,
          7,
          6,
          13,
          10,
          7,
          5,
          14,
          10,
          7,
          5,
          11,
          8,
          6,
          1,
          9,
          9,
          8,
          3,
          12,
          12,
          9,
          5,
          13,
          11,
          8,
          7,
          10,
          9,
          8,
          3,
          11,
          9,
          7,
          6,
          10,
          7,
          4,
          2,
          13,
          9,
          6,
          5,
          13,
          9,
          7,
          0,
          10,
          9,
          4,
          4,
          10,
          9,
          6,
          5,
          13,
          9,
          7,
          3,
          13,
          9,
          7,
          5,
          11,
          11,
          10,
          5,
          11,
          9,
          8,
          6,
          11,
          7,
          6,
          4,
          10,
          9,
          7,
          6,
          11,
          10,
          9,
          5,
          12,
          12,
          6,
          4,
          10,
          9,
          7,
          5,
          12,
          8,
          6,
          6,
          13,
          7,
          7,
          5,
          13,
          10,
          4,
          3,
          12,
          10,
          7,
          5,
          14,
          8,
          6,
          2,
          10,
          9,
          7,
          6,
          12,
          7,
          7,
          5,
          9,
          8,
          4,
          3,
          13,
          10,
          8,
          3,
          13,
          7,
          7,
          5,
          13,
          11,
          9,
          5,
          13,
          10,
          7,
          2,
          12,
          11,
          11,
          4,
          11,
          11,
          4,
          1,
          14,
          8,
          7,
          5,
          7,
          6,
          6,
          4,
          13,
          8,
          7,
          5,
          12,
          11,
          5,
          4,
          12,
          10,
          8,
          6
         ],
         "yaxis": "y"
        },
        {
         "hovertemplate": "<b>OLS trendline</b><br>Wk 17 Wins = 0.0457016 * Wk 8 Pts Margin + 7.95981<br>R<sup>2</sup>=0.642703<br><br>Wk 8 Pts Margin=%{x}<br>Wk 17 Wins=%{y} <b>(trend)</b><extra></extra>",
         "legendgroup": "",
         "marker": {
          "symbol": "circle"
         },
         "mode": "lines",
         "name": "",
         "showlegend": false,
         "type": "scattergl",
         "x": [
          -178,
          -161,
          -145,
          -144,
          -144,
          -138,
          -136,
          -134,
          -131,
          -131,
          -131,
          -127,
          -126,
          -125,
          -123,
          -123,
          -123,
          -120,
          -115,
          -115,
          -114,
          -113,
          -113,
          -111,
          -107,
          -107,
          -106,
          -105,
          -105,
          -104,
          -102,
          -102,
          -101,
          -100,
          -100,
          -99,
          -99,
          -98,
          -98,
          -98,
          -98,
          -97,
          -97,
          -97,
          -96,
          -96,
          -96,
          -96,
          -96,
          -95,
          -95,
          -94,
          -94,
          -92,
          -92,
          -92,
          -92,
          -91,
          -91,
          -91,
          -90,
          -90,
          -89,
          -89,
          -89,
          -89,
          -89,
          -89,
          -88,
          -87,
          -87,
          -87,
          -86,
          -86,
          -86,
          -85,
          -85,
          -85,
          -84,
          -84,
          -83,
          -83,
          -83,
          -82,
          -82,
          -81,
          -81,
          -81,
          -81,
          -81,
          -81,
          -80,
          -80,
          -80,
          -80,
          -80,
          -79,
          -79,
          -79,
          -79,
          -78,
          -78,
          -78,
          -78,
          -78,
          -77,
          -77,
          -76,
          -76,
          -76,
          -75,
          -75,
          -74,
          -74,
          -73,
          -72,
          -72,
          -72,
          -72,
          -72,
          -71,
          -71,
          -71,
          -70,
          -70,
          -70,
          -70,
          -70,
          -69,
          -69,
          -68,
          -67,
          -67,
          -67,
          -67,
          -67,
          -67,
          -66,
          -66,
          -66,
          -66,
          -66,
          -66,
          -65,
          -65,
          -65,
          -65,
          -65,
          -65,
          -65,
          -65,
          -64,
          -64,
          -64,
          -64,
          -64,
          -64,
          -63,
          -63,
          -63,
          -63,
          -62,
          -62,
          -62,
          -62,
          -62,
          -62,
          -61,
          -61,
          -61,
          -61,
          -61,
          -60,
          -60,
          -60,
          -59,
          -59,
          -59,
          -59,
          -59,
          -58,
          -58,
          -58,
          -58,
          -58,
          -58,
          -57,
          -57,
          -57,
          -57,
          -57,
          -57,
          -56,
          -56,
          -56,
          -56,
          -56,
          -55,
          -55,
          -55,
          -54,
          -54,
          -54,
          -54,
          -53,
          -53,
          -53,
          -52,
          -52,
          -52,
          -52,
          -51,
          -51,
          -51,
          -51,
          -51,
          -51,
          -51,
          -51,
          -50,
          -49,
          -49,
          -49,
          -49,
          -48,
          -48,
          -48,
          -48,
          -48,
          -48,
          -48,
          -48,
          -48,
          -47,
          -47,
          -47,
          -47,
          -47,
          -46,
          -46,
          -46,
          -46,
          -46,
          -45,
          -45,
          -45,
          -44,
          -44,
          -44,
          -44,
          -44,
          -44,
          -44,
          -44,
          -44,
          -44,
          -43,
          -43,
          -43,
          -42,
          -42,
          -42,
          -42,
          -42,
          -42,
          -42,
          -42,
          -41,
          -41,
          -41,
          -41,
          -41,
          -41,
          -41,
          -41,
          -41,
          -40,
          -40,
          -40,
          -40,
          -40,
          -40,
          -40,
          -40,
          -39,
          -39,
          -39,
          -39,
          -38,
          -38,
          -38,
          -38,
          -38,
          -38,
          -37,
          -37,
          -37,
          -37,
          -37,
          -37,
          -37,
          -37,
          -37,
          -37,
          -37,
          -36,
          -36,
          -36,
          -36,
          -36,
          -36,
          -36,
          -36,
          -35,
          -35,
          -35,
          -35,
          -35,
          -35,
          -35,
          -35,
          -34,
          -34,
          -34,
          -34,
          -34,
          -34,
          -33,
          -33,
          -33,
          -33,
          -33,
          -33,
          -33,
          -33,
          -32,
          -32,
          -32,
          -32,
          -32,
          -32,
          -32,
          -32,
          -32,
          -32,
          -32,
          -32,
          -31,
          -31,
          -31,
          -31,
          -31,
          -31,
          -31,
          -31,
          -31,
          -31,
          -31,
          -31,
          -31,
          -30,
          -30,
          -30,
          -30,
          -30,
          -30,
          -30,
          -30,
          -30,
          -30,
          -29,
          -29,
          -29,
          -29,
          -29,
          -29,
          -29,
          -29,
          -29,
          -29,
          -28,
          -28,
          -28,
          -28,
          -28,
          -28,
          -28,
          -28,
          -28,
          -28,
          -27,
          -27,
          -27,
          -27,
          -27,
          -27,
          -27,
          -27,
          -26,
          -26,
          -26,
          -26,
          -26,
          -26,
          -26,
          -26,
          -26,
          -26,
          -26,
          -25,
          -25,
          -25,
          -25,
          -25,
          -24,
          -24,
          -24,
          -24,
          -24,
          -24,
          -24,
          -24,
          -24,
          -24,
          -23,
          -23,
          -23,
          -23,
          -23,
          -23,
          -22,
          -22,
          -22,
          -22,
          -22,
          -22,
          -22,
          -21,
          -21,
          -21,
          -21,
          -21,
          -21,
          -21,
          -21,
          -21,
          -21,
          -21,
          -21,
          -20,
          -20,
          -20,
          -20,
          -20,
          -20,
          -20,
          -20,
          -20,
          -20,
          -19,
          -19,
          -19,
          -19,
          -19,
          -19,
          -19,
          -18,
          -18,
          -18,
          -18,
          -18,
          -18,
          -18,
          -18,
          -17,
          -17,
          -17,
          -17,
          -17,
          -17,
          -17,
          -17,
          -17,
          -16,
          -16,
          -16,
          -16,
          -16,
          -16,
          -16,
          -16,
          -16,
          -15,
          -15,
          -15,
          -15,
          -15,
          -15,
          -15,
          -15,
          -15,
          -15,
          -15,
          -15,
          -15,
          -15,
          -14,
          -14,
          -14,
          -14,
          -14,
          -14,
          -14,
          -14,
          -13,
          -13,
          -13,
          -13,
          -13,
          -13,
          -13,
          -13,
          -13,
          -13,
          -13,
          -12,
          -12,
          -12,
          -12,
          -12,
          -12,
          -12,
          -12,
          -11,
          -11,
          -11,
          -11,
          -11,
          -11,
          -11,
          -11,
          -11,
          -11,
          -11,
          -11,
          -10,
          -10,
          -10,
          -10,
          -10,
          -9,
          -9,
          -9,
          -9,
          -9,
          -9,
          -9,
          -9,
          -8,
          -8,
          -8,
          -8,
          -8,
          -8,
          -8,
          -8,
          -7,
          -7,
          -7,
          -7,
          -7,
          -7,
          -7,
          -7,
          -7,
          -6,
          -6,
          -6,
          -6,
          -6,
          -6,
          -6,
          -6,
          -6,
          -6,
          -6,
          -6,
          -6,
          -5,
          -5,
          -5,
          -5,
          -5,
          -5,
          -5,
          -5,
          -5,
          -5,
          -5,
          -4,
          -4,
          -4,
          -4,
          -4,
          -3,
          -3,
          -3,
          -3,
          -3,
          -2,
          -2,
          -2,
          -2,
          -1,
          -1,
          -1,
          -1,
          -1,
          -1,
          -1,
          -1,
          -1,
          -1,
          -1,
          -1,
          0,
          0,
          0,
          0,
          0,
          0,
          0,
          0,
          0,
          0,
          0,
          1,
          1,
          1,
          1,
          1,
          1,
          1,
          2,
          2,
          2,
          2,
          2,
          2,
          2,
          2,
          2,
          3,
          3,
          3,
          3,
          3,
          3,
          4,
          4,
          4,
          4,
          4,
          4,
          4,
          5,
          5,
          5,
          5,
          5,
          6,
          6,
          6,
          6,
          6,
          6,
          6,
          6,
          7,
          7,
          7,
          7,
          7,
          7,
          7,
          7,
          7,
          7,
          7,
          8,
          8,
          8,
          8,
          8,
          9,
          9,
          9,
          9,
          9,
          9,
          9,
          9,
          9,
          9,
          9,
          9,
          10,
          10,
          10,
          10,
          10,
          10,
          10,
          10,
          10,
          10,
          11,
          11,
          11,
          11,
          11,
          11,
          12,
          12,
          12,
          12,
          12,
          12,
          12,
          12,
          12,
          12,
          12,
          12,
          13,
          13,
          13,
          13,
          13,
          13,
          13,
          13,
          13,
          13,
          13,
          14,
          14,
          14,
          14,
          14,
          14,
          14,
          14,
          14,
          15,
          15,
          15,
          15,
          15,
          16,
          16,
          16,
          16,
          16,
          16,
          16,
          17,
          17,
          17,
          17,
          17,
          18,
          18,
          18,
          18,
          18,
          18,
          18,
          19,
          19,
          19,
          19,
          19,
          19,
          19,
          19,
          19,
          19,
          19,
          19,
          20,
          20,
          20,
          20,
          20,
          20,
          20,
          20,
          20,
          20,
          20,
          21,
          21,
          21,
          21,
          21,
          21,
          21,
          21,
          22,
          22,
          22,
          22,
          22,
          22,
          22,
          22,
          22,
          22,
          22,
          23,
          23,
          23,
          23,
          23,
          23,
          23,
          24,
          24,
          24,
          24,
          24,
          24,
          24,
          24,
          24,
          25,
          25,
          25,
          25,
          25,
          25,
          25,
          25,
          25,
          25,
          26,
          26,
          26,
          26,
          26,
          26,
          27,
          27,
          27,
          27,
          27,
          27,
          27,
          27,
          28,
          28,
          28,
          28,
          28,
          28,
          28,
          28,
          29,
          29,
          29,
          29,
          29,
          29,
          29,
          29,
          29,
          29,
          29,
          29,
          29,
          30,
          30,
          30,
          30,
          30,
          30,
          30,
          30,
          31,
          31,
          31,
          31,
          31,
          31,
          31,
          31,
          31,
          31,
          32,
          32,
          32,
          32,
          32,
          32,
          32,
          33,
          33,
          34,
          34,
          34,
          34,
          34,
          34,
          34,
          34,
          34,
          35,
          35,
          35,
          35,
          35,
          35,
          35,
          35,
          35,
          36,
          36,
          36,
          36,
          36,
          36,
          36,
          36,
          37,
          37,
          37,
          37,
          37,
          37,
          37,
          38,
          38,
          38,
          38,
          38,
          38,
          39,
          39,
          39,
          39,
          39,
          39,
          39,
          39,
          39,
          40,
          40,
          40,
          40,
          40,
          40,
          40,
          40,
          40,
          40,
          41,
          41,
          41,
          41,
          41,
          41,
          41,
          41,
          41,
          41,
          41,
          42,
          42,
          42,
          42,
          42,
          42,
          42,
          42,
          43,
          43,
          43,
          43,
          43,
          43,
          43,
          43,
          43,
          43,
          44,
          44,
          44,
          44,
          44,
          44,
          44,
          44,
          44,
          44,
          45,
          45,
          45,
          45,
          45,
          45,
          45,
          46,
          46,
          46,
          46,
          46,
          46,
          46,
          46,
          46,
          46,
          46,
          47,
          47,
          47,
          47,
          47,
          47,
          47,
          47,
          47,
          48,
          48,
          48,
          48,
          48,
          48,
          48,
          48,
          49,
          49,
          49,
          49,
          49,
          50,
          50,
          50,
          50,
          50,
          51,
          51,
          51,
          51,
          51,
          51,
          51,
          52,
          52,
          52,
          52,
          52,
          52,
          53,
          53,
          53,
          53,
          53,
          53,
          53,
          53,
          53,
          54,
          54,
          54,
          54,
          54,
          54,
          55,
          55,
          55,
          55,
          55,
          55,
          55,
          56,
          56,
          56,
          56,
          56,
          56,
          57,
          57,
          57,
          57,
          57,
          57,
          57,
          58,
          58,
          58,
          58,
          58,
          58,
          58,
          58,
          58,
          58,
          59,
          59,
          59,
          59,
          59,
          60,
          60,
          60,
          60,
          61,
          61,
          61,
          61,
          61,
          61,
          62,
          62,
          62,
          62,
          62,
          62,
          62,
          62,
          62,
          63,
          63,
          63,
          63,
          63,
          64,
          64,
          64,
          64,
          64,
          64,
          64,
          65,
          66,
          66,
          66,
          66,
          66,
          67,
          68,
          68,
          68,
          69,
          69,
          69,
          70,
          70,
          70,
          70,
          71,
          71,
          71,
          71,
          71,
          71,
          71,
          71,
          72,
          72,
          73,
          73,
          73,
          73,
          73,
          74,
          74,
          74,
          74,
          74,
          74,
          74,
          75,
          75,
          75,
          76,
          76,
          76,
          76,
          77,
          77,
          77,
          78,
          79,
          79,
          79,
          80,
          80,
          80,
          80,
          80,
          81,
          82,
          82,
          82,
          82,
          85,
          85,
          85,
          85,
          86,
          86,
          86,
          87,
          87,
          88,
          88,
          89,
          89,
          89,
          90,
          90,
          91,
          91,
          91,
          91,
          92,
          92,
          92,
          92,
          93,
          93,
          94,
          94,
          95,
          97,
          97,
          97,
          99,
          100,
          101,
          101,
          102,
          102,
          104,
          106,
          107,
          107,
          109,
          110,
          111,
          112,
          113,
          116,
          116,
          119,
          122,
          125,
          125,
          125,
          130,
          135,
          149,
          150,
          151,
          152,
          189,
          204
         ],
         "xaxis": "x",
         "y": [
          -0.175068647324788,
          0.6018580485993574,
          1.333083174175023,
          1.3787847445235029,
          1.3787847445235029,
          1.652994166614377,
          1.7443973073113357,
          1.8358004480082935,
          1.972905159053731,
          1.972905159053731,
          1.972905159053731,
          2.1557114404476474,
          2.201413010796127,
          2.247114581144606,
          2.338517721841564,
          2.338517721841564,
          2.338517721841564,
          2.4756224328870013,
          2.7041302846293975,
          2.7041302846293975,
          2.7498318549778764,
          2.7955334253263553,
          2.7955334253263553,
          2.886936566023314,
          3.0697428474172304,
          3.0697428474172304,
          3.1154444177657092,
          3.161145988114188,
          3.161145988114188,
          3.206847558462668,
          3.2982506991596257,
          3.2982506991596257,
          3.3439522695081054,
          3.3896538398565843,
          3.3896538398565843,
          3.435355410205063,
          3.435355410205063,
          3.481056980553542,
          3.481056980553542,
          3.481056980553542,
          3.481056980553542,
          3.526758550902022,
          3.526758550902022,
          3.526758550902022,
          3.5724601212505007,
          3.5724601212505007,
          3.5724601212505007,
          3.5724601212505007,
          3.5724601212505007,
          3.6181616915989796,
          3.6181616915989796,
          3.6638632619474594,
          3.6638632619474594,
          3.755266402644417,
          3.755266402644417,
          3.755266402644417,
          3.755266402644417,
          3.800967972992896,
          3.800967972992896,
          3.800967972992896,
          3.846669543341376,
          3.846669543341376,
          3.8923711136898547,
          3.8923711136898547,
          3.8923711136898547,
          3.8923711136898547,
          3.8923711136898547,
          3.8923711136898547,
          3.9380726840383335,
          3.983774254386813,
          3.983774254386813,
          3.983774254386813,
          4.029475824735292,
          4.029475824735292,
          4.029475824735292,
          4.075177395083771,
          4.075177395083771,
          4.075177395083771,
          4.120878965432251,
          4.120878965432251,
          4.16658053578073,
          4.16658053578073,
          4.16658053578073,
          4.212282106129209,
          4.212282106129209,
          4.2579836764776875,
          4.2579836764776875,
          4.2579836764776875,
          4.2579836764776875,
          4.2579836764776875,
          4.2579836764776875,
          4.303685246826166,
          4.303685246826166,
          4.303685246826166,
          4.303685246826166,
          4.303685246826166,
          4.349386817174646,
          4.349386817174646,
          4.349386817174646,
          4.349386817174646,
          4.395088387523125,
          4.395088387523125,
          4.395088387523125,
          4.395088387523125,
          4.395088387523125,
          4.440789957871605,
          4.440789957871605,
          4.486491528220084,
          4.486491528220084,
          4.486491528220084,
          4.532193098568563,
          4.532193098568563,
          4.577894668917041,
          4.577894668917041,
          4.62359623926552,
          4.669297809614,
          4.669297809614,
          4.669297809614,
          4.669297809614,
          4.669297809614,
          4.714999379962479,
          4.714999379962479,
          4.714999379962479,
          4.760700950310959,
          4.760700950310959,
          4.760700950310959,
          4.760700950310959,
          4.760700950310959,
          4.806402520659438,
          4.806402520659438,
          4.8521040910079165,
          4.897805661356395,
          4.897805661356395,
          4.897805661356395,
          4.897805661356395,
          4.897805661356395,
          4.897805661356395,
          4.943507231704874,
          4.943507231704874,
          4.943507231704874,
          4.943507231704874,
          4.943507231704874,
          4.943507231704874,
          4.989208802053353,
          4.989208802053353,
          4.989208802053353,
          4.989208802053353,
          4.989208802053353,
          4.989208802053353,
          4.989208802053353,
          4.989208802053353,
          5.034910372401833,
          5.034910372401833,
          5.034910372401833,
          5.034910372401833,
          5.034910372401833,
          5.034910372401833,
          5.080611942750313,
          5.080611942750313,
          5.080611942750313,
          5.080611942750313,
          5.126313513098792,
          5.126313513098792,
          5.126313513098792,
          5.126313513098792,
          5.126313513098792,
          5.126313513098792,
          5.1720150834472705,
          5.1720150834472705,
          5.1720150834472705,
          5.1720150834472705,
          5.1720150834472705,
          5.217716653795749,
          5.217716653795749,
          5.217716653795749,
          5.263418224144228,
          5.263418224144228,
          5.263418224144228,
          5.263418224144228,
          5.263418224144228,
          5.309119794492707,
          5.309119794492707,
          5.309119794492707,
          5.309119794492707,
          5.309119794492707,
          5.309119794492707,
          5.354821364841187,
          5.354821364841187,
          5.354821364841187,
          5.354821364841187,
          5.354821364841187,
          5.354821364841187,
          5.400522935189666,
          5.400522935189666,
          5.400522935189666,
          5.400522935189666,
          5.400522935189666,
          5.4462245055381455,
          5.4462245055381455,
          5.4462245055381455,
          5.491926075886624,
          5.491926075886624,
          5.491926075886624,
          5.491926075886624,
          5.537627646235103,
          5.537627646235103,
          5.537627646235103,
          5.583329216583582,
          5.583329216583582,
          5.583329216583582,
          5.583329216583582,
          5.629030786932061,
          5.629030786932061,
          5.629030786932061,
          5.629030786932061,
          5.629030786932061,
          5.629030786932061,
          5.629030786932061,
          5.629030786932061,
          5.674732357280541,
          5.72043392762902,
          5.72043392762902,
          5.72043392762902,
          5.72043392762902,
          5.7661354979774995,
          5.7661354979774995,
          5.7661354979774995,
          5.7661354979774995,
          5.7661354979774995,
          5.7661354979774995,
          5.7661354979774995,
          5.7661354979774995,
          5.7661354979774995,
          5.811837068325978,
          5.811837068325978,
          5.811837068325978,
          5.811837068325978,
          5.811837068325978,
          5.857538638674457,
          5.857538638674457,
          5.857538638674457,
          5.857538638674457,
          5.857538638674457,
          5.903240209022936,
          5.903240209022936,
          5.903240209022936,
          5.948941779371415,
          5.948941779371415,
          5.948941779371415,
          5.948941779371415,
          5.948941779371415,
          5.948941779371415,
          5.948941779371415,
          5.948941779371415,
          5.948941779371415,
          5.948941779371415,
          5.994643349719895,
          5.994643349719895,
          5.994643349719895,
          6.040344920068374,
          6.040344920068374,
          6.040344920068374,
          6.040344920068374,
          6.040344920068374,
          6.040344920068374,
          6.040344920068374,
          6.040344920068374,
          6.086046490416853,
          6.086046490416853,
          6.086046490416853,
          6.086046490416853,
          6.086046490416853,
          6.086046490416853,
          6.086046490416853,
          6.086046490416853,
          6.086046490416853,
          6.131748060765332,
          6.131748060765332,
          6.131748060765332,
          6.131748060765332,
          6.131748060765332,
          6.131748060765332,
          6.131748060765332,
          6.131748060765332,
          6.177449631113811,
          6.177449631113811,
          6.177449631113811,
          6.177449631113811,
          6.22315120146229,
          6.22315120146229,
          6.22315120146229,
          6.22315120146229,
          6.22315120146229,
          6.22315120146229,
          6.268852771810769,
          6.268852771810769,
          6.268852771810769,
          6.268852771810769,
          6.268852771810769,
          6.268852771810769,
          6.268852771810769,
          6.268852771810769,
          6.268852771810769,
          6.268852771810769,
          6.268852771810769,
          6.314554342159249,
          6.314554342159249,
          6.314554342159249,
          6.314554342159249,
          6.314554342159249,
          6.314554342159249,
          6.314554342159249,
          6.314554342159249,
          6.360255912507728,
          6.360255912507728,
          6.360255912507728,
          6.360255912507728,
          6.360255912507728,
          6.360255912507728,
          6.360255912507728,
          6.360255912507728,
          6.405957482856207,
          6.405957482856207,
          6.405957482856207,
          6.405957482856207,
          6.405957482856207,
          6.405957482856207,
          6.451659053204686,
          6.451659053204686,
          6.451659053204686,
          6.451659053204686,
          6.451659053204686,
          6.451659053204686,
          6.451659053204686,
          6.451659053204686,
          6.497360623553165,
          6.497360623553165,
          6.497360623553165,
          6.497360623553165,
          6.497360623553165,
          6.497360623553165,
          6.497360623553165,
          6.497360623553165,
          6.497360623553165,
          6.497360623553165,
          6.497360623553165,
          6.497360623553165,
          6.543062193901644,
          6.543062193901644,
          6.543062193901644,
          6.543062193901644,
          6.543062193901644,
          6.543062193901644,
          6.543062193901644,
          6.543062193901644,
          6.543062193901644,
          6.543062193901644,
          6.543062193901644,
          6.543062193901644,
          6.543062193901644,
          6.588763764250123,
          6.588763764250123,
          6.588763764250123,
          6.588763764250123,
          6.588763764250123,
          6.588763764250123,
          6.588763764250123,
          6.588763764250123,
          6.588763764250123,
          6.588763764250123,
          6.634465334598603,
          6.634465334598603,
          6.634465334598603,
          6.634465334598603,
          6.634465334598603,
          6.634465334598603,
          6.634465334598603,
          6.634465334598603,
          6.634465334598603,
          6.634465334598603,
          6.6801669049470815,
          6.6801669049470815,
          6.6801669049470815,
          6.6801669049470815,
          6.6801669049470815,
          6.6801669049470815,
          6.6801669049470815,
          6.6801669049470815,
          6.6801669049470815,
          6.6801669049470815,
          6.725868475295561,
          6.725868475295561,
          6.725868475295561,
          6.725868475295561,
          6.725868475295561,
          6.725868475295561,
          6.725868475295561,
          6.725868475295561,
          6.77157004564404,
          6.77157004564404,
          6.77157004564404,
          6.77157004564404,
          6.77157004564404,
          6.77157004564404,
          6.77157004564404,
          6.77157004564404,
          6.77157004564404,
          6.77157004564404,
          6.77157004564404,
          6.817271615992519,
          6.817271615992519,
          6.817271615992519,
          6.817271615992519,
          6.817271615992519,
          6.862973186340998,
          6.862973186340998,
          6.862973186340998,
          6.862973186340998,
          6.862973186340998,
          6.862973186340998,
          6.862973186340998,
          6.862973186340998,
          6.862973186340998,
          6.862973186340998,
          6.908674756689477,
          6.908674756689477,
          6.908674756689477,
          6.908674756689477,
          6.908674756689477,
          6.908674756689477,
          6.954376327037957,
          6.954376327037957,
          6.954376327037957,
          6.954376327037957,
          6.954376327037957,
          6.954376327037957,
          6.954376327037957,
          7.0000778973864355,
          7.0000778973864355,
          7.0000778973864355,
          7.0000778973864355,
          7.0000778973864355,
          7.0000778973864355,
          7.0000778973864355,
          7.0000778973864355,
          7.0000778973864355,
          7.0000778973864355,
          7.0000778973864355,
          7.0000778973864355,
          7.045779467734914,
          7.045779467734914,
          7.045779467734914,
          7.045779467734914,
          7.045779467734914,
          7.045779467734914,
          7.045779467734914,
          7.045779467734914,
          7.045779467734914,
          7.045779467734914,
          7.091481038083394,
          7.091481038083394,
          7.091481038083394,
          7.091481038083394,
          7.091481038083394,
          7.091481038083394,
          7.091481038083394,
          7.137182608431873,
          7.137182608431873,
          7.137182608431873,
          7.137182608431873,
          7.137182608431873,
          7.137182608431873,
          7.137182608431873,
          7.137182608431873,
          7.182884178780352,
          7.182884178780352,
          7.182884178780352,
          7.182884178780352,
          7.182884178780352,
          7.182884178780352,
          7.182884178780352,
          7.182884178780352,
          7.182884178780352,
          7.228585749128831,
          7.228585749128831,
          7.228585749128831,
          7.228585749128831,
          7.228585749128831,
          7.228585749128831,
          7.228585749128831,
          7.228585749128831,
          7.228585749128831,
          7.2742873194773106,
          7.2742873194773106,
          7.2742873194773106,
          7.2742873194773106,
          7.2742873194773106,
          7.2742873194773106,
          7.2742873194773106,
          7.2742873194773106,
          7.2742873194773106,
          7.2742873194773106,
          7.2742873194773106,
          7.2742873194773106,
          7.2742873194773106,
          7.2742873194773106,
          7.319988889825789,
          7.319988889825789,
          7.319988889825789,
          7.319988889825789,
          7.319988889825789,
          7.319988889825789,
          7.319988889825789,
          7.319988889825789,
          7.365690460174268,
          7.365690460174268,
          7.365690460174268,
          7.365690460174268,
          7.365690460174268,
          7.365690460174268,
          7.365690460174268,
          7.365690460174268,
          7.365690460174268,
          7.365690460174268,
          7.365690460174268,
          7.411392030522748,
          7.411392030522748,
          7.411392030522748,
          7.411392030522748,
          7.411392030522748,
          7.411392030522748,
          7.411392030522748,
          7.411392030522748,
          7.457093600871227,
          7.457093600871227,
          7.457093600871227,
          7.457093600871227,
          7.457093600871227,
          7.457093600871227,
          7.457093600871227,
          7.457093600871227,
          7.457093600871227,
          7.457093600871227,
          7.457093600871227,
          7.457093600871227,
          7.502795171219706,
          7.502795171219706,
          7.502795171219706,
          7.502795171219706,
          7.502795171219706,
          7.548496741568185,
          7.548496741568185,
          7.548496741568185,
          7.548496741568185,
          7.548496741568185,
          7.548496741568185,
          7.548496741568185,
          7.548496741568185,
          7.5941983119166645,
          7.5941983119166645,
          7.5941983119166645,
          7.5941983119166645,
          7.5941983119166645,
          7.5941983119166645,
          7.5941983119166645,
          7.5941983119166645,
          7.639899882265143,
          7.639899882265143,
          7.639899882265143,
          7.639899882265143,
          7.639899882265143,
          7.639899882265143,
          7.639899882265143,
          7.639899882265143,
          7.639899882265143,
          7.685601452613622,
          7.685601452613622,
          7.685601452613622,
          7.685601452613622,
          7.685601452613622,
          7.685601452613622,
          7.685601452613622,
          7.685601452613622,
          7.685601452613622,
          7.685601452613622,
          7.685601452613622,
          7.685601452613622,
          7.685601452613622,
          7.731303022962102,
          7.731303022962102,
          7.731303022962102,
          7.731303022962102,
          7.731303022962102,
          7.731303022962102,
          7.731303022962102,
          7.731303022962102,
          7.731303022962102,
          7.731303022962102,
          7.731303022962102,
          7.777004593310581,
          7.777004593310581,
          7.777004593310581,
          7.777004593310581,
          7.777004593310581,
          7.82270616365906,
          7.82270616365906,
          7.82270616365906,
          7.82270616365906,
          7.82270616365906,
          7.868407734007539,
          7.868407734007539,
          7.868407734007539,
          7.868407734007539,
          7.9141093043560184,
          7.9141093043560184,
          7.9141093043560184,
          7.9141093043560184,
          7.9141093043560184,
          7.9141093043560184,
          7.9141093043560184,
          7.9141093043560184,
          7.9141093043560184,
          7.9141093043560184,
          7.9141093043560184,
          7.9141093043560184,
          7.959810874704497,
          7.959810874704497,
          7.959810874704497,
          7.959810874704497,
          7.959810874704497,
          7.959810874704497,
          7.959810874704497,
          7.959810874704497,
          7.959810874704497,
          7.959810874704497,
          7.959810874704497,
          8.005512445052977,
          8.005512445052977,
          8.005512445052977,
          8.005512445052977,
          8.005512445052977,
          8.005512445052977,
          8.005512445052977,
          8.051214015401456,
          8.051214015401456,
          8.051214015401456,
          8.051214015401456,
          8.051214015401456,
          8.051214015401456,
          8.051214015401456,
          8.051214015401456,
          8.051214015401456,
          8.096915585749935,
          8.096915585749935,
          8.096915585749935,
          8.096915585749935,
          8.096915585749935,
          8.096915585749935,
          8.142617156098414,
          8.142617156098414,
          8.142617156098414,
          8.142617156098414,
          8.142617156098414,
          8.142617156098414,
          8.142617156098414,
          8.188318726446893,
          8.188318726446893,
          8.188318726446893,
          8.188318726446893,
          8.188318726446893,
          8.234020296795372,
          8.234020296795372,
          8.234020296795372,
          8.234020296795372,
          8.234020296795372,
          8.234020296795372,
          8.234020296795372,
          8.234020296795372,
          8.279721867143852,
          8.279721867143852,
          8.279721867143852,
          8.279721867143852,
          8.279721867143852,
          8.279721867143852,
          8.279721867143852,
          8.279721867143852,
          8.279721867143852,
          8.279721867143852,
          8.279721867143852,
          8.325423437492331,
          8.325423437492331,
          8.325423437492331,
          8.325423437492331,
          8.325423437492331,
          8.37112500784081,
          8.37112500784081,
          8.37112500784081,
          8.37112500784081,
          8.37112500784081,
          8.37112500784081,
          8.37112500784081,
          8.37112500784081,
          8.37112500784081,
          8.37112500784081,
          8.37112500784081,
          8.37112500784081,
          8.416826578189289,
          8.416826578189289,
          8.416826578189289,
          8.416826578189289,
          8.416826578189289,
          8.416826578189289,
          8.416826578189289,
          8.416826578189289,
          8.416826578189289,
          8.416826578189289,
          8.462528148537768,
          8.462528148537768,
          8.462528148537768,
          8.462528148537768,
          8.462528148537768,
          8.462528148537768,
          8.508229718886247,
          8.508229718886247,
          8.508229718886247,
          8.508229718886247,
          8.508229718886247,
          8.508229718886247,
          8.508229718886247,
          8.508229718886247,
          8.508229718886247,
          8.508229718886247,
          8.508229718886247,
          8.508229718886247,
          8.553931289234725,
          8.553931289234725,
          8.553931289234725,
          8.553931289234725,
          8.553931289234725,
          8.553931289234725,
          8.553931289234725,
          8.553931289234725,
          8.553931289234725,
          8.553931289234725,
          8.553931289234725,
          8.599632859583206,
          8.599632859583206,
          8.599632859583206,
          8.599632859583206,
          8.599632859583206,
          8.599632859583206,
          8.599632859583206,
          8.599632859583206,
          8.599632859583206,
          8.645334429931685,
          8.645334429931685,
          8.645334429931685,
          8.645334429931685,
          8.645334429931685,
          8.691036000280164,
          8.691036000280164,
          8.691036000280164,
          8.691036000280164,
          8.691036000280164,
          8.691036000280164,
          8.691036000280164,
          8.736737570628643,
          8.736737570628643,
          8.736737570628643,
          8.736737570628643,
          8.736737570628643,
          8.782439140977122,
          8.782439140977122,
          8.782439140977122,
          8.782439140977122,
          8.782439140977122,
          8.782439140977122,
          8.782439140977122,
          8.8281407113256,
          8.8281407113256,
          8.8281407113256,
          8.8281407113256,
          8.8281407113256,
          8.8281407113256,
          8.8281407113256,
          8.8281407113256,
          8.8281407113256,
          8.8281407113256,
          8.8281407113256,
          8.8281407113256,
          8.87384228167408,
          8.87384228167408,
          8.87384228167408,
          8.87384228167408,
          8.87384228167408,
          8.87384228167408,
          8.87384228167408,
          8.87384228167408,
          8.87384228167408,
          8.87384228167408,
          8.87384228167408,
          8.919543852022558,
          8.919543852022558,
          8.919543852022558,
          8.919543852022558,
          8.919543852022558,
          8.919543852022558,
          8.919543852022558,
          8.919543852022558,
          8.965245422371039,
          8.965245422371039,
          8.965245422371039,
          8.965245422371039,
          8.965245422371039,
          8.965245422371039,
          8.965245422371039,
          8.965245422371039,
          8.965245422371039,
          8.965245422371039,
          8.965245422371039,
          9.010946992719518,
          9.010946992719518,
          9.010946992719518,
          9.010946992719518,
          9.010946992719518,
          9.010946992719518,
          9.010946992719518,
          9.056648563067997,
          9.056648563067997,
          9.056648563067997,
          9.056648563067997,
          9.056648563067997,
          9.056648563067997,
          9.056648563067997,
          9.056648563067997,
          9.056648563067997,
          9.102350133416476,
          9.102350133416476,
          9.102350133416476,
          9.102350133416476,
          9.102350133416476,
          9.102350133416476,
          9.102350133416476,
          9.102350133416476,
          9.102350133416476,
          9.102350133416476,
          9.148051703764954,
          9.148051703764954,
          9.148051703764954,
          9.148051703764954,
          9.148051703764954,
          9.148051703764954,
          9.193753274113433,
          9.193753274113433,
          9.193753274113433,
          9.193753274113433,
          9.193753274113433,
          9.193753274113433,
          9.193753274113433,
          9.193753274113433,
          9.239454844461914,
          9.239454844461914,
          9.239454844461914,
          9.239454844461914,
          9.239454844461914,
          9.239454844461914,
          9.239454844461914,
          9.239454844461914,
          9.285156414810393,
          9.285156414810393,
          9.285156414810393,
          9.285156414810393,
          9.285156414810393,
          9.285156414810393,
          9.285156414810393,
          9.285156414810393,
          9.285156414810393,
          9.285156414810393,
          9.285156414810393,
          9.285156414810393,
          9.285156414810393,
          9.330857985158872,
          9.330857985158872,
          9.330857985158872,
          9.330857985158872,
          9.330857985158872,
          9.330857985158872,
          9.330857985158872,
          9.330857985158872,
          9.37655955550735,
          9.37655955550735,
          9.37655955550735,
          9.37655955550735,
          9.37655955550735,
          9.37655955550735,
          9.37655955550735,
          9.37655955550735,
          9.37655955550735,
          9.37655955550735,
          9.42226112585583,
          9.42226112585583,
          9.42226112585583,
          9.42226112585583,
          9.42226112585583,
          9.42226112585583,
          9.42226112585583,
          9.467962696204308,
          9.467962696204308,
          9.513664266552787,
          9.513664266552787,
          9.513664266552787,
          9.513664266552787,
          9.513664266552787,
          9.513664266552787,
          9.513664266552787,
          9.513664266552787,
          9.513664266552787,
          9.559365836901266,
          9.559365836901266,
          9.559365836901266,
          9.559365836901266,
          9.559365836901266,
          9.559365836901266,
          9.559365836901266,
          9.559365836901266,
          9.559365836901266,
          9.605067407249745,
          9.605067407249745,
          9.605067407249745,
          9.605067407249745,
          9.605067407249745,
          9.605067407249745,
          9.605067407249745,
          9.605067407249745,
          9.650768977598226,
          9.650768977598226,
          9.650768977598226,
          9.650768977598226,
          9.650768977598226,
          9.650768977598226,
          9.650768977598226,
          9.696470547946705,
          9.696470547946705,
          9.696470547946705,
          9.696470547946705,
          9.696470547946705,
          9.696470547946705,
          9.742172118295183,
          9.742172118295183,
          9.742172118295183,
          9.742172118295183,
          9.742172118295183,
          9.742172118295183,
          9.742172118295183,
          9.742172118295183,
          9.742172118295183,
          9.787873688643662,
          9.787873688643662,
          9.787873688643662,
          9.787873688643662,
          9.787873688643662,
          9.787873688643662,
          9.787873688643662,
          9.787873688643662,
          9.787873688643662,
          9.787873688643662,
          9.833575258992141,
          9.833575258992141,
          9.833575258992141,
          9.833575258992141,
          9.833575258992141,
          9.833575258992141,
          9.833575258992141,
          9.833575258992141,
          9.833575258992141,
          9.833575258992141,
          9.833575258992141,
          9.87927682934062,
          9.87927682934062,
          9.87927682934062,
          9.87927682934062,
          9.87927682934062,
          9.87927682934062,
          9.87927682934062,
          9.87927682934062,
          9.924978399689099,
          9.924978399689099,
          9.924978399689099,
          9.924978399689099,
          9.924978399689099,
          9.924978399689099,
          9.924978399689099,
          9.924978399689099,
          9.924978399689099,
          9.924978399689099,
          9.97067997003758,
          9.97067997003758,
          9.97067997003758,
          9.97067997003758,
          9.97067997003758,
          9.97067997003758,
          9.97067997003758,
          9.97067997003758,
          9.97067997003758,
          9.97067997003758,
          10.016381540386059,
          10.016381540386059,
          10.016381540386059,
          10.016381540386059,
          10.016381540386059,
          10.016381540386059,
          10.016381540386059,
          10.062083110734537,
          10.062083110734537,
          10.062083110734537,
          10.062083110734537,
          10.062083110734537,
          10.062083110734537,
          10.062083110734537,
          10.062083110734537,
          10.062083110734537,
          10.062083110734537,
          10.062083110734537,
          10.107784681083016,
          10.107784681083016,
          10.107784681083016,
          10.107784681083016,
          10.107784681083016,
          10.107784681083016,
          10.107784681083016,
          10.107784681083016,
          10.107784681083016,
          10.153486251431495,
          10.153486251431495,
          10.153486251431495,
          10.153486251431495,
          10.153486251431495,
          10.153486251431495,
          10.153486251431495,
          10.153486251431495,
          10.199187821779976,
          10.199187821779976,
          10.199187821779976,
          10.199187821779976,
          10.199187821779976,
          10.244889392128453,
          10.244889392128453,
          10.244889392128453,
          10.244889392128453,
          10.244889392128453,
          10.290590962476934,
          10.290590962476934,
          10.290590962476934,
          10.290590962476934,
          10.290590962476934,
          10.290590962476934,
          10.290590962476934,
          10.336292532825412,
          10.336292532825412,
          10.336292532825412,
          10.336292532825412,
          10.336292532825412,
          10.336292532825412,
          10.381994103173891,
          10.381994103173891,
          10.381994103173891,
          10.381994103173891,
          10.381994103173891,
          10.381994103173891,
          10.381994103173891,
          10.381994103173891,
          10.381994103173891,
          10.42769567352237,
          10.42769567352237,
          10.42769567352237,
          10.42769567352237,
          10.42769567352237,
          10.42769567352237,
          10.47339724387085,
          10.47339724387085,
          10.47339724387085,
          10.47339724387085,
          10.47339724387085,
          10.47339724387085,
          10.47339724387085,
          10.51909881421933,
          10.51909881421933,
          10.51909881421933,
          10.51909881421933,
          10.51909881421933,
          10.51909881421933,
          10.564800384567807,
          10.564800384567807,
          10.564800384567807,
          10.564800384567807,
          10.564800384567807,
          10.564800384567807,
          10.564800384567807,
          10.610501954916288,
          10.610501954916288,
          10.610501954916288,
          10.610501954916288,
          10.610501954916288,
          10.610501954916288,
          10.610501954916288,
          10.610501954916288,
          10.610501954916288,
          10.610501954916288,
          10.656203525264766,
          10.656203525264766,
          10.656203525264766,
          10.656203525264766,
          10.656203525264766,
          10.701905095613245,
          10.701905095613245,
          10.701905095613245,
          10.701905095613245,
          10.747606665961724,
          10.747606665961724,
          10.747606665961724,
          10.747606665961724,
          10.747606665961724,
          10.747606665961724,
          10.793308236310203,
          10.793308236310203,
          10.793308236310203,
          10.793308236310203,
          10.793308236310203,
          10.793308236310203,
          10.793308236310203,
          10.793308236310203,
          10.793308236310203,
          10.839009806658682,
          10.839009806658682,
          10.839009806658682,
          10.839009806658682,
          10.839009806658682,
          10.88471137700716,
          10.88471137700716,
          10.88471137700716,
          10.88471137700716,
          10.88471137700716,
          10.88471137700716,
          10.88471137700716,
          10.930412947355642,
          10.97611451770412,
          10.97611451770412,
          10.97611451770412,
          10.97611451770412,
          10.97611451770412,
          11.0218160880526,
          11.067517658401078,
          11.067517658401078,
          11.067517658401078,
          11.113219228749557,
          11.113219228749557,
          11.113219228749557,
          11.158920799098036,
          11.158920799098036,
          11.158920799098036,
          11.158920799098036,
          11.204622369446515,
          11.204622369446515,
          11.204622369446515,
          11.204622369446515,
          11.204622369446515,
          11.204622369446515,
          11.204622369446515,
          11.204622369446515,
          11.250323939794995,
          11.250323939794995,
          11.296025510143474,
          11.296025510143474,
          11.296025510143474,
          11.296025510143474,
          11.296025510143474,
          11.341727080491953,
          11.341727080491953,
          11.341727080491953,
          11.341727080491953,
          11.341727080491953,
          11.341727080491953,
          11.341727080491953,
          11.387428650840432,
          11.387428650840432,
          11.387428650840432,
          11.433130221188911,
          11.433130221188911,
          11.433130221188911,
          11.433130221188911,
          11.47883179153739,
          11.47883179153739,
          11.47883179153739,
          11.524533361885869,
          11.57023493223435,
          11.57023493223435,
          11.57023493223435,
          11.615936502582828,
          11.615936502582828,
          11.615936502582828,
          11.615936502582828,
          11.615936502582828,
          11.661638072931307,
          11.707339643279786,
          11.707339643279786,
          11.707339643279786,
          11.707339643279786,
          11.844444354325223,
          11.844444354325223,
          11.844444354325223,
          11.844444354325223,
          11.890145924673703,
          11.890145924673703,
          11.890145924673703,
          11.935847495022182,
          11.935847495022182,
          11.981549065370661,
          11.981549065370661,
          12.02725063571914,
          12.02725063571914,
          12.02725063571914,
          12.072952206067619,
          12.072952206067619,
          12.1186537764161,
          12.1186537764161,
          12.1186537764161,
          12.1186537764161,
          12.164355346764577,
          12.164355346764577,
          12.164355346764577,
          12.164355346764577,
          12.210056917113057,
          12.210056917113057,
          12.255758487461534,
          12.255758487461534,
          12.301460057810015,
          12.392863198506973,
          12.392863198506973,
          12.392863198506973,
          12.48426633920393,
          12.529967909552411,
          12.575669479900888,
          12.575669479900888,
          12.621371050249369,
          12.621371050249369,
          12.712774190946327,
          12.804177331643285,
          12.849878901991765,
          12.849878901991765,
          12.941282042688723,
          12.986983613037202,
          13.03268518338568,
          13.078386753734161,
          13.124088324082638,
          13.261193035128077,
          13.261193035128077,
          13.398297746173514,
          13.53540245721895,
          13.672507168264389,
          13.672507168264389,
          13.672507168264389,
          13.901015020006785,
          14.129522871749181,
          14.769344856627889,
          14.815046426976366,
          14.860747997324847,
          14.906449567673326,
          16.597407670567055,
          17.28293122579424
         ],
         "yaxis": "y"
        }
       ],
       "layout": {
        "coloraxis": {
         "colorbar": {
          "title": {
           "text": "Wk 8 Pts Margin"
          }
         },
         "colorscale": [
          [
           0,
           "#440154"
          ],
          [
           0.1111111111111111,
           "#482878"
          ],
          [
           0.2222222222222222,
           "#3e4989"
          ],
          [
           0.3333333333333333,
           "#31688e"
          ],
          [
           0.4444444444444444,
           "#26828e"
          ],
          [
           0.5555555555555556,
           "#1f9e89"
          ],
          [
           0.6666666666666666,
           "#35b779"
          ],
          [
           0.7777777777777778,
           "#6ece58"
          ],
          [
           0.8888888888888888,
           "#b5de2b"
          ],
          [
           1,
           "#fde725"
          ]
         ]
        },
        "legend": {
         "itemsizing": "constant",
         "tracegroupgap": 0
        },
        "template": {
         "data": {
          "pie": [
           {
            "automargin": true,
            "type": "pie"
           }
          ]
         },
         "layout": {
          "xaxis": {
           "showgrid": true,
           "title": {
            "standoff": 15
           }
          },
          "yaxis": {
           "showgrid": true,
           "title": {
            "standoff": 15
           }
          }
         }
        },
        "title": {
         "text": "NFL Win Totals and Week 8 Scoring Margins | 1978-2020"
        },
        "xaxis": {
         "anchor": "y",
         "domain": [
          0,
          1
         ],
         "title": {
          "text": "Wk 8 Pts Margin"
         }
        },
        "yaxis": {
         "anchor": "x",
         "domain": [
          0,
          1
         ],
         "title": {
          "text": "Wk 17 Wins"
         }
        }
       }
      },
      "text/html": [
       "<div>                            <div id=\"84541ad5-4ffd-4625-8e27-379f688ed438\" class=\"plotly-graph-div\" style=\"height:525px; width:100%;\"></div>            <script type=\"text/javascript\">                require([\"plotly\"], function(Plotly) {                    window.PLOTLYENV=window.PLOTLYENV || {};                                    if (document.getElementById(\"84541ad5-4ffd-4625-8e27-379f688ed438\")) {                    Plotly.newPlot(                        \"84541ad5-4ffd-4625-8e27-379f688ed438\",                        [{\"customdata\":[[\"New England Patriots\"],[\"Miami Dolphins\"],[\"New York Jets\"],[\"Buffalo Bills\"],[\"Baltimore Colts\"],[\"Pittsburgh Steelers\"],[\"Houston Oilers\"],[\"Cleveland Browns\"],[\"Cincinnati Bengals\"],[\"Denver Broncos\"],[\"Oakland Raiders\"],[\"Seattle Seahawks\"],[\"San Diego Chargers\"],[\"Kansas City Chiefs\"],[\"Dallas Cowboys\"],[\"Washington Redskins\"],[\"New York Giants\"],[\"Philadelphia Eagles\"],[\"St. Louis Cardinals\"],[\"Green Bay Packers\"],[\"Minnesota Vikings\"],[\"Tampa Bay Buccaneers\"],[\"Chicago Bears\"],[\"Detroit Lions\"],[\"Los Angeles Rams\"],[\"Atlanta Falcons\"],[\"New Orleans Saints\"],[\"San Francisco 49ers\"],[\"New England Patriots\"],[\"Miami Dolphins\"],[\"New York Jets\"],[\"Buffalo Bills\"],[\"Baltimore Colts\"],[\"Pittsburgh Steelers\"],[\"Houston Oilers\"],[\"Cleveland Browns\"],[\"Cincinnati Bengals\"],[\"San Diego Chargers\"],[\"Denver Broncos\"],[\"Oakland Raiders\"],[\"Kansas City Chiefs\"],[\"Seattle Seahawks\"],[\"Dallas Cowboys\"],[\"Philadelphia Eagles\"],[\"Washington Redskins\"],[\"New York Giants\"],[\"St. Louis Cardinals\"],[\"Tampa Bay Buccaneers\"],[\"Minnesota Vikings\"],[\"Chicago Bears\"],[\"Green Bay Packers\"],[\"Detroit Lions\"],[\"Los Angeles Rams\"],[\"New Orleans Saints\"],[\"Atlanta Falcons\"],[\"San Francisco 49ers\"],[\"Buffalo Bills\"],[\"New England Patriots\"],[\"Miami Dolphins\"],[\"Baltimore Colts\"],[\"New York Jets\"],[\"Cleveland Browns\"],[\"Houston Oilers\"],[\"Pittsburgh Steelers\"],[\"Cincinnati Bengals\"],[\"San Diego Chargers\"],[\"Oakland Raiders\"],[\"Kansas City Chiefs\"],[\"Denver Broncos\"],[\"Seattle Seahawks\"],[\"Philadelphia Eagles\"],[\"Dallas Cowboys\"],[\"Washington Redskins\"],[\"St. Louis Cardinals\"],[\"New York Giants\"],[\"Detroit Lions\"],[\"Tampa Bay Buccaneers\"],[\"Green Bay Packers\"],[\"Minnesota Vikings\"],[\"Chicago Bears\"],[\"Atlanta Falcons\"],[\"Los Angeles Rams\"],[\"San Francisco 49ers\"],[\"New Orleans Saints\"],[\"Miami Dolphins\"],[\"Buffalo Bills\"],[\"New York Jets\"],[\"New England Patriots\"],[\"Baltimore Colts\"],[\"Cincinnati Bengals\"],[\"Pittsburgh Steelers\"],[\"Houston Oilers\"],[\"Cleveland Browns\"],[\"Kansas City Chiefs\"],[\"San Diego Chargers\"],[\"Denver Broncos\"],[\"Oakland Raiders\"],[\"Seattle Seahawks\"],[\"Philadelphia Eagles\"],[\"Dallas Cowboys\"],[\"New York Giants\"],[\"St. Louis Cardinals\"],[\"Washington Redskins\"],[\"Minnesota Vikings\"],[\"Tampa Bay Buccaneers\"],[\"Detroit Lions\"],[\"Green Bay Packers\"],[\"Chicago Bears\"],[\"San Francisco 49ers\"],[\"Atlanta Falcons\"],[\"Los Angeles Rams\"],[\"New Orleans Saints\"],[\"Miami Dolphins\"],[\"Buffalo Bills\"],[\"New England Patriots\"],[\"Baltimore Colts\"],[\"New York Jets\"],[\"Pittsburgh Steelers\"],[\"Cleveland Browns\"],[\"Cincinnati Bengals\"],[\"Houston Oilers\"],[\"Los Angeles Raiders\"],[\"Denver Broncos\"],[\"Seattle Seahawks\"],[\"Kansas City Chiefs\"],[\"San Diego Chargers\"],[\"Dallas Cowboys\"],[\"Washington Redskins\"],[\"Philadelphia Eagles\"],[\"St. Louis Cardinals\"],[\"New York Giants\"],[\"Minnesota Vikings\"],[\"Green Bay Packers\"],[\"Detroit Lions\"],[\"Chicago Bears\"],[\"Tampa Bay Buccaneers\"],[\"San Francisco 49ers\"],[\"Los Angeles Rams\"],[\"New Orleans Saints\"],[\"Atlanta Falcons\"],[\"Miami Dolphins\"],[\"New York Jets\"],[\"New England Patriots\"],[\"Indianapolis Colts\"],[\"Buffalo Bills\"],[\"Pittsburgh Steelers\"],[\"Cincinnati Bengals\"],[\"Cleveland Browns\"],[\"Houston Oilers\"],[\"Denver Broncos\"],[\"Los Angeles Raiders\"],[\"Seattle Seahawks\"],[\"Kansas City Chiefs\"],[\"San Diego Chargers\"],[\"Washington Redskins\"],[\"St. Louis Cardinals\"],[\"Dallas Cowboys\"],[\"New York Giants\"],[\"Philadelphia Eagles\"],[\"Chicago Bears\"],[\"Tampa Bay Buccaneers\"],[\"Detroit Lions\"],[\"Minnesota Vikings\"],[\"Green Bay Packers\"],[\"San Francisco 49ers\"],[\"Los Angeles Rams\"],[\"New Orleans Saints\"],[\"Atlanta Falcons\"],[\"New York Jets\"],[\"Miami Dolphins\"],[\"New England Patriots\"],[\"Indianapolis Colts\"],[\"Buffalo Bills\"],[\"Cleveland Browns\"],[\"Cincinnati Bengals\"],[\"Pittsburgh Steelers\"],[\"Houston Oilers\"],[\"Los Angeles Raiders\"],[\"Denver Broncos\"],[\"Seattle Seahawks\"],[\"San Diego Chargers\"],[\"Kansas City Chiefs\"],[\"Dallas Cowboys\"],[\"New York Giants\"],[\"Washington Redskins\"],[\"Philadelphia Eagles\"],[\"St. Louis Cardinals\"],[\"Chicago Bears\"],[\"Detroit Lions\"],[\"Minnesota Vikings\"],[\"Green Bay Packers\"],[\"Tampa Bay Buccaneers\"],[\"Los Angeles Rams\"],[\"San Francisco 49ers\"],[\"New Orleans Saints\"],[\"Atlanta Falcons\"],[\"New York Jets\"],[\"New England Patriots\"],[\"Miami Dolphins\"],[\"Buffalo Bills\"],[\"Indianapolis Colts\"],[\"Cleveland Browns\"],[\"Cincinnati Bengals\"],[\"Pittsburgh Steelers\"],[\"Houston Oilers\"],[\"Denver Broncos\"],[\"Kansas City Chiefs\"],[\"Seattle Seahawks\"],[\"Los Angeles Raiders\"],[\"San Diego Chargers\"],[\"New York Giants\"],[\"Washington Redskins\"],[\"Dallas Cowboys\"],[\"Philadelphia Eagles\"],[\"St. Louis Cardinals\"],[\"Chicago Bears\"],[\"Minnesota Vikings\"],[\"Detroit Lions\"],[\"Green Bay Packers\"],[\"Tampa Bay Buccaneers\"],[\"Los Angeles Rams\"],[\"San Francisco 49ers\"],[\"Atlanta Falcons\"],[\"New Orleans Saints\"],[\"Indianapolis Colts\"],[\"New England Patriots\"],[\"Miami Dolphins\"],[\"Buffalo Bills\"],[\"New York Jets\"],[\"Houston Oilers\"],[\"Cleveland Browns\"],[\"Pittsburgh Steelers\"],[\"Cincinnati Bengals\"],[\"San Diego Chargers\"],[\"Seattle Seahawks\"],[\"Denver Broncos\"],[\"Los Angeles Raiders\"],[\"Kansas City Chiefs\"],[\"Washington Redskins\"],[\"Dallas Cowboys\"],[\"Philadelphia Eagles\"],[\"St. Louis Cardinals\"],[\"New York Giants\"],[\"Chicago Bears\"],[\"Tampa Bay Buccaneers\"],[\"Green Bay Packers\"],[\"Minnesota Vikings\"],[\"Detroit Lions\"],[\"San Francisco 49ers\"],[\"New Orleans Saints\"],[\"Atlanta Falcons\"],[\"Los Angeles Rams\"],[\"Buffalo Bills\"],[\"New York Jets\"],[\"Miami Dolphins\"],[\"Indianapolis Colts\"],[\"New England Patriots\"],[\"Cincinnati Bengals\"],[\"Cleveland Browns\"],[\"Houston Oilers\"],[\"Pittsburgh Steelers\"],[\"Seattle Seahawks\"],[\"Denver Broncos\"],[\"Los Angeles Raiders\"],[\"San Diego Chargers\"],[\"Kansas City Chiefs\"],[\"New York Giants\"],[\"Washington Redskins\"],[\"Philadelphia Eagles\"],[\"Phoenix Cardinals\"],[\"Dallas Cowboys\"],[\"Chicago Bears\"],[\"Minnesota Vikings\"],[\"Tampa Bay Buccaneers\"],[\"Detroit Lions\"],[\"Green Bay Packers\"],[\"New Orleans Saints\"],[\"Los Angeles Rams\"],[\"San Francisco 49ers\"],[\"Atlanta Falcons\"],[\"Buffalo Bills\"],[\"Indianapolis Colts\"],[\"Miami Dolphins\"],[\"New England Patriots\"],[\"New York Jets\"],[\"Cleveland Browns\"],[\"Cincinnati Bengals\"],[\"Houston Oilers\"],[\"Pittsburgh Steelers\"],[\"Denver Broncos\"],[\"Los Angeles Raiders\"],[\"Seattle Seahawks\"],[\"Kansas City Chiefs\"],[\"San Diego Chargers\"],[\"New York Giants\"],[\"Philadelphia Eagles\"],[\"Washington Redskins\"],[\"Phoenix Cardinals\"],[\"Dallas Cowboys\"],[\"Minnesota Vikings\"],[\"Chicago Bears\"],[\"Green Bay Packers\"],[\"Tampa Bay Buccaneers\"],[\"Detroit Lions\"],[\"San Francisco 49ers\"],[\"Los Angeles Rams\"],[\"New Orleans Saints\"],[\"Atlanta Falcons\"],[\"Buffalo Bills\"],[\"Miami Dolphins\"],[\"New York Jets\"],[\"Indianapolis Colts\"],[\"New England Patriots\"],[\"Cincinnati Bengals\"],[\"Houston Oilers\"],[\"Pittsburgh Steelers\"],[\"Cleveland Browns\"],[\"Los Angeles Raiders\"],[\"Kansas City Chiefs\"],[\"Seattle Seahawks\"],[\"Denver Broncos\"],[\"San Diego Chargers\"],[\"New York Giants\"],[\"Washington Redskins\"],[\"Philadelphia Eagles\"],[\"Dallas Cowboys\"],[\"Phoenix Cardinals\"],[\"Chicago Bears\"],[\"Tampa Bay Buccaneers\"],[\"Detroit Lions\"],[\"Green Bay Packers\"],[\"Minnesota Vikings\"],[\"San Francisco 49ers\"],[\"Atlanta Falcons\"],[\"New Orleans Saints\"],[\"Los Angeles Rams\"],[\"Buffalo Bills\"],[\"New York Jets\"],[\"New England Patriots\"],[\"Miami Dolphins\"],[\"Indianapolis Colts\"],[\"Houston Oilers\"],[\"Pittsburgh Steelers\"],[\"Cleveland Browns\"],[\"Cincinnati Bengals\"],[\"Denver Broncos\"],[\"Kansas City Chiefs\"],[\"Los Angeles Raiders\"],[\"Seattle Seahawks\"],[\"San Diego Chargers\"],[\"Washington Redskins\"],[\"Dallas Cowboys\"],[\"New York Giants\"],[\"Phoenix Cardinals\"],[\"Philadelphia Eagles\"],[\"Detroit Lions\"],[\"Chicago Bears\"],[\"Minnesota Vikings\"],[\"Green Bay Packers\"],[\"Tampa Bay Buccaneers\"],[\"New Orleans Saints\"],[\"Atlanta Falcons\"],[\"San Francisco 49ers\"],[\"Los Angeles Rams\"],[\"Miami Dolphins\"],[\"Buffalo Bills\"],[\"Indianapolis Colts\"],[\"New York Jets\"],[\"New England Patriots\"],[\"Pittsburgh Steelers\"],[\"Houston Oilers\"],[\"Cleveland Browns\"],[\"Cincinnati Bengals\"],[\"Denver Broncos\"],[\"Kansas City Chiefs\"],[\"San Diego Chargers\"],[\"Los Angeles Raiders\"],[\"Seattle Seahawks\"],[\"Dallas Cowboys\"],[\"Philadelphia Eagles\"],[\"Washington Redskins\"],[\"New York Giants\"],[\"Phoenix Cardinals\"],[\"Minnesota Vikings\"],[\"Chicago Bears\"],[\"Tampa Bay Buccaneers\"],[\"Green Bay Packers\"],[\"Detroit Lions\"],[\"San Francisco 49ers\"],[\"New Orleans Saints\"],[\"Los Angeles Rams\"],[\"Atlanta Falcons\"],[\"Buffalo Bills\"],[\"Miami Dolphins\"],[\"New York Jets\"],[\"Indianapolis Colts\"],[\"New England Patriots\"],[\"Cleveland Browns\"],[\"Pittsburgh Steelers\"],[\"Houston Oilers\"],[\"Cincinnati Bengals\"],[\"Kansas City Chiefs\"],[\"Los Angeles Raiders\"],[\"Seattle Seahawks\"],[\"Denver Broncos\"],[\"San Diego Chargers\"],[\"New York Giants\"],[\"Dallas Cowboys\"],[\"Philadelphia Eagles\"],[\"Phoenix Cardinals\"],[\"Washington Redskins\"],[\"Detroit Lions\"],[\"Minnesota Vikings\"],[\"Green Bay Packers\"],[\"Chicago Bears\"],[\"Tampa Bay Buccaneers\"],[\"New Orleans Saints\"],[\"San Francisco 49ers\"],[\"Atlanta Falcons\"],[\"Los Angeles Rams\"],[\"Miami Dolphins\"],[\"Buffalo Bills\"],[\"New York Jets\"],[\"New England Patriots\"],[\"Indianapolis Colts\"],[\"Cleveland Browns\"],[\"Pittsburgh Steelers\"],[\"Houston Oilers\"],[\"Cincinnati Bengals\"],[\"San Diego Chargers\"],[\"Kansas City Chiefs\"],[\"Los Angeles Raiders\"],[\"Seattle Seahawks\"],[\"Denver Broncos\"],[\"Dallas Cowboys\"],[\"Philadelphia Eagles\"],[\"New York Giants\"],[\"Arizona Cardinals\"],[\"Washington Redskins\"],[\"Minnesota Vikings\"],[\"Chicago Bears\"],[\"Green Bay Packers\"],[\"Detroit Lions\"],[\"Tampa Bay Buccaneers\"],[\"San Francisco 49ers\"],[\"Atlanta Falcons\"],[\"New Orleans Saints\"],[\"Los Angeles Rams\"],[\"Buffalo Bills\"],[\"Indianapolis Colts\"],[\"Miami Dolphins\"],[\"New England Patriots\"],[\"New York Jets\"],[\"Pittsburgh Steelers\"],[\"Cincinnati Bengals\"],[\"Cleveland Browns\"],[\"Jacksonville Jaguars\"],[\"Houston Oilers\"],[\"Kansas City Chiefs\"],[\"Oakland Raiders\"],[\"San Diego Chargers\"],[\"Denver Broncos\"],[\"Seattle Seahawks\"],[\"Dallas Cowboys\"],[\"Philadelphia Eagles\"],[\"Washington Redskins\"],[\"New York Giants\"],[\"Arizona Cardinals\"],[\"Green Bay Packers\"],[\"Chicago Bears\"],[\"Tampa Bay Buccaneers\"],[\"Minnesota Vikings\"],[\"Detroit Lions\"],[\"San Francisco 49ers\"],[\"Atlanta Falcons\"],[\"St. Louis Rams\"],[\"Carolina Panthers\"],[\"New Orleans Saints\"],[\"Buffalo Bills\"],[\"Indianapolis Colts\"],[\"New England Patriots\"],[\"Miami Dolphins\"],[\"New York Jets\"],[\"Pittsburgh Steelers\"],[\"Houston Oilers\"],[\"Jacksonville Jaguars\"],[\"Baltimore Ravens\"],[\"Cincinnati Bengals\"],[\"Denver Broncos\"],[\"Kansas City Chiefs\"],[\"San Diego Chargers\"],[\"Oakland Raiders\"],[\"Seattle Seahawks\"],[\"Washington Redskins\"],[\"Philadelphia Eagles\"],[\"Dallas Cowboys\"],[\"Arizona Cardinals\"],[\"New York Giants\"],[\"Green Bay Packers\"],[\"Minnesota Vikings\"],[\"Detroit Lions\"],[\"Chicago Bears\"],[\"Tampa Bay Buccaneers\"],[\"Carolina Panthers\"],[\"San Francisco 49ers\"],[\"St. Louis Rams\"],[\"New Orleans Saints\"],[\"Atlanta Falcons\"],[\"New England Patriots\"],[\"Miami Dolphins\"],[\"New York Jets\"],[\"Buffalo Bills\"],[\"Indianapolis Colts\"],[\"Pittsburgh Steelers\"],[\"Jacksonville Jaguars\"],[\"Tennessee Oilers\"],[\"Baltimore Ravens\"],[\"Cincinnati Bengals\"],[\"Denver Broncos\"],[\"Kansas City Chiefs\"],[\"Seattle Seahawks\"],[\"Oakland Raiders\"],[\"San Diego Chargers\"],[\"New York Giants\"],[\"Washington Redskins\"],[\"Dallas Cowboys\"],[\"Philadelphia Eagles\"],[\"Arizona Cardinals\"],[\"Green Bay Packers\"],[\"Tampa Bay Buccaneers\"],[\"Minnesota Vikings\"],[\"Detroit Lions\"],[\"Chicago Bears\"],[\"San Francisco 49ers\"],[\"Carolina Panthers\"],[\"St. Louis Rams\"],[\"New Orleans Saints\"],[\"Atlanta Falcons\"],[\"Miami Dolphins\"],[\"New York Jets\"],[\"Buffalo Bills\"],[\"New England Patriots\"],[\"Indianapolis Colts\"],[\"Jacksonville Jaguars\"],[\"Pittsburgh Steelers\"],[\"Tennessee Oilers\"],[\"Baltimore Ravens\"],[\"Cincinnati Bengals\"],[\"Denver Broncos\"],[\"Oakland Raiders\"],[\"Seattle Seahawks\"],[\"Kansas City Chiefs\"],[\"San Diego Chargers\"],[\"Dallas Cowboys\"],[\"Arizona Cardinals\"],[\"New York Giants\"],[\"Philadelphia Eagles\"],[\"Washington Redskins\"],[\"Minnesota Vikings\"],[\"Green Bay Packers\"],[\"Tampa Bay Buccaneers\"],[\"Chicago Bears\"],[\"Detroit Lions\"],[\"San Francisco 49ers\"],[\"Atlanta Falcons\"],[\"New Orleans Saints\"],[\"St. Louis Rams\"],[\"Carolina Panthers\"],[\"Miami Dolphins\"],[\"New England Patriots\"],[\"Indianapolis Colts\"],[\"Buffalo Bills\"],[\"New York Jets\"],[\"Jacksonville Jaguars\"],[\"Tennessee Titans\"],[\"Pittsburgh Steelers\"],[\"Baltimore Ravens\"],[\"Cincinnati Bengals\"],[\"Cleveland Browns\"],[\"Seattle Seahawks\"],[\"Kansas City Chiefs\"],[\"San Diego Chargers\"],[\"Oakland Raiders\"],[\"Denver Broncos\"],[\"Washington Redskins\"],[\"New York Giants\"],[\"Dallas Cowboys\"],[\"Arizona Cardinals\"],[\"Philadelphia Eagles\"],[\"Detroit Lions\"],[\"Green Bay Packers\"],[\"Minnesota Vikings\"],[\"Tampa Bay Buccaneers\"],[\"Chicago Bears\"],[\"St. Louis Rams\"],[\"San Francisco 49ers\"],[\"Carolina Panthers\"],[\"Atlanta Falcons\"],[\"New Orleans Saints\"],[\"New York Jets\"],[\"Miami Dolphins\"],[\"Indianapolis Colts\"],[\"Buffalo Bills\"],[\"New England Patriots\"],[\"Tennessee Titans\"],[\"Baltimore Ravens\"],[\"Pittsburgh Steelers\"],[\"Jacksonville Jaguars\"],[\"Cleveland Browns\"],[\"Cincinnati Bengals\"],[\"Oakland Raiders\"],[\"Kansas City Chiefs\"],[\"Denver Broncos\"],[\"Seattle Seahawks\"],[\"San Diego Chargers\"],[\"Washington Redskins\"],[\"New York Giants\"],[\"Philadelphia Eagles\"],[\"Dallas Cowboys\"],[\"Arizona Cardinals\"],[\"Minnesota Vikings\"],[\"Detroit Lions\"],[\"Tampa Bay Buccaneers\"],[\"Green Bay Packers\"],[\"Chicago Bears\"],[\"St. Louis Rams\"],[\"New Orleans Saints\"],[\"Carolina Panthers\"],[\"San Francisco 49ers\"],[\"Atlanta Falcons\"],[\"Miami Dolphins\"],[\"New York Jets\"],[\"Indianapolis Colts\"],[\"New England Patriots\"],[\"Buffalo Bills\"],[\"Pittsburgh Steelers\"],[\"Baltimore Ravens\"],[\"Cleveland Browns\"],[\"Cincinnati Bengals\"],[\"Tennessee Titans\"],[\"Jacksonville Jaguars\"],[\"Oakland Raiders\"],[\"San Diego Chargers\"],[\"Denver Broncos\"],[\"Seattle Seahawks\"],[\"Kansas City Chiefs\"],[\"Philadelphia Eagles\"],[\"New York Giants\"],[\"Washington Redskins\"],[\"Arizona Cardinals\"],[\"Dallas Cowboys\"],[\"Chicago Bears\"],[\"Green Bay Packers\"],[\"Tampa Bay Buccaneers\"],[\"Minnesota Vikings\"],[\"Detroit Lions\"],[\"St. Louis Rams\"],[\"San Francisco 49ers\"],[\"New Orleans Saints\"],[\"Atlanta Falcons\"],[\"Carolina Panthers\"],[\"Miami Dolphins\"],[\"Buffalo Bills\"],[\"New England Patriots\"],[\"New York Jets\"],[\"Pittsburgh Steelers\"],[\"Cleveland Browns\"],[\"Baltimore Ravens\"],[\"Cincinnati Bengals\"],[\"Indianapolis Colts\"],[\"Tennessee Titans\"],[\"Jacksonville Jaguars\"],[\"Houston Texans\"],[\"San Diego Chargers\"],[\"Denver Broncos\"],[\"Oakland Raiders\"],[\"Kansas City Chiefs\"],[\"Philadelphia Eagles\"],[\"New York Giants\"],[\"Washington Redskins\"],[\"Dallas Cowboys\"],[\"Green Bay Packers\"],[\"Minnesota Vikings\"],[\"Chicago Bears\"],[\"Detroit Lions\"],[\"Tampa Bay Buccaneers\"],[\"New Orleans Saints\"],[\"Atlanta Falcons\"],[\"Carolina Panthers\"],[\"San Francisco 49ers\"],[\"Arizona Cardinals\"],[\"St. Louis Rams\"],[\"Seattle Seahawks\"],[\"New England Patriots\"],[\"Miami Dolphins\"],[\"Buffalo Bills\"],[\"New York Jets\"],[\"Baltimore Ravens\"],[\"Cincinnati Bengals\"],[\"Cleveland Browns\"],[\"Pittsburgh Steelers\"],[\"Indianapolis Colts\"],[\"Tennessee Titans\"],[\"Houston Texans\"],[\"Jacksonville Jaguars\"],[\"Kansas City Chiefs\"],[\"Denver Broncos\"],[\"Oakland Raiders\"],[\"San Diego Chargers\"],[\"Dallas Cowboys\"],[\"Philadelphia Eagles\"],[\"Washington Redskins\"],[\"New York Giants\"],[\"Minnesota Vikings\"],[\"Green Bay Packers\"],[\"Chicago Bears\"],[\"Detroit Lions\"],[\"Carolina Panthers\"],[\"Tampa Bay Buccaneers\"],[\"New Orleans Saints\"],[\"Atlanta Falcons\"],[\"St. Louis Rams\"],[\"Seattle Seahawks\"],[\"San Francisco 49ers\"],[\"Arizona Cardinals\"],[\"New England Patriots\"],[\"New York Jets\"],[\"Buffalo Bills\"],[\"Miami Dolphins\"],[\"Pittsburgh Steelers\"],[\"Baltimore Ravens\"],[\"Cleveland Browns\"],[\"Cincinnati Bengals\"],[\"Jacksonville Jaguars\"],[\"Indianapolis Colts\"],[\"Houston Texans\"],[\"Tennessee Titans\"],[\"San Diego Chargers\"],[\"Denver Broncos\"],[\"Kansas City Chiefs\"],[\"Oakland Raiders\"],[\"Philadelphia Eagles\"],[\"New York Giants\"],[\"Dallas Cowboys\"],[\"Washington Redskins\"],[\"Minnesota Vikings\"],[\"Detroit Lions\"],[\"Green Bay Packers\"],[\"Chicago Bears\"],[\"Atlanta Falcons\"],[\"New Orleans Saints\"],[\"Tampa Bay Buccaneers\"],[\"Carolina Panthers\"],[\"Seattle Seahawks\"],[\"St. Louis Rams\"],[\"Arizona Cardinals\"],[\"San Francisco 49ers\"],[\"New England Patriots\"],[\"Miami Dolphins\"],[\"Buffalo Bills\"],[\"New York Jets\"],[\"Cincinnati Bengals\"],[\"Pittsburgh Steelers\"],[\"Baltimore Ravens\"],[\"Cleveland Browns\"],[\"Indianapolis Colts\"],[\"Jacksonville Jaguars\"],[\"Tennessee Titans\"],[\"Houston Texans\"],[\"Denver Broncos\"],[\"Kansas City Chiefs\"],[\"San Diego Chargers\"],[\"Oakland Raiders\"],[\"New York Giants\"],[\"Dallas Cowboys\"],[\"Washington Redskins\"],[\"Philadelphia Eagles\"],[\"Chicago Bears\"],[\"Detroit Lions\"],[\"Minnesota Vikings\"],[\"Green Bay Packers\"],[\"Tampa Bay Buccaneers\"],[\"Carolina Panthers\"],[\"Atlanta Falcons\"],[\"New Orleans Saints\"],[\"Seattle Seahawks\"],[\"St. Louis Rams\"],[\"Arizona Cardinals\"],[\"San Francisco 49ers\"],[\"New England Patriots\"],[\"New York Jets\"],[\"Buffalo Bills\"],[\"Miami Dolphins\"],[\"Baltimore Ravens\"],[\"Cincinnati Bengals\"],[\"Pittsburgh Steelers\"],[\"Cleveland Browns\"],[\"Indianapolis Colts\"],[\"Jacksonville Jaguars\"],[\"Tennessee Titans\"],[\"Houston Texans\"],[\"San Diego Chargers\"],[\"Denver Broncos\"],[\"Kansas City Chiefs\"],[\"Oakland Raiders\"],[\"New York Giants\"],[\"Dallas Cowboys\"],[\"Philadelphia Eagles\"],[\"Washington Redskins\"],[\"Chicago Bears\"],[\"Minnesota Vikings\"],[\"Green Bay Packers\"],[\"Detroit Lions\"],[\"New Orleans Saints\"],[\"Atlanta Falcons\"],[\"Carolina Panthers\"],[\"Tampa Bay Buccaneers\"],[\"Seattle Seahawks\"],[\"St. Louis Rams\"],[\"San Francisco 49ers\"],[\"Arizona Cardinals\"],[\"New England Patriots\"],[\"Buffalo Bills\"],[\"New York Jets\"],[\"Miami Dolphins\"],[\"Pittsburgh Steelers\"],[\"Cleveland Browns\"],[\"Baltimore Ravens\"],[\"Cincinnati Bengals\"],[\"Indianapolis Colts\"],[\"Jacksonville Jaguars\"],[\"Tennessee Titans\"],[\"Houston Texans\"],[\"San Diego Chargers\"],[\"Kansas City Chiefs\"],[\"Denver Broncos\"],[\"Oakland Raiders\"],[\"Dallas Cowboys\"],[\"New York Giants\"],[\"Washington Redskins\"],[\"Philadelphia Eagles\"],[\"Green Bay Packers\"],[\"Detroit Lions\"],[\"Chicago Bears\"],[\"Minnesota Vikings\"],[\"Carolina Panthers\"],[\"Tampa Bay Buccaneers\"],[\"New Orleans Saints\"],[\"Atlanta Falcons\"],[\"Seattle Seahawks\"],[\"Arizona Cardinals\"],[\"San Francisco 49ers\"],[\"St. Louis Rams\"],[\"New England Patriots\"],[\"Buffalo Bills\"],[\"New York Jets\"],[\"Miami Dolphins\"],[\"Pittsburgh Steelers\"],[\"Baltimore Ravens\"],[\"Cleveland Browns\"],[\"Cincinnati Bengals\"],[\"Tennessee Titans\"],[\"Indianapolis Colts\"],[\"Houston Texans\"],[\"Jacksonville Jaguars\"],[\"Denver Broncos\"],[\"San Diego Chargers\"],[\"Oakland Raiders\"],[\"Kansas City Chiefs\"],[\"New York Giants\"],[\"Washington Redskins\"],[\"Dallas Cowboys\"],[\"Philadelphia Eagles\"],[\"Chicago Bears\"],[\"Green Bay Packers\"],[\"Minnesota Vikings\"],[\"Detroit Lions\"],[\"Carolina Panthers\"],[\"Tampa Bay Buccaneers\"],[\"Atlanta Falcons\"],[\"New Orleans Saints\"],[\"Arizona Cardinals\"],[\"Seattle Seahawks\"],[\"St. Louis Rams\"],[\"San Francisco 49ers\"],[\"New England Patriots\"],[\"New York Jets\"],[\"Miami Dolphins\"],[\"Buffalo Bills\"],[\"Cincinnati Bengals\"],[\"Pittsburgh Steelers\"],[\"Baltimore Ravens\"],[\"Cleveland Browns\"],[\"Indianapolis Colts\"],[\"Houston Texans\"],[\"Jacksonville Jaguars\"],[\"Tennessee Titans\"],[\"Denver Broncos\"],[\"San Diego Chargers\"],[\"Oakland Raiders\"],[\"Kansas City Chiefs\"],[\"Dallas Cowboys\"],[\"Philadelphia Eagles\"],[\"New York Giants\"],[\"Washington Redskins\"],[\"Minnesota Vikings\"],[\"Green Bay Packers\"],[\"Chicago Bears\"],[\"Detroit Lions\"],[\"New Orleans Saints\"],[\"Atlanta Falcons\"],[\"Carolina Panthers\"],[\"Tampa Bay Buccaneers\"],[\"Arizona Cardinals\"],[\"San Francisco 49ers\"],[\"Seattle Seahawks\"],[\"St. Louis Rams\"],[\"New England Patriots\"],[\"New York Jets\"],[\"Miami Dolphins\"],[\"Buffalo Bills\"],[\"Pittsburgh Steelers\"],[\"Baltimore Ravens\"],[\"Cleveland Browns\"],[\"Cincinnati Bengals\"],[\"Indianapolis Colts\"],[\"Tennessee Titans\"],[\"Houston Texans\"],[\"Jacksonville Jaguars\"],[\"Kansas City Chiefs\"],[\"Oakland Raiders\"],[\"San Diego Chargers\"],[\"Denver Broncos\"],[\"New York Giants\"],[\"Philadelphia Eagles\"],[\"Washington Redskins\"],[\"Dallas Cowboys\"],[\"Green Bay Packers\"],[\"Chicago Bears\"],[\"Detroit Lions\"],[\"Minnesota Vikings\"],[\"Atlanta Falcons\"],[\"Tampa Bay Buccaneers\"],[\"New Orleans Saints\"],[\"Carolina Panthers\"],[\"Seattle Seahawks\"],[\"St. Louis Rams\"],[\"Arizona Cardinals\"],[\"San Francisco 49ers\"],[\"New England Patriots\"],[\"Buffalo Bills\"],[\"New York Jets\"],[\"Miami Dolphins\"],[\"Pittsburgh Steelers\"],[\"Baltimore Ravens\"],[\"Cincinnati Bengals\"],[\"Cleveland Browns\"],[\"Houston Texans\"],[\"Tennessee Titans\"],[\"Jacksonville Jaguars\"],[\"Indianapolis Colts\"],[\"San Diego Chargers\"],[\"Oakland Raiders\"],[\"Kansas City Chiefs\"],[\"Denver Broncos\"],[\"New York Giants\"],[\"Philadelphia Eagles\"],[\"Dallas Cowboys\"],[\"Washington Redskins\"],[\"Green Bay Packers\"],[\"Detroit Lions\"],[\"Chicago Bears\"],[\"Minnesota Vikings\"],[\"New Orleans Saints\"],[\"Atlanta Falcons\"],[\"Tampa Bay Buccaneers\"],[\"Carolina Panthers\"],[\"San Francisco 49ers\"],[\"Seattle Seahawks\"],[\"Arizona Cardinals\"],[\"St. Louis Rams\"],[\"New England Patriots\"],[\"Miami Dolphins\"],[\"Buffalo Bills\"],[\"New York Jets\"],[\"Baltimore Ravens\"],[\"Pittsburgh Steelers\"],[\"Cincinnati Bengals\"],[\"Cleveland Browns\"],[\"Houston Texans\"],[\"Indianapolis Colts\"],[\"Tennessee Titans\"],[\"Jacksonville Jaguars\"],[\"Denver Broncos\"],[\"San Diego Chargers\"],[\"Oakland Raiders\"],[\"Kansas City Chiefs\"],[\"New York Giants\"],[\"Dallas Cowboys\"],[\"Philadelphia Eagles\"],[\"Washington Redskins\"],[\"Chicago Bears\"],[\"Green Bay Packers\"],[\"Minnesota Vikings\"],[\"Detroit Lions\"],[\"Atlanta Falcons\"],[\"Tampa Bay Buccaneers\"],[\"New Orleans Saints\"],[\"Carolina Panthers\"],[\"San Francisco 49ers\"],[\"Seattle Seahawks\"],[\"Arizona Cardinals\"],[\"St. Louis Rams\"],[\"New England Patriots\"],[\"New York Jets\"],[\"Miami Dolphins\"],[\"Buffalo Bills\"],[\"Cincinnati Bengals\"],[\"Baltimore Ravens\"],[\"Cleveland Browns\"],[\"Pittsburgh Steelers\"],[\"Indianapolis Colts\"],[\"Tennessee Titans\"],[\"Houston Texans\"],[\"Jacksonville Jaguars\"],[\"Kansas City Chiefs\"],[\"Denver Broncos\"],[\"San Diego Chargers\"],[\"Oakland Raiders\"],[\"Dallas Cowboys\"],[\"Philadelphia Eagles\"],[\"Washington Redskins\"],[\"New York Giants\"],[\"Green Bay Packers\"],[\"Detroit Lions\"],[\"Chicago Bears\"],[\"Minnesota Vikings\"],[\"New Orleans Saints\"],[\"Carolina Panthers\"],[\"Atlanta Falcons\"],[\"Tampa Bay Buccaneers\"],[\"Seattle Seahawks\"],[\"San Francisco 49ers\"],[\"Arizona Cardinals\"],[\"St. Louis Rams\"],[\"New England Patriots\"],[\"Buffalo Bills\"],[\"Miami Dolphins\"],[\"New York Jets\"],[\"Cincinnati Bengals\"],[\"Pittsburgh Steelers\"],[\"Baltimore Ravens\"],[\"Cleveland Browns\"],[\"Indianapolis Colts\"],[\"Houston Texans\"],[\"Tennessee Titans\"],[\"Jacksonville Jaguars\"],[\"Denver Broncos\"],[\"San Diego Chargers\"],[\"Kansas City Chiefs\"],[\"Oakland Raiders\"],[\"Dallas Cowboys\"],[\"Philadelphia Eagles\"],[\"New York Giants\"],[\"Washington Redskins\"],[\"Detroit Lions\"],[\"Green Bay Packers\"],[\"Minnesota Vikings\"],[\"Chicago Bears\"],[\"Carolina Panthers\"],[\"New Orleans Saints\"],[\"Atlanta Falcons\"],[\"Tampa Bay Buccaneers\"],[\"Arizona Cardinals\"],[\"Seattle Seahawks\"],[\"San Francisco 49ers\"],[\"St. Louis Rams\"],[\"New England Patriots\"],[\"New York Jets\"],[\"Buffalo Bills\"],[\"Miami Dolphins\"],[\"Cincinnati Bengals\"],[\"Pittsburgh Steelers\"],[\"Baltimore Ravens\"],[\"Cleveland Browns\"],[\"Houston Texans\"],[\"Indianapolis Colts\"],[\"Jacksonville Jaguars\"],[\"Tennessee Titans\"],[\"Denver Broncos\"],[\"Oakland Raiders\"],[\"Kansas City Chiefs\"],[\"San Diego Chargers\"],[\"New York Giants\"],[\"Washington Redskins\"],[\"Philadelphia Eagles\"],[\"Dallas Cowboys\"],[\"Green Bay Packers\"],[\"Minnesota Vikings\"],[\"Chicago Bears\"],[\"Detroit Lions\"],[\"Carolina Panthers\"],[\"Atlanta Falcons\"],[\"New Orleans Saints\"],[\"Tampa Bay Buccaneers\"],[\"Arizona Cardinals\"],[\"St. Louis Rams\"],[\"Seattle Seahawks\"],[\"San Francisco 49ers\"],[\"New England Patriots\"],[\"Buffalo Bills\"],[\"Miami Dolphins\"],[\"New York Jets\"],[\"Pittsburgh Steelers\"],[\"Cincinnati Bengals\"],[\"Baltimore Ravens\"],[\"Cleveland Browns\"],[\"Houston Texans\"],[\"Tennessee Titans\"],[\"Indianapolis Colts\"],[\"Jacksonville Jaguars\"],[\"Oakland Raiders\"],[\"Denver Broncos\"],[\"Kansas City Chiefs\"],[\"San Diego Chargers\"],[\"Dallas Cowboys\"],[\"New York Giants\"],[\"Philadelphia Eagles\"],[\"Washington Redskins\"],[\"Minnesota Vikings\"],[\"Green Bay Packers\"],[\"Detroit Lions\"],[\"Chicago Bears\"],[\"Atlanta Falcons\"],[\"Tampa Bay Buccaneers\"],[\"New Orleans Saints\"],[\"Carolina Panthers\"],[\"Seattle Seahawks\"],[\"Arizona Cardinals\"],[\"Los Angeles Rams\"],[\"San Francisco 49ers\"],[\"New England Patriots\"],[\"Buffalo Bills\"],[\"Miami Dolphins\"],[\"New York Jets\"],[\"Pittsburgh Steelers\"],[\"Baltimore Ravens\"],[\"Cincinnati Bengals\"],[\"Cleveland Browns\"],[\"Jacksonville Jaguars\"],[\"Tennessee Titans\"],[\"Houston Texans\"],[\"Indianapolis Colts\"],[\"Kansas City Chiefs\"],[\"Denver Broncos\"],[\"Los Angeles Chargers\"],[\"Oakland Raiders\"],[\"Philadelphia Eagles\"],[\"Dallas Cowboys\"],[\"Washington Redskins\"],[\"New York Giants\"],[\"Minnesota Vikings\"],[\"Green Bay Packers\"],[\"Detroit Lions\"],[\"Chicago Bears\"],[\"New Orleans Saints\"],[\"Carolina Panthers\"],[\"Atlanta Falcons\"],[\"Tampa Bay Buccaneers\"],[\"Los Angeles Rams\"],[\"Seattle Seahawks\"],[\"Arizona Cardinals\"],[\"San Francisco 49ers\"],[\"New England Patriots\"],[\"Miami Dolphins\"],[\"New York Jets\"],[\"Buffalo Bills\"],[\"Pittsburgh Steelers\"],[\"Cincinnati Bengals\"],[\"Baltimore Ravens\"],[\"Cleveland Browns\"],[\"Houston Texans\"],[\"Tennessee Titans\"],[\"Indianapolis Colts\"],[\"Jacksonville Jaguars\"],[\"Kansas City Chiefs\"],[\"Los Angeles Chargers\"],[\"Denver Broncos\"],[\"Oakland Raiders\"],[\"Washington Redskins\"],[\"Philadelphia Eagles\"],[\"Dallas Cowboys\"],[\"New York Giants\"],[\"Chicago Bears\"],[\"Minnesota Vikings\"],[\"Green Bay Packers\"],[\"Detroit Lions\"],[\"New Orleans Saints\"],[\"Carolina Panthers\"],[\"Atlanta Falcons\"],[\"Tampa Bay Buccaneers\"],[\"Los Angeles Rams\"],[\"Seattle Seahawks\"],[\"Arizona Cardinals\"],[\"San Francisco 49ers\"],[\"New England Patriots\"],[\"Buffalo Bills\"],[\"New York Jets\"],[\"Miami Dolphins\"],[\"Baltimore Ravens\"],[\"Pittsburgh Steelers\"],[\"Cleveland Browns\"],[\"Cincinnati Bengals\"],[\"Indianapolis Colts\"],[\"Houston Texans\"],[\"Tennessee Titans\"],[\"Jacksonville Jaguars\"],[\"Kansas City Chiefs\"],[\"Oakland Raiders\"],[\"Los Angeles Chargers\"],[\"Denver Broncos\"],[\"Dallas Cowboys\"],[\"Philadelphia Eagles\"],[\"New York Giants\"],[\"Washington Redskins\"],[\"Green Bay Packers\"],[\"Minnesota Vikings\"],[\"Detroit Lions\"],[\"Chicago Bears\"],[\"New Orleans Saints\"],[\"Carolina Panthers\"],[\"Tampa Bay Buccaneers\"],[\"Atlanta Falcons\"],[\"San Francisco 49ers\"],[\"Seattle Seahawks\"],[\"Los Angeles Rams\"],[\"Arizona Cardinals\"],[\"Buffalo Bills\"],[\"Miami Dolphins\"],[\"New England Patriots\"],[\"New York Jets\"],[\"Pittsburgh Steelers\"],[\"Baltimore Ravens\"],[\"Cleveland Browns\"],[\"Cincinnati Bengals\"],[\"Tennessee Titans\"],[\"Indianapolis Colts\"],[\"Houston Texans\"],[\"Jacksonville Jaguars\"],[\"Kansas City Chiefs\"],[\"Las Vegas Raiders\"],[\"Denver Broncos\"],[\"Los Angeles Chargers\"],[\"Philadelphia Eagles\"],[\"Washington Football Team\"],[\"Dallas Cowboys\"],[\"New York Giants\"],[\"Green Bay Packers\"],[\"Chicago Bears\"],[\"Detroit Lions\"],[\"Minnesota Vikings\"],[\"Tampa Bay Buccaneers\"],[\"New Orleans Saints\"],[\"Carolina Panthers\"],[\"Atlanta Falcons\"],[\"Seattle Seahawks\"],[\"Arizona Cardinals\"],[\"Los Angeles Rams\"],[\"San Francisco 49ers\"]],\"hovertemplate\":\"Wk 8 Pts Margin=%{marker.color}<br>Wk 17 Wins=%{marker.size}<br>Team=%{customdata[0]}<extra></extra>\",\"legendgroup\":\"\",\"marker\":{\"color\":[39.0,55.0,43.0,-30.0,-92.0,101.0,7.0,-7.0,-80.0,30.0,23.0,-13.0,-37.0,-64.0,71.0,33.0,19.0,7.0,-87.0,47.0,7.0,8.0,-14.0,-49.0,62.0,-21.0,-9.0,-49.0,91.0,20.0,-30.0,32.0,-51.0,65.0,-6.0,-12.0,-51.0,88.0,-26.0,-2.0,28.0,-9.0,68.0,26.0,50.0,-37.0,-28.0,35.0,-39.0,-17.0,-26.0,-66.0,-24.0,12.0,-21.0,-70.0,58.0,58.0,-48.0,4.0,-47.0,15.0,9.0,43.0,-17.0,71.0,23.0,-14.0,-21.0,-26.0,113.0,95.0,-11.0,-3.0,-127.0,52.0,-40.0,-54.0,-61.0,-11.0,53.0,70.0,-69.0,-115.0,34.0,53.0,-37.0,7.0,-123.0,39.0,16.0,-25.0,-22.0,44.0,66.0,42.0,-35.0,-67.0,71.0,30.0,43.0,-51.0,-56.0,-11.0,15.0,27.0,-48.0,-72.0,51.0,60.0,14.0,-65.0,36.0,-15.0,21.0,-32.0,-5.0,57.0,-31.0,-31.0,-88.0,51.0,3.0,0.0,25.0,-28.0,78.0,80.0,-28.0,-81.0,-30.0,0.0,-7.0,-7.0,-7.0,-81.0,91.0,17.0,6.0,6.0,150.0,44.0,-24.0,-55.0,-97.0,-5.0,-52.0,-48.0,-131.0,64.0,57.0,64.0,-8.0,13.0,74.0,42.0,-13.0,-35.0,-4.0,42.0,-57.0,-21.0,-40.0,-54.0,71.0,47.0,-21.0,-3.0,55.0,30.0,13.0,-14.0,-89.0,19.0,-24.0,29.0,-26.0,39.0,58.0,-11.0,-31.0,-30.0,72.0,50.0,-44.0,2.0,-41.0,125.0,-23.0,0.0,-46.0,-86.0,46.0,50.0,-44.0,-79.0,40.0,104.0,-35.0,-26.0,-125.0,-5.0,-37.0,-77.0,-33.0,73.0,9.0,58.0,17.0,-58.0,59.0,23.0,92.0,-45.0,-91.0,89.0,62.0,-20.0,-114.0,-91.0,17.0,77.0,35.0,2.0,37.0,-12.0,46.0,-61.0,2.0,27.0,66.0,1.0,-32.0,32.0,59.0,45.0,11.0,-115.0,69.0,10.0,-35.0,-29.0,-52.0,86.0,36.0,-15.0,-21.0,-94.0,45.0,57.0,-99.0,-64.0,32.0,18.0,-9.0,-6.0,-67.0,81.0,14.0,-22.0,-44.0,-19.0,27.0,-32.0,-67.0,-30.0,9.0,28.0,19.0,12.0,-28.0,74.0,46.0,-65.0,-51.0,1.0,43.0,90.0,24.0,-78.0,41.0,11.0,-29.0,-58.0,-83.0,79.0,64.0,13.0,-70.0,51.0,30.0,-12.0,-28.0,-24.0,76.0,26.0,7.0,-17.0,-126.0,23.0,46.0,4.0,-37.0,-75.0,70.0,8.0,52.0,-42.0,51.0,62.0,-39.0,-57.0,-96.0,1.0,29.0,12.0,-65.0,48.0,53.0,9.0,-10.0,22.0,75.0,41.0,-1.0,-46.0,-72.0,77.0,-25.0,-11.0,-29.0,-9.0,56.0,-1.0,-35.0,-40.0,75.0,16.0,-42.0,-41.0,-138.0,94.0,-12.0,-16.0,-99.0,24.0,61.0,-11.0,42.0,-42.0,149.0,14.0,5.0,-34.0,3.0,-23.0,-4.0,-13.0,-42.0,-56.0,97.0,-27.0,53.0,-33.0,63.0,68.0,-33.0,-43.0,-96.0,61.0,59.0,6.0,-65.0,-33.0,25.0,-32.0,-15.0,-105.0,55.0,66.0,31.0,-11.0,-64.0,46.0,14.0,-16.0,-61.0,12.0,91.0,35.0,-12.0,-46.0,58.0,34.0,24.0,-48.0,-81.0,19.0,48.0,4.0,-81.0,22.0,10.0,0.0,31.0,-43.0,74.0,40.0,-5.0,2.0,-62.0,21.0,-9.0,29.0,31.0,-91.0,26.0,29.0,-44.0,-38.0,34.0,-9.0,-6.0,-8.0,-19.0,87.0,7.0,-62.0,-79.0,59.0,28.0,-15.0,29.0,-36.0,97.0,49.0,-17.0,-66.0,-42.0,42.0,0.0,20.0,-18.0,-63.0,87.0,-26.0,-52.0,-21.0,28.0,-12.0,64.0,-78.0,-100.0,-20.0,9.0,9.0,-31.0,-17.0,61.0,90.0,-14.0,31.0,-44.0,85.0,-29.0,-4.0,-41.0,-66.0,34.0,37.0,-2.0,-7.0,-10.0,102.0,-1.0,-1.0,-29.0,-44.0,-13.0,10.0,34.0,47.0,-98.0,41.0,31.0,-2.0,-42.0,-32.0,62.0,43.0,-8.0,31.0,-78.0,62.0,11.0,29.0,-59.0,-58.0,135.0,11.0,38.0,-48.0,-74.0,73.0,77.0,-80.0,-59.0,-84.0,91.0,19.0,45.0,-34.0,-70.0,1.0,46.0,-5.0,16.0,-92.0,102.0,40.0,-19.0,6.0,-52.0,4.0,8.0,48.0,-23.0,-25.0,19.0,16.0,21.0,25.0,-98.0,89.0,-20.0,-46.0,-57.0,-55.0,35.0,44.0,20.0,48.0,-81.0,18.0,6.0,18.0,-32.0,-59.0,107.0,-12.0,55.0,8.0,-36.0,59.0,-47.0,-6.0,-83.0,-134.0,125.0,39.0,-27.0,-26.0,-45.0,99.0,24.0,-18.0,-28.0,-71.0,29.0,41.0,53.0,18.0,-29.0,111.0,26.0,28.0,-40.0,-145.0,-123.0,40.0,79.0,-23.0,4.0,-24.0,54.0,0.0,53.0,-71.0,-44.0,30.0,-11.0,25.0,-11.0,-32.0,151.0,-63.0,-9.0,-76.0,-41.0,25.0,58.0,49.0,-13.0,-28.0,48.0,45.0,43.0,-48.0,-102.0,-96.0,64.0,41.0,60.0,-79.0,-87.0,34.0,15.0,71.0,0.0,-89.0,47.0,9.0,39.0,9.0,-92.0,68.0,14.0,28.0,-44.0,-89.0,16.0,-18.0,3.0,25.0,-73.0,42.0,12.0,14.0,-16.0,-51.0,-1.0,56.0,60.0,10.0,-40.0,-8.0,47.0,8.0,-82.0,-67.0,-31.0,67.0,63.0,20.0,-27.0,-87.0,92.0,19.0,14.0,-16.0,-51.0,47.0,10.0,10.0,-77.0,29.0,13.0,-20.0,-136.0,1.0,-37.0,14.0,-72.0,54.0,37.0,41.0,19.0,97.0,-26.0,-47.0,-38.0,49.0,-30.0,-41.0,-64.0,80.0,47.0,48.0,-6.0,36.0,5.0,-19.0,-24.0,25.0,57.0,-5.0,-7.0,28.0,-18.0,-15.0,-47.0,82.0,57.0,-79.0,-57.0,116.0,43.0,-36.0,-70.0,34.0,-17.0,-36.0,-6.0,63.0,34.0,-71.0,-67.0,16.0,53.0,-19.0,-106.0,74.0,39.0,30.0,-95.0,44.0,52.0,-5.0,-62.0,36.0,27.0,0.0,-40.0,-18.0,40.0,15.0,-27.0,63.0,27.0,29.0,-85.0,82.0,38.0,-39.0,-25.0,21.0,-17.0,20.0,-13.0,0.0,-37.0,-15.0,-58.0,34.0,-7.0,-16.0,-64.0,-21.0,2.0,-31.0,-47.0,64.0,55.0,-32.0,-28.0,112.0,4.0,-50.0,-102.0,49.0,9.0,55.0,4.0,72.0,44.0,-4.0,-4.0,38.0,-8.0,-90.0,19.0,39.0,37.0,42.0,-97.0,54.0,-23.0,-51.0,-111.0,80.0,-33.0,-53.0,-43.0,54.0,13.0,12.0,-31.0,52.0,31.0,-66.0,-61.0,107.0,32.0,0.0,-56.0,46.0,62.0,46.0,-31.0,152.0,1.0,-24.0,-57.0,22.0,19.0,-26.0,-54.0,-28.0,-3.0,-101.0,-62.0,204.0,-38.0,-66.0,-78.0,93.0,-9.0,5.0,-34.0,122.0,21.0,28.0,-30.0,43.0,-11.0,-64.0,-18.0,69.0,41.0,-11.0,22.0,41.0,-22.0,-37.0,-6.0,-11.0,13.0,-30.0,-58.0,29.0,-10.0,-78.0,-120.0,21.0,22.0,12.0,-1.0,45.0,24.0,-8.0,-113.0,93.0,-13.0,-10.0,-10.0,-22.0,25.0,-70.0,-94.0,76.0,20.0,18.0,57.0,46.0,35.0,-13.0,-98.0,47.0,50.0,-1.0,21.0,29.0,-40.0,-89.0,-59.0,100.0,43.0,-1.0,-46.0,35.0,38.0,62.0,-131.0,106.0,30.0,-44.0,-97.0,44.0,26.0,-123.0,-76.0,61.0,70.0,29.0,-27.0,70.0,53.0,9.0,-92.0,119.0,22.0,-38.0,-107.0,14.0,7.0,-12.0,-144.0,51.0,49.0,-16.0,-80.0,45.0,20.0,-24.0,-17.0,51.0,74.0,-27.0,-61.0,41.0,44.0,36.0,-69.0,22.0,15.0,-15.0,-33.0,40.0,12.0,18.0,-15.0,36.0,-27.0,19.0,-65.0,-17.0,-1.0,-65.0,-41.0,42.0,64.0,20.0,-59.0,37.0,75.0,48.0,-33.0,61.0,-6.0,-65.0,-131.0,2.0,-18.0,-42.0,-67.0,10.0,27.0,-6.0,-23.0,89.0,92.0,20.0,-27.0,71.0,-5.0,-38.0,-20.0,80.0,-53.0,-40.0,-105.0,92.0,24.0,-56.0,-32.0,13.0,23.0,-21.0,-32.0,88.0,-35.0,-95.0,-85.0,52.0,10.0,-48.0,-89.0,73.0,-25.0,-35.0,-14.0,85.0,38.0,17.0,-13.0,71.0,31.0,-26.0,-39.0,86.0,6.0,-15.0,-49.0,35.0,-68.0,-15.0,-37.0,53.0,2.0,-31.0,-28.0,56.0,-1.0,-72.0,-178.0,94.0,125.0,24.0,-24.0,44.0,-35.0,-56.0,-82.0,54.0,20.0,7.0,-62.0,76.0,74.0,-18.0,-63.0,80.0,73.0,-14.0,-33.0,61.0,13.0,23.0,-84.0,-3.0,9.0,86.0,11.0,63.0,19.0,-65.0,-100.0,82.0,56.0,48.0,-76.0,46.0,47.0,-15.0,-29.0,36.0,31.0,-34.0,-42.0,-41.0,11.0,-29.0,-90.0,25.0,22.0,-7.0,-74.0,116.0,33.0,3.0,-19.0,66.0,21.0,-24.0,-49.0,-31.0,-30.0,-60.0,-34.0,56.0,5.0,13.0,-36.0,7.0,-20.0,23.0,-38.0,44.0,25.0,-62.0,-96.0,55.0,40.0,-21.0,-36.0,110.0,10.0,27.0,-98.0,85.0,40.0,-13.0,-58.0,20.0,-22.0,-6.0,-80.0,-30.0,-1.0,-22.0,-57.0,12.0,58.0,29.0,13.0,58.0,-8.0,62.0,-3.0,35.0,16.0,-7.0,-48.0,31.0,-37.0,-14.0,-5.0,22.0,39.0,-34.0,-75.0,37.0,38.0,-60.0,-29.0,36.0,22.0,-13.0,-83.0,73.0,-15.0,27.0,-104.0,56.0,-20.0,-2.0,-21.0,76.0,37.0,-20.0,-44.0,44.0,3.0,7.0,-37.0,46.0,6.0,1.0,-20.0,74.0,43.0,-72.0,-86.0,54.0,-45.0,-8.0,-113.0,32.0,-16.0,60.0,-41.0,30.0,-21.0,18.0,-36.0,85.0,32.0,-6.0,-80.0,12.0,22.0,17.0,-55.0,50.0,2.0,2.0,-15.0,51.0,26.0,-22.0,-32.0,109.0,40.0,-89.0,-63.0,189.0,12.0,-107.0,-161.0,58.0,5.0,-48.0,-86.0,7.0,24.0,13.0,10.0,45.0,-41.0,0.0,-26.0,66.0,3.0,-60.0,-96.0,52.0,79.0,-6.0,6.0,39.0,-5.0,-16.0,-85.0,130.0,12.0,40.0,-53.0,-1.0,58.0,-31.0,-144.0,69.0,71.0,-31.0,-20.0,24.0,62.0,-51.0,-66.0,101.0,-16.0,-36.0,-6.0,-19.0,-32.0,-81.0,-54.0,32.0,-5.0,-29.0,-31.0,82.0,9.0,-14.0,-15.0,41.0,57.0,41.0,35.0],\"coloraxis\":\"coloraxis\",\"size\":[11.0,11.0,8.0,5.0,5.0,14.0,10.0,8.0,4.0,10.0,9.0,9.0,9.0,4.0,12.0,9.0,8.0,6.0,6.0,8.0,8.0,7.0,7.0,5.0,12.0,9.0,7.0,2.0,10.0,9.0,8.0,7.0,5.0,12.0,11.0,9.0,4.0,12.0,10.0,9.0,9.0,7.0,11.0,11.0,10.0,6.0,5.0,10.0,10.0,7.0,5.0,2.0,9.0,8.0,6.0,2.0,11.0,10.0,8.0,7.0,4.0,11.0,11.0,9.0,6.0,11.0,11.0,8.0,8.0,4.0,12.0,12.0,6.0,5.0,4.0,9.0,9.0,7.0,5.0,5.0,12.0,11.0,6.0,1.0,11.0,10.0,10.0,2.0,2.0,12.0,8.0,7.0,5.0,10.0,10.0,9.0,7.0,6.0,12.0,10.0,9.0,8.0,7.0,9.0,8.0,8.0,7.0,6.0,13.0,7.0,6.0,4.0,12.0,8.0,8.0,7.0,7.0,10.0,9.0,7.0,2.0,12.0,9.0,9.0,6.0,6.0,14.0,12.0,8.0,5.0,3.0,9.0,8.0,8.0,8.0,2.0,10.0,9.0,8.0,7.0,14.0,9.0,7.0,4.0,2.0,9.0,8.0,5.0,3.0,13.0,12.0,11.0,8.0,7.0,11.0,9.0,9.0,9.0,6.0,10.0,8.0,6.0,4.0,3.0,15.0,10.0,7.0,4.0,12.0,11.0,11.0,5.0,2.0,8.0,7.0,7.0,5.0,12.0,11.0,8.0,8.0,6.0,10.0,10.0,10.0,7.0,5.0,15.0,8.0,7.0,7.0,2.0,11.0,10.0,5.0,4.0,11.0,10.0,8.0,4.0,3.0,12.0,10.0,6.0,5.0,11.0,10.0,10.0,8.0,4.0,14.0,12.0,7.0,5.0,4.0,14.0,9.0,5.0,4.0,2.0,10.0,10.0,7.0,7.0,9.0,8.0,8.0,7.0,6.0,10.0,9.0,8.0,4.0,10.0,9.0,8.0,5.0,4.0,11.0,7.0,7.0,7.0,6.0,11.0,8.0,5.0,4.0,4.0,13.0,12.0,6.0,3.0,12.0,9.0,9.0,8.0,6.0,12.0,10.0,10.0,5.0,9.0,8.0,7.0,6.0,4.0,10.0,10.0,7.0,7.0,3.0,12.0,11.0,5.0,4.0,4.0,10.0,10.0,10.0,5.0,9.0,8.0,8.0,5.0,4.0,9.0,9.0,9.0,8.0,11.0,8.0,8.0,7.0,6.0,12.0,11.0,10.0,5.0,1.0,10.0,10.0,7.0,6.0,5.0,14.0,11.0,9.0,3.0,13.0,12.0,7.0,6.0,1.0,9.0,9.0,9.0,3.0,12.0,11.0,9.0,6.0,5.0,13.0,10.0,10.0,7.0,5.0,11.0,6.0,6.0,6.0,6.0,14.0,8.0,5.0,5.0,13.0,8.0,8.0,6.0,1.0,11.0,7.0,6.0,3.0,12.0,10.0,9.0,7.0,4.0,14.0,11.0,10.0,8.0,4.0,12.0,11.0,8.0,4.0,3.0,11.0,10.0,10.0,3.0,11.0,11.0,9.0,4.0,2.0,11.0,10.0,7.0,5.0,11.0,10.0,8.0,7.0,2.0,13.0,11.0,9.0,6.0,4.0,11.0,9.0,5.0,5.0,5.0,14.0,12.0,6.0,6.0,11.0,9.0,8.0,4.0,4.0,11.0,8.0,7.0,3.0,10.0,9.0,9.0,7.0,6.0,11.0,11.0,7.0,6.0,4.0,9.0,9.0,8.0,7.0,5.0,10.0,7.0,6.0,4.0,10.0,10.0,8.0,7.0,6.0,12.0,11.0,3.0,2.0,11.0,9.0,9.0,7.0,6.0,12.0,9.0,8.0,7.0,3.0,10.0,9.0,9.0,9.0,6.0,13.0,7.0,7.0,4.0,10.0,9.0,9.0,6.0,3.0,11.0,7.0,7.0,5.0,4.0,13.0,9.0,8.0,8.0,8.0,12.0,10.0,6.0,5.0,4.0,11.0,10.0,9.0,8.0,7.0,11.0,9.0,7.0,7.0,7.0,11.0,10.0,9.0,8.0,1.0,10.0,9.0,8.0,8.0,4.0,13.0,9.0,8.0,7.0,7.0,10.0,10.0,9.0,7.0,6.0,13.0,9.0,7.0,6.0,5.0,12.0,12.0,6.0,3.0,3.0,10.0,9.0,9.0,6.0,3.0,11.0,11.0,8.0,7.0,6.0,13.0,12.0,8.0,4.0,4.0,10.0,8.0,6.0,6.0,4.0,13.0,10.0,9.0,9.0,4.0,13.0,7.0,7.0,6.0,5.0,12.0,10.0,10.0,9.0,3.0,11.0,8.0,7.0,6.0,3.0,14.0,8.0,8.0,7.0,5.0,10.0,9.0,8.0,6.0,3.0,15.0,11.0,8.0,5.0,4.0,14.0,12.0,6.0,4.0,4.0,13.0,11.0,9.0,8.0,8.0,14.0,13.0,8.0,6.0,4.0,2.0,9.0,9.0,8.0,8.0,6.0,10.0,8.0,7.0,6.0,5.0,11.0,10.0,8.0,8.0,6.0,13.0,8.0,5.0,4.0,3.0,11.0,10.0,9.0,8.0,5.0,13.0,12.0,9.0,7.0,4.0,3.0,12.0,11.0,7.0,6.0,1.0,12.0,11.0,8.0,5.0,3.0,11.0,10.0,9.0,9.0,5.0,10.0,10.0,7.0,6.0,4.0,11.0,11.0,10.0,6.0,3.0,13.0,10.0,7.0,7.0,6.0,6.0,10.0,9.0,8.0,6.0,5.0,11.0,8.0,7.0,7.0,5.0,13.0,12.0,9.0,5.0,2.0,14.0,12.0,7.0,7.0,1.0,9.0,9.0,9.0,8.0,10.0,9.0,7.0,2.0,11.0,10.0,6.0,4.0,11.0,9.0,8.0,8.0,12.0,10.0,7.0,5.0,12.0,6.0,4.0,3.0,12.0,9.0,9.0,7.0,10.0,7.0,7.0,5.0,14.0,10.0,6.0,6.0,10.0,8.0,6.0,5.0,12.0,12.0,5.0,5.0,13.0,10.0,4.0,4.0,12.0,10.0,5.0,4.0,10.0,9.0,7.0,5.0,11.0,8.0,7.0,5.0,12.0,10.0,7.0,4.0,14.0,10.0,9.0,4.0,15.0,9.0,8.0,4.0,12.0,9.0,7.0,5.0,12.0,10.0,7.0,5.0,13.0,6.0,6.0,6.0,10.0,8.0,6.0,5.0,11.0,8.0,7.0,5.0,9.0,8.0,6.0,2.0,10.0,9.0,5.0,4.0,11.0,11.0,6.0,6.0,14.0,12.0,4.0,2.0,13.0,10.0,9.0,4.0,11.0,10.0,9.0,6.0,11.0,9.0,5.0,4.0,11.0,11.0,8.0,3.0,13.0,6.0,5.0,4.0,12.0,10.0,7.0,6.0,13.0,8.0,8.0,4.0,12.0,8.0,8.0,6.0,14.0,9.0,9.0,2.0,10.0,9.0,8.0,5.0,13.0,8.0,6.0,3.0,10.0,8.0,7.0,4.0,9.0,8.0,7.0,5.0,16.0,7.0,4.0,1.0,10.0,10.0,7.0,5.0,13.0,11.0,10.0,8.0,11.0,7.0,4.0,4.0,13.0,10.0,9.0,8.0,13.0,8.0,7.0,7.0,9.0,7.0,7.0,4.0,10.0,8.0,5.0,3.0,11.0,11.0,9.0,7.0,12.0,11.0,4.0,4.0,13.0,12.0,8.0,5.0,8.0,8.0,5.0,2.0,12.0,9.0,9.0,8.0,10.0,9.0,6.0,0.0,12.0,11.0,9.0,8.0,9.0,7.0,4.0,2.0,10.0,9.0,7.0,6.0,10.0,9.0,9.0,5.0,14.0,9.0,8.0,7.0,13.0,8.0,5.0,4.0,11.0,11.0,8.0,4.0,12.0,11.0,7.0,2.0,13.0,9.0,8.0,3.0,10.0,8.0,5.0,1.0,14.0,11.0,7.0,4.0,12.0,12.0,5.0,4.0,10.0,8.0,6.0,6.0,10.0,9.0,8.0,4.0,10.0,10.0,6.0,6.0,11.0,10.0,6.0,6.0,13.0,11.0,10.0,2.0,7.0,7.0,6.0,5.0,13.0,8.0,6.0,6.0,12.0,12.0,9.0,4.0,10.0,9.0,5.0,2.0,8.0,8.0,8.0,7.0,9.0,8.0,8.0,5.0,15.0,10.0,8.0,3.0,13.0,10.0,6.0,4.0,13.0,8.0,7.0,2.0,12.0,7.0,6.0,6.0,10.0,10.0,8.0,5.0,12.0,11.0,6.0,2.0,13.0,7.0,4.0,2.0,10.0,9.0,8.0,4.0,11.0,10.0,10.0,4.0,13.0,7.0,7.0,7.0,11.0,11.0,7.0,5.0,12.0,8.0,8.0,6.0,11.0,8.0,8.0,4.0,11.0,7.0,4.0,2.0,13.0,11.0,9.0,4.0,10.0,8.0,7.0,3.0,8.0,8.0,7.0,5.0,12.0,11.0,4.0,4.0,13.0,12.0,10.0,7.0,12.0,9.0,8.0,4.0,11.0,10.0,10.0,7.0,11.0,9.0,3.0,2.0,12.0,9.0,9.0,3.0,12.0,10.0,6.0,4.0,12.0,11.0,7.0,5.0,7.0,7.0,6.0,2.0,12.0,11.0,8.0,6.0,12.0,10.0,8.0,6.0,12.0,10.0,5.0,3.0,9.0,8.0,5.0,3.0,12.0,11.0,7.0,4.0,9.0,7.0,6.0,4.0,11.0,10.0,7.0,6.0,15.0,8.0,7.0,6.0,13.0,10.0,7.0,5.0,14.0,10.0,7.0,5.0,11.0,8.0,6.0,1.0,9.0,9.0,8.0,3.0,12.0,12.0,9.0,5.0,13.0,11.0,8.0,7.0,10.0,9.0,8.0,3.0,11.0,9.0,7.0,6.0,10.0,7.0,4.0,2.0,13.0,9.0,6.0,5.0,13.0,9.0,7.0,0.0,10.0,9.0,4.0,4.0,10.0,9.0,6.0,5.0,13.0,9.0,7.0,3.0,13.0,9.0,7.0,5.0,11.0,11.0,10.0,5.0,11.0,9.0,8.0,6.0,11.0,7.0,6.0,4.0,10.0,9.0,7.0,6.0,11.0,10.0,9.0,5.0,12.0,12.0,6.0,4.0,10.0,9.0,7.0,5.0,12.0,8.0,6.0,6.0,13.0,7.0,7.0,5.0,13.0,10.0,4.0,3.0,12.0,10.0,7.0,5.0,14.0,8.0,6.0,2.0,10.0,9.0,7.0,6.0,12.0,7.0,7.0,5.0,9.0,8.0,4.0,3.0,13.0,10.0,8.0,3.0,13.0,7.0,7.0,5.0,13.0,11.0,9.0,5.0,13.0,10.0,7.0,2.0,12.0,11.0,11.0,4.0,11.0,11.0,4.0,1.0,14.0,8.0,7.0,5.0,7.0,6.0,6.0,4.0,13.0,8.0,7.0,5.0,12.0,11.0,5.0,4.0,12.0,10.0,8.0,6.0],\"sizemode\":\"area\",\"sizeref\":0.05536332179930796,\"symbol\":\"circle\"},\"mode\":\"markers\",\"name\":\"\",\"showlegend\":false,\"type\":\"scattergl\",\"x\":[39.0,55.0,43.0,-30.0,-92.0,101.0,7.0,-7.0,-80.0,30.0,23.0,-13.0,-37.0,-64.0,71.0,33.0,19.0,7.0,-87.0,47.0,7.0,8.0,-14.0,-49.0,62.0,-21.0,-9.0,-49.0,91.0,20.0,-30.0,32.0,-51.0,65.0,-6.0,-12.0,-51.0,88.0,-26.0,-2.0,28.0,-9.0,68.0,26.0,50.0,-37.0,-28.0,35.0,-39.0,-17.0,-26.0,-66.0,-24.0,12.0,-21.0,-70.0,58.0,58.0,-48.0,4.0,-47.0,15.0,9.0,43.0,-17.0,71.0,23.0,-14.0,-21.0,-26.0,113.0,95.0,-11.0,-3.0,-127.0,52.0,-40.0,-54.0,-61.0,-11.0,53.0,70.0,-69.0,-115.0,34.0,53.0,-37.0,7.0,-123.0,39.0,16.0,-25.0,-22.0,44.0,66.0,42.0,-35.0,-67.0,71.0,30.0,43.0,-51.0,-56.0,-11.0,15.0,27.0,-48.0,-72.0,51.0,60.0,14.0,-65.0,36.0,-15.0,21.0,-32.0,-5.0,57.0,-31.0,-31.0,-88.0,51.0,3.0,0.0,25.0,-28.0,78.0,80.0,-28.0,-81.0,-30.0,0.0,-7.0,-7.0,-7.0,-81.0,91.0,17.0,6.0,6.0,150.0,44.0,-24.0,-55.0,-97.0,-5.0,-52.0,-48.0,-131.0,64.0,57.0,64.0,-8.0,13.0,74.0,42.0,-13.0,-35.0,-4.0,42.0,-57.0,-21.0,-40.0,-54.0,71.0,47.0,-21.0,-3.0,55.0,30.0,13.0,-14.0,-89.0,19.0,-24.0,29.0,-26.0,39.0,58.0,-11.0,-31.0,-30.0,72.0,50.0,-44.0,2.0,-41.0,125.0,-23.0,0.0,-46.0,-86.0,46.0,50.0,-44.0,-79.0,40.0,104.0,-35.0,-26.0,-125.0,-5.0,-37.0,-77.0,-33.0,73.0,9.0,58.0,17.0,-58.0,59.0,23.0,92.0,-45.0,-91.0,89.0,62.0,-20.0,-114.0,-91.0,17.0,77.0,35.0,2.0,37.0,-12.0,46.0,-61.0,2.0,27.0,66.0,1.0,-32.0,32.0,59.0,45.0,11.0,-115.0,69.0,10.0,-35.0,-29.0,-52.0,86.0,36.0,-15.0,-21.0,-94.0,45.0,57.0,-99.0,-64.0,32.0,18.0,-9.0,-6.0,-67.0,81.0,14.0,-22.0,-44.0,-19.0,27.0,-32.0,-67.0,-30.0,9.0,28.0,19.0,12.0,-28.0,74.0,46.0,-65.0,-51.0,1.0,43.0,90.0,24.0,-78.0,41.0,11.0,-29.0,-58.0,-83.0,79.0,64.0,13.0,-70.0,51.0,30.0,-12.0,-28.0,-24.0,76.0,26.0,7.0,-17.0,-126.0,23.0,46.0,4.0,-37.0,-75.0,70.0,8.0,52.0,-42.0,51.0,62.0,-39.0,-57.0,-96.0,1.0,29.0,12.0,-65.0,48.0,53.0,9.0,-10.0,22.0,75.0,41.0,-1.0,-46.0,-72.0,77.0,-25.0,-11.0,-29.0,-9.0,56.0,-1.0,-35.0,-40.0,75.0,16.0,-42.0,-41.0,-138.0,94.0,-12.0,-16.0,-99.0,24.0,61.0,-11.0,42.0,-42.0,149.0,14.0,5.0,-34.0,3.0,-23.0,-4.0,-13.0,-42.0,-56.0,97.0,-27.0,53.0,-33.0,63.0,68.0,-33.0,-43.0,-96.0,61.0,59.0,6.0,-65.0,-33.0,25.0,-32.0,-15.0,-105.0,55.0,66.0,31.0,-11.0,-64.0,46.0,14.0,-16.0,-61.0,12.0,91.0,35.0,-12.0,-46.0,58.0,34.0,24.0,-48.0,-81.0,19.0,48.0,4.0,-81.0,22.0,10.0,0.0,31.0,-43.0,74.0,40.0,-5.0,2.0,-62.0,21.0,-9.0,29.0,31.0,-91.0,26.0,29.0,-44.0,-38.0,34.0,-9.0,-6.0,-8.0,-19.0,87.0,7.0,-62.0,-79.0,59.0,28.0,-15.0,29.0,-36.0,97.0,49.0,-17.0,-66.0,-42.0,42.0,0.0,20.0,-18.0,-63.0,87.0,-26.0,-52.0,-21.0,28.0,-12.0,64.0,-78.0,-100.0,-20.0,9.0,9.0,-31.0,-17.0,61.0,90.0,-14.0,31.0,-44.0,85.0,-29.0,-4.0,-41.0,-66.0,34.0,37.0,-2.0,-7.0,-10.0,102.0,-1.0,-1.0,-29.0,-44.0,-13.0,10.0,34.0,47.0,-98.0,41.0,31.0,-2.0,-42.0,-32.0,62.0,43.0,-8.0,31.0,-78.0,62.0,11.0,29.0,-59.0,-58.0,135.0,11.0,38.0,-48.0,-74.0,73.0,77.0,-80.0,-59.0,-84.0,91.0,19.0,45.0,-34.0,-70.0,1.0,46.0,-5.0,16.0,-92.0,102.0,40.0,-19.0,6.0,-52.0,4.0,8.0,48.0,-23.0,-25.0,19.0,16.0,21.0,25.0,-98.0,89.0,-20.0,-46.0,-57.0,-55.0,35.0,44.0,20.0,48.0,-81.0,18.0,6.0,18.0,-32.0,-59.0,107.0,-12.0,55.0,8.0,-36.0,59.0,-47.0,-6.0,-83.0,-134.0,125.0,39.0,-27.0,-26.0,-45.0,99.0,24.0,-18.0,-28.0,-71.0,29.0,41.0,53.0,18.0,-29.0,111.0,26.0,28.0,-40.0,-145.0,-123.0,40.0,79.0,-23.0,4.0,-24.0,54.0,0.0,53.0,-71.0,-44.0,30.0,-11.0,25.0,-11.0,-32.0,151.0,-63.0,-9.0,-76.0,-41.0,25.0,58.0,49.0,-13.0,-28.0,48.0,45.0,43.0,-48.0,-102.0,-96.0,64.0,41.0,60.0,-79.0,-87.0,34.0,15.0,71.0,0.0,-89.0,47.0,9.0,39.0,9.0,-92.0,68.0,14.0,28.0,-44.0,-89.0,16.0,-18.0,3.0,25.0,-73.0,42.0,12.0,14.0,-16.0,-51.0,-1.0,56.0,60.0,10.0,-40.0,-8.0,47.0,8.0,-82.0,-67.0,-31.0,67.0,63.0,20.0,-27.0,-87.0,92.0,19.0,14.0,-16.0,-51.0,47.0,10.0,10.0,-77.0,29.0,13.0,-20.0,-136.0,1.0,-37.0,14.0,-72.0,54.0,37.0,41.0,19.0,97.0,-26.0,-47.0,-38.0,49.0,-30.0,-41.0,-64.0,80.0,47.0,48.0,-6.0,36.0,5.0,-19.0,-24.0,25.0,57.0,-5.0,-7.0,28.0,-18.0,-15.0,-47.0,82.0,57.0,-79.0,-57.0,116.0,43.0,-36.0,-70.0,34.0,-17.0,-36.0,-6.0,63.0,34.0,-71.0,-67.0,16.0,53.0,-19.0,-106.0,74.0,39.0,30.0,-95.0,44.0,52.0,-5.0,-62.0,36.0,27.0,0.0,-40.0,-18.0,40.0,15.0,-27.0,63.0,27.0,29.0,-85.0,82.0,38.0,-39.0,-25.0,21.0,-17.0,20.0,-13.0,0.0,-37.0,-15.0,-58.0,34.0,-7.0,-16.0,-64.0,-21.0,2.0,-31.0,-47.0,64.0,55.0,-32.0,-28.0,112.0,4.0,-50.0,-102.0,49.0,9.0,55.0,4.0,72.0,44.0,-4.0,-4.0,38.0,-8.0,-90.0,19.0,39.0,37.0,42.0,-97.0,54.0,-23.0,-51.0,-111.0,80.0,-33.0,-53.0,-43.0,54.0,13.0,12.0,-31.0,52.0,31.0,-66.0,-61.0,107.0,32.0,0.0,-56.0,46.0,62.0,46.0,-31.0,152.0,1.0,-24.0,-57.0,22.0,19.0,-26.0,-54.0,-28.0,-3.0,-101.0,-62.0,204.0,-38.0,-66.0,-78.0,93.0,-9.0,5.0,-34.0,122.0,21.0,28.0,-30.0,43.0,-11.0,-64.0,-18.0,69.0,41.0,-11.0,22.0,41.0,-22.0,-37.0,-6.0,-11.0,13.0,-30.0,-58.0,29.0,-10.0,-78.0,-120.0,21.0,22.0,12.0,-1.0,45.0,24.0,-8.0,-113.0,93.0,-13.0,-10.0,-10.0,-22.0,25.0,-70.0,-94.0,76.0,20.0,18.0,57.0,46.0,35.0,-13.0,-98.0,47.0,50.0,-1.0,21.0,29.0,-40.0,-89.0,-59.0,100.0,43.0,-1.0,-46.0,35.0,38.0,62.0,-131.0,106.0,30.0,-44.0,-97.0,44.0,26.0,-123.0,-76.0,61.0,70.0,29.0,-27.0,70.0,53.0,9.0,-92.0,119.0,22.0,-38.0,-107.0,14.0,7.0,-12.0,-144.0,51.0,49.0,-16.0,-80.0,45.0,20.0,-24.0,-17.0,51.0,74.0,-27.0,-61.0,41.0,44.0,36.0,-69.0,22.0,15.0,-15.0,-33.0,40.0,12.0,18.0,-15.0,36.0,-27.0,19.0,-65.0,-17.0,-1.0,-65.0,-41.0,42.0,64.0,20.0,-59.0,37.0,75.0,48.0,-33.0,61.0,-6.0,-65.0,-131.0,2.0,-18.0,-42.0,-67.0,10.0,27.0,-6.0,-23.0,89.0,92.0,20.0,-27.0,71.0,-5.0,-38.0,-20.0,80.0,-53.0,-40.0,-105.0,92.0,24.0,-56.0,-32.0,13.0,23.0,-21.0,-32.0,88.0,-35.0,-95.0,-85.0,52.0,10.0,-48.0,-89.0,73.0,-25.0,-35.0,-14.0,85.0,38.0,17.0,-13.0,71.0,31.0,-26.0,-39.0,86.0,6.0,-15.0,-49.0,35.0,-68.0,-15.0,-37.0,53.0,2.0,-31.0,-28.0,56.0,-1.0,-72.0,-178.0,94.0,125.0,24.0,-24.0,44.0,-35.0,-56.0,-82.0,54.0,20.0,7.0,-62.0,76.0,74.0,-18.0,-63.0,80.0,73.0,-14.0,-33.0,61.0,13.0,23.0,-84.0,-3.0,9.0,86.0,11.0,63.0,19.0,-65.0,-100.0,82.0,56.0,48.0,-76.0,46.0,47.0,-15.0,-29.0,36.0,31.0,-34.0,-42.0,-41.0,11.0,-29.0,-90.0,25.0,22.0,-7.0,-74.0,116.0,33.0,3.0,-19.0,66.0,21.0,-24.0,-49.0,-31.0,-30.0,-60.0,-34.0,56.0,5.0,13.0,-36.0,7.0,-20.0,23.0,-38.0,44.0,25.0,-62.0,-96.0,55.0,40.0,-21.0,-36.0,110.0,10.0,27.0,-98.0,85.0,40.0,-13.0,-58.0,20.0,-22.0,-6.0,-80.0,-30.0,-1.0,-22.0,-57.0,12.0,58.0,29.0,13.0,58.0,-8.0,62.0,-3.0,35.0,16.0,-7.0,-48.0,31.0,-37.0,-14.0,-5.0,22.0,39.0,-34.0,-75.0,37.0,38.0,-60.0,-29.0,36.0,22.0,-13.0,-83.0,73.0,-15.0,27.0,-104.0,56.0,-20.0,-2.0,-21.0,76.0,37.0,-20.0,-44.0,44.0,3.0,7.0,-37.0,46.0,6.0,1.0,-20.0,74.0,43.0,-72.0,-86.0,54.0,-45.0,-8.0,-113.0,32.0,-16.0,60.0,-41.0,30.0,-21.0,18.0,-36.0,85.0,32.0,-6.0,-80.0,12.0,22.0,17.0,-55.0,50.0,2.0,2.0,-15.0,51.0,26.0,-22.0,-32.0,109.0,40.0,-89.0,-63.0,189.0,12.0,-107.0,-161.0,58.0,5.0,-48.0,-86.0,7.0,24.0,13.0,10.0,45.0,-41.0,0.0,-26.0,66.0,3.0,-60.0,-96.0,52.0,79.0,-6.0,6.0,39.0,-5.0,-16.0,-85.0,130.0,12.0,40.0,-53.0,-1.0,58.0,-31.0,-144.0,69.0,71.0,-31.0,-20.0,24.0,62.0,-51.0,-66.0,101.0,-16.0,-36.0,-6.0,-19.0,-32.0,-81.0,-54.0,32.0,-5.0,-29.0,-31.0,82.0,9.0,-14.0,-15.0,41.0,57.0,41.0,35.0],\"xaxis\":\"x\",\"y\":[11.0,11.0,8.0,5.0,5.0,14.0,10.0,8.0,4.0,10.0,9.0,9.0,9.0,4.0,12.0,9.0,8.0,6.0,6.0,8.0,8.0,7.0,7.0,5.0,12.0,9.0,7.0,2.0,10.0,9.0,8.0,7.0,5.0,12.0,11.0,9.0,4.0,12.0,10.0,9.0,9.0,7.0,11.0,11.0,10.0,6.0,5.0,10.0,10.0,7.0,5.0,2.0,9.0,8.0,6.0,2.0,11.0,10.0,8.0,7.0,4.0,11.0,11.0,9.0,6.0,11.0,11.0,8.0,8.0,4.0,12.0,12.0,6.0,5.0,4.0,9.0,9.0,7.0,5.0,5.0,12.0,11.0,6.0,1.0,11.0,10.0,10.0,2.0,2.0,12.0,8.0,7.0,5.0,10.0,10.0,9.0,7.0,6.0,12.0,10.0,9.0,8.0,7.0,9.0,8.0,8.0,7.0,6.0,13.0,7.0,6.0,4.0,12.0,8.0,8.0,7.0,7.0,10.0,9.0,7.0,2.0,12.0,9.0,9.0,6.0,6.0,14.0,12.0,8.0,5.0,3.0,9.0,8.0,8.0,8.0,2.0,10.0,9.0,8.0,7.0,14.0,9.0,7.0,4.0,2.0,9.0,8.0,5.0,3.0,13.0,12.0,11.0,8.0,7.0,11.0,9.0,9.0,9.0,6.0,10.0,8.0,6.0,4.0,3.0,15.0,10.0,7.0,4.0,12.0,11.0,11.0,5.0,2.0,8.0,7.0,7.0,5.0,12.0,11.0,8.0,8.0,6.0,10.0,10.0,10.0,7.0,5.0,15.0,8.0,7.0,7.0,2.0,11.0,10.0,5.0,4.0,11.0,10.0,8.0,4.0,3.0,12.0,10.0,6.0,5.0,11.0,10.0,10.0,8.0,4.0,14.0,12.0,7.0,5.0,4.0,14.0,9.0,5.0,4.0,2.0,10.0,10.0,7.0,7.0,9.0,8.0,8.0,7.0,6.0,10.0,9.0,8.0,4.0,10.0,9.0,8.0,5.0,4.0,11.0,7.0,7.0,7.0,6.0,11.0,8.0,5.0,4.0,4.0,13.0,12.0,6.0,3.0,12.0,9.0,9.0,8.0,6.0,12.0,10.0,10.0,5.0,9.0,8.0,7.0,6.0,4.0,10.0,10.0,7.0,7.0,3.0,12.0,11.0,5.0,4.0,4.0,10.0,10.0,10.0,5.0,9.0,8.0,8.0,5.0,4.0,9.0,9.0,9.0,8.0,11.0,8.0,8.0,7.0,6.0,12.0,11.0,10.0,5.0,1.0,10.0,10.0,7.0,6.0,5.0,14.0,11.0,9.0,3.0,13.0,12.0,7.0,6.0,1.0,9.0,9.0,9.0,3.0,12.0,11.0,9.0,6.0,5.0,13.0,10.0,10.0,7.0,5.0,11.0,6.0,6.0,6.0,6.0,14.0,8.0,5.0,5.0,13.0,8.0,8.0,6.0,1.0,11.0,7.0,6.0,3.0,12.0,10.0,9.0,7.0,4.0,14.0,11.0,10.0,8.0,4.0,12.0,11.0,8.0,4.0,3.0,11.0,10.0,10.0,3.0,11.0,11.0,9.0,4.0,2.0,11.0,10.0,7.0,5.0,11.0,10.0,8.0,7.0,2.0,13.0,11.0,9.0,6.0,4.0,11.0,9.0,5.0,5.0,5.0,14.0,12.0,6.0,6.0,11.0,9.0,8.0,4.0,4.0,11.0,8.0,7.0,3.0,10.0,9.0,9.0,7.0,6.0,11.0,11.0,7.0,6.0,4.0,9.0,9.0,8.0,7.0,5.0,10.0,7.0,6.0,4.0,10.0,10.0,8.0,7.0,6.0,12.0,11.0,3.0,2.0,11.0,9.0,9.0,7.0,6.0,12.0,9.0,8.0,7.0,3.0,10.0,9.0,9.0,9.0,6.0,13.0,7.0,7.0,4.0,10.0,9.0,9.0,6.0,3.0,11.0,7.0,7.0,5.0,4.0,13.0,9.0,8.0,8.0,8.0,12.0,10.0,6.0,5.0,4.0,11.0,10.0,9.0,8.0,7.0,11.0,9.0,7.0,7.0,7.0,11.0,10.0,9.0,8.0,1.0,10.0,9.0,8.0,8.0,4.0,13.0,9.0,8.0,7.0,7.0,10.0,10.0,9.0,7.0,6.0,13.0,9.0,7.0,6.0,5.0,12.0,12.0,6.0,3.0,3.0,10.0,9.0,9.0,6.0,3.0,11.0,11.0,8.0,7.0,6.0,13.0,12.0,8.0,4.0,4.0,10.0,8.0,6.0,6.0,4.0,13.0,10.0,9.0,9.0,4.0,13.0,7.0,7.0,6.0,5.0,12.0,10.0,10.0,9.0,3.0,11.0,8.0,7.0,6.0,3.0,14.0,8.0,8.0,7.0,5.0,10.0,9.0,8.0,6.0,3.0,15.0,11.0,8.0,5.0,4.0,14.0,12.0,6.0,4.0,4.0,13.0,11.0,9.0,8.0,8.0,14.0,13.0,8.0,6.0,4.0,2.0,9.0,9.0,8.0,8.0,6.0,10.0,8.0,7.0,6.0,5.0,11.0,10.0,8.0,8.0,6.0,13.0,8.0,5.0,4.0,3.0,11.0,10.0,9.0,8.0,5.0,13.0,12.0,9.0,7.0,4.0,3.0,12.0,11.0,7.0,6.0,1.0,12.0,11.0,8.0,5.0,3.0,11.0,10.0,9.0,9.0,5.0,10.0,10.0,7.0,6.0,4.0,11.0,11.0,10.0,6.0,3.0,13.0,10.0,7.0,7.0,6.0,6.0,10.0,9.0,8.0,6.0,5.0,11.0,8.0,7.0,7.0,5.0,13.0,12.0,9.0,5.0,2.0,14.0,12.0,7.0,7.0,1.0,9.0,9.0,9.0,8.0,10.0,9.0,7.0,2.0,11.0,10.0,6.0,4.0,11.0,9.0,8.0,8.0,12.0,10.0,7.0,5.0,12.0,6.0,4.0,3.0,12.0,9.0,9.0,7.0,10.0,7.0,7.0,5.0,14.0,10.0,6.0,6.0,10.0,8.0,6.0,5.0,12.0,12.0,5.0,5.0,13.0,10.0,4.0,4.0,12.0,10.0,5.0,4.0,10.0,9.0,7.0,5.0,11.0,8.0,7.0,5.0,12.0,10.0,7.0,4.0,14.0,10.0,9.0,4.0,15.0,9.0,8.0,4.0,12.0,9.0,7.0,5.0,12.0,10.0,7.0,5.0,13.0,6.0,6.0,6.0,10.0,8.0,6.0,5.0,11.0,8.0,7.0,5.0,9.0,8.0,6.0,2.0,10.0,9.0,5.0,4.0,11.0,11.0,6.0,6.0,14.0,12.0,4.0,2.0,13.0,10.0,9.0,4.0,11.0,10.0,9.0,6.0,11.0,9.0,5.0,4.0,11.0,11.0,8.0,3.0,13.0,6.0,5.0,4.0,12.0,10.0,7.0,6.0,13.0,8.0,8.0,4.0,12.0,8.0,8.0,6.0,14.0,9.0,9.0,2.0,10.0,9.0,8.0,5.0,13.0,8.0,6.0,3.0,10.0,8.0,7.0,4.0,9.0,8.0,7.0,5.0,16.0,7.0,4.0,1.0,10.0,10.0,7.0,5.0,13.0,11.0,10.0,8.0,11.0,7.0,4.0,4.0,13.0,10.0,9.0,8.0,13.0,8.0,7.0,7.0,9.0,7.0,7.0,4.0,10.0,8.0,5.0,3.0,11.0,11.0,9.0,7.0,12.0,11.0,4.0,4.0,13.0,12.0,8.0,5.0,8.0,8.0,5.0,2.0,12.0,9.0,9.0,8.0,10.0,9.0,6.0,0.0,12.0,11.0,9.0,8.0,9.0,7.0,4.0,2.0,10.0,9.0,7.0,6.0,10.0,9.0,9.0,5.0,14.0,9.0,8.0,7.0,13.0,8.0,5.0,4.0,11.0,11.0,8.0,4.0,12.0,11.0,7.0,2.0,13.0,9.0,8.0,3.0,10.0,8.0,5.0,1.0,14.0,11.0,7.0,4.0,12.0,12.0,5.0,4.0,10.0,8.0,6.0,6.0,10.0,9.0,8.0,4.0,10.0,10.0,6.0,6.0,11.0,10.0,6.0,6.0,13.0,11.0,10.0,2.0,7.0,7.0,6.0,5.0,13.0,8.0,6.0,6.0,12.0,12.0,9.0,4.0,10.0,9.0,5.0,2.0,8.0,8.0,8.0,7.0,9.0,8.0,8.0,5.0,15.0,10.0,8.0,3.0,13.0,10.0,6.0,4.0,13.0,8.0,7.0,2.0,12.0,7.0,6.0,6.0,10.0,10.0,8.0,5.0,12.0,11.0,6.0,2.0,13.0,7.0,4.0,2.0,10.0,9.0,8.0,4.0,11.0,10.0,10.0,4.0,13.0,7.0,7.0,7.0,11.0,11.0,7.0,5.0,12.0,8.0,8.0,6.0,11.0,8.0,8.0,4.0,11.0,7.0,4.0,2.0,13.0,11.0,9.0,4.0,10.0,8.0,7.0,3.0,8.0,8.0,7.0,5.0,12.0,11.0,4.0,4.0,13.0,12.0,10.0,7.0,12.0,9.0,8.0,4.0,11.0,10.0,10.0,7.0,11.0,9.0,3.0,2.0,12.0,9.0,9.0,3.0,12.0,10.0,6.0,4.0,12.0,11.0,7.0,5.0,7.0,7.0,6.0,2.0,12.0,11.0,8.0,6.0,12.0,10.0,8.0,6.0,12.0,10.0,5.0,3.0,9.0,8.0,5.0,3.0,12.0,11.0,7.0,4.0,9.0,7.0,6.0,4.0,11.0,10.0,7.0,6.0,15.0,8.0,7.0,6.0,13.0,10.0,7.0,5.0,14.0,10.0,7.0,5.0,11.0,8.0,6.0,1.0,9.0,9.0,8.0,3.0,12.0,12.0,9.0,5.0,13.0,11.0,8.0,7.0,10.0,9.0,8.0,3.0,11.0,9.0,7.0,6.0,10.0,7.0,4.0,2.0,13.0,9.0,6.0,5.0,13.0,9.0,7.0,0.0,10.0,9.0,4.0,4.0,10.0,9.0,6.0,5.0,13.0,9.0,7.0,3.0,13.0,9.0,7.0,5.0,11.0,11.0,10.0,5.0,11.0,9.0,8.0,6.0,11.0,7.0,6.0,4.0,10.0,9.0,7.0,6.0,11.0,10.0,9.0,5.0,12.0,12.0,6.0,4.0,10.0,9.0,7.0,5.0,12.0,8.0,6.0,6.0,13.0,7.0,7.0,5.0,13.0,10.0,4.0,3.0,12.0,10.0,7.0,5.0,14.0,8.0,6.0,2.0,10.0,9.0,7.0,6.0,12.0,7.0,7.0,5.0,9.0,8.0,4.0,3.0,13.0,10.0,8.0,3.0,13.0,7.0,7.0,5.0,13.0,11.0,9.0,5.0,13.0,10.0,7.0,2.0,12.0,11.0,11.0,4.0,11.0,11.0,4.0,1.0,14.0,8.0,7.0,5.0,7.0,6.0,6.0,4.0,13.0,8.0,7.0,5.0,12.0,11.0,5.0,4.0,12.0,10.0,8.0,6.0],\"yaxis\":\"y\"},{\"hovertemplate\":\"<b>OLS trendline</b><br>Wk 17 Wins = 0.0457016 * Wk 8 Pts Margin + 7.95981<br>R<sup>2</sup>=0.642703<br><br>Wk 8 Pts Margin=%{x}<br>Wk 17 Wins=%{y} <b>(trend)</b><extra></extra>\",\"legendgroup\":\"\",\"marker\":{\"symbol\":\"circle\"},\"mode\":\"lines\",\"name\":\"\",\"showlegend\":false,\"type\":\"scattergl\",\"x\":[-178.0,-161.0,-145.0,-144.0,-144.0,-138.0,-136.0,-134.0,-131.0,-131.0,-131.0,-127.0,-126.0,-125.0,-123.0,-123.0,-123.0,-120.0,-115.0,-115.0,-114.0,-113.0,-113.0,-111.0,-107.0,-107.0,-106.0,-105.0,-105.0,-104.0,-102.0,-102.0,-101.0,-100.0,-100.0,-99.0,-99.0,-98.0,-98.0,-98.0,-98.0,-97.0,-97.0,-97.0,-96.0,-96.0,-96.0,-96.0,-96.0,-95.0,-95.0,-94.0,-94.0,-92.0,-92.0,-92.0,-92.0,-91.0,-91.0,-91.0,-90.0,-90.0,-89.0,-89.0,-89.0,-89.0,-89.0,-89.0,-88.0,-87.0,-87.0,-87.0,-86.0,-86.0,-86.0,-85.0,-85.0,-85.0,-84.0,-84.0,-83.0,-83.0,-83.0,-82.0,-82.0,-81.0,-81.0,-81.0,-81.0,-81.0,-81.0,-80.0,-80.0,-80.0,-80.0,-80.0,-79.0,-79.0,-79.0,-79.0,-78.0,-78.0,-78.0,-78.0,-78.0,-77.0,-77.0,-76.0,-76.0,-76.0,-75.0,-75.0,-74.0,-74.0,-73.0,-72.0,-72.0,-72.0,-72.0,-72.0,-71.0,-71.0,-71.0,-70.0,-70.0,-70.0,-70.0,-70.0,-69.0,-69.0,-68.0,-67.0,-67.0,-67.0,-67.0,-67.0,-67.0,-66.0,-66.0,-66.0,-66.0,-66.0,-66.0,-65.0,-65.0,-65.0,-65.0,-65.0,-65.0,-65.0,-65.0,-64.0,-64.0,-64.0,-64.0,-64.0,-64.0,-63.0,-63.0,-63.0,-63.0,-62.0,-62.0,-62.0,-62.0,-62.0,-62.0,-61.0,-61.0,-61.0,-61.0,-61.0,-60.0,-60.0,-60.0,-59.0,-59.0,-59.0,-59.0,-59.0,-58.0,-58.0,-58.0,-58.0,-58.0,-58.0,-57.0,-57.0,-57.0,-57.0,-57.0,-57.0,-56.0,-56.0,-56.0,-56.0,-56.0,-55.0,-55.0,-55.0,-54.0,-54.0,-54.0,-54.0,-53.0,-53.0,-53.0,-52.0,-52.0,-52.0,-52.0,-51.0,-51.0,-51.0,-51.0,-51.0,-51.0,-51.0,-51.0,-50.0,-49.0,-49.0,-49.0,-49.0,-48.0,-48.0,-48.0,-48.0,-48.0,-48.0,-48.0,-48.0,-48.0,-47.0,-47.0,-47.0,-47.0,-47.0,-46.0,-46.0,-46.0,-46.0,-46.0,-45.0,-45.0,-45.0,-44.0,-44.0,-44.0,-44.0,-44.0,-44.0,-44.0,-44.0,-44.0,-44.0,-43.0,-43.0,-43.0,-42.0,-42.0,-42.0,-42.0,-42.0,-42.0,-42.0,-42.0,-41.0,-41.0,-41.0,-41.0,-41.0,-41.0,-41.0,-41.0,-41.0,-40.0,-40.0,-40.0,-40.0,-40.0,-40.0,-40.0,-40.0,-39.0,-39.0,-39.0,-39.0,-38.0,-38.0,-38.0,-38.0,-38.0,-38.0,-37.0,-37.0,-37.0,-37.0,-37.0,-37.0,-37.0,-37.0,-37.0,-37.0,-37.0,-36.0,-36.0,-36.0,-36.0,-36.0,-36.0,-36.0,-36.0,-35.0,-35.0,-35.0,-35.0,-35.0,-35.0,-35.0,-35.0,-34.0,-34.0,-34.0,-34.0,-34.0,-34.0,-33.0,-33.0,-33.0,-33.0,-33.0,-33.0,-33.0,-33.0,-32.0,-32.0,-32.0,-32.0,-32.0,-32.0,-32.0,-32.0,-32.0,-32.0,-32.0,-32.0,-31.0,-31.0,-31.0,-31.0,-31.0,-31.0,-31.0,-31.0,-31.0,-31.0,-31.0,-31.0,-31.0,-30.0,-30.0,-30.0,-30.0,-30.0,-30.0,-30.0,-30.0,-30.0,-30.0,-29.0,-29.0,-29.0,-29.0,-29.0,-29.0,-29.0,-29.0,-29.0,-29.0,-28.0,-28.0,-28.0,-28.0,-28.0,-28.0,-28.0,-28.0,-28.0,-28.0,-27.0,-27.0,-27.0,-27.0,-27.0,-27.0,-27.0,-27.0,-26.0,-26.0,-26.0,-26.0,-26.0,-26.0,-26.0,-26.0,-26.0,-26.0,-26.0,-25.0,-25.0,-25.0,-25.0,-25.0,-24.0,-24.0,-24.0,-24.0,-24.0,-24.0,-24.0,-24.0,-24.0,-24.0,-23.0,-23.0,-23.0,-23.0,-23.0,-23.0,-22.0,-22.0,-22.0,-22.0,-22.0,-22.0,-22.0,-21.0,-21.0,-21.0,-21.0,-21.0,-21.0,-21.0,-21.0,-21.0,-21.0,-21.0,-21.0,-20.0,-20.0,-20.0,-20.0,-20.0,-20.0,-20.0,-20.0,-20.0,-20.0,-19.0,-19.0,-19.0,-19.0,-19.0,-19.0,-19.0,-18.0,-18.0,-18.0,-18.0,-18.0,-18.0,-18.0,-18.0,-17.0,-17.0,-17.0,-17.0,-17.0,-17.0,-17.0,-17.0,-17.0,-16.0,-16.0,-16.0,-16.0,-16.0,-16.0,-16.0,-16.0,-16.0,-15.0,-15.0,-15.0,-15.0,-15.0,-15.0,-15.0,-15.0,-15.0,-15.0,-15.0,-15.0,-15.0,-15.0,-14.0,-14.0,-14.0,-14.0,-14.0,-14.0,-14.0,-14.0,-13.0,-13.0,-13.0,-13.0,-13.0,-13.0,-13.0,-13.0,-13.0,-13.0,-13.0,-12.0,-12.0,-12.0,-12.0,-12.0,-12.0,-12.0,-12.0,-11.0,-11.0,-11.0,-11.0,-11.0,-11.0,-11.0,-11.0,-11.0,-11.0,-11.0,-11.0,-10.0,-10.0,-10.0,-10.0,-10.0,-9.0,-9.0,-9.0,-9.0,-9.0,-9.0,-9.0,-9.0,-8.0,-8.0,-8.0,-8.0,-8.0,-8.0,-8.0,-8.0,-7.0,-7.0,-7.0,-7.0,-7.0,-7.0,-7.0,-7.0,-7.0,-6.0,-6.0,-6.0,-6.0,-6.0,-6.0,-6.0,-6.0,-6.0,-6.0,-6.0,-6.0,-6.0,-5.0,-5.0,-5.0,-5.0,-5.0,-5.0,-5.0,-5.0,-5.0,-5.0,-5.0,-4.0,-4.0,-4.0,-4.0,-4.0,-3.0,-3.0,-3.0,-3.0,-3.0,-2.0,-2.0,-2.0,-2.0,-1.0,-1.0,-1.0,-1.0,-1.0,-1.0,-1.0,-1.0,-1.0,-1.0,-1.0,-1.0,0.0,0.0,0.0,0.0,0.0,0.0,0.0,0.0,0.0,0.0,0.0,1.0,1.0,1.0,1.0,1.0,1.0,1.0,2.0,2.0,2.0,2.0,2.0,2.0,2.0,2.0,2.0,3.0,3.0,3.0,3.0,3.0,3.0,4.0,4.0,4.0,4.0,4.0,4.0,4.0,5.0,5.0,5.0,5.0,5.0,6.0,6.0,6.0,6.0,6.0,6.0,6.0,6.0,7.0,7.0,7.0,7.0,7.0,7.0,7.0,7.0,7.0,7.0,7.0,8.0,8.0,8.0,8.0,8.0,9.0,9.0,9.0,9.0,9.0,9.0,9.0,9.0,9.0,9.0,9.0,9.0,10.0,10.0,10.0,10.0,10.0,10.0,10.0,10.0,10.0,10.0,11.0,11.0,11.0,11.0,11.0,11.0,12.0,12.0,12.0,12.0,12.0,12.0,12.0,12.0,12.0,12.0,12.0,12.0,13.0,13.0,13.0,13.0,13.0,13.0,13.0,13.0,13.0,13.0,13.0,14.0,14.0,14.0,14.0,14.0,14.0,14.0,14.0,14.0,15.0,15.0,15.0,15.0,15.0,16.0,16.0,16.0,16.0,16.0,16.0,16.0,17.0,17.0,17.0,17.0,17.0,18.0,18.0,18.0,18.0,18.0,18.0,18.0,19.0,19.0,19.0,19.0,19.0,19.0,19.0,19.0,19.0,19.0,19.0,19.0,20.0,20.0,20.0,20.0,20.0,20.0,20.0,20.0,20.0,20.0,20.0,21.0,21.0,21.0,21.0,21.0,21.0,21.0,21.0,22.0,22.0,22.0,22.0,22.0,22.0,22.0,22.0,22.0,22.0,22.0,23.0,23.0,23.0,23.0,23.0,23.0,23.0,24.0,24.0,24.0,24.0,24.0,24.0,24.0,24.0,24.0,25.0,25.0,25.0,25.0,25.0,25.0,25.0,25.0,25.0,25.0,26.0,26.0,26.0,26.0,26.0,26.0,27.0,27.0,27.0,27.0,27.0,27.0,27.0,27.0,28.0,28.0,28.0,28.0,28.0,28.0,28.0,28.0,29.0,29.0,29.0,29.0,29.0,29.0,29.0,29.0,29.0,29.0,29.0,29.0,29.0,30.0,30.0,30.0,30.0,30.0,30.0,30.0,30.0,31.0,31.0,31.0,31.0,31.0,31.0,31.0,31.0,31.0,31.0,32.0,32.0,32.0,32.0,32.0,32.0,32.0,33.0,33.0,34.0,34.0,34.0,34.0,34.0,34.0,34.0,34.0,34.0,35.0,35.0,35.0,35.0,35.0,35.0,35.0,35.0,35.0,36.0,36.0,36.0,36.0,36.0,36.0,36.0,36.0,37.0,37.0,37.0,37.0,37.0,37.0,37.0,38.0,38.0,38.0,38.0,38.0,38.0,39.0,39.0,39.0,39.0,39.0,39.0,39.0,39.0,39.0,40.0,40.0,40.0,40.0,40.0,40.0,40.0,40.0,40.0,40.0,41.0,41.0,41.0,41.0,41.0,41.0,41.0,41.0,41.0,41.0,41.0,42.0,42.0,42.0,42.0,42.0,42.0,42.0,42.0,43.0,43.0,43.0,43.0,43.0,43.0,43.0,43.0,43.0,43.0,44.0,44.0,44.0,44.0,44.0,44.0,44.0,44.0,44.0,44.0,45.0,45.0,45.0,45.0,45.0,45.0,45.0,46.0,46.0,46.0,46.0,46.0,46.0,46.0,46.0,46.0,46.0,46.0,47.0,47.0,47.0,47.0,47.0,47.0,47.0,47.0,47.0,48.0,48.0,48.0,48.0,48.0,48.0,48.0,48.0,49.0,49.0,49.0,49.0,49.0,50.0,50.0,50.0,50.0,50.0,51.0,51.0,51.0,51.0,51.0,51.0,51.0,52.0,52.0,52.0,52.0,52.0,52.0,53.0,53.0,53.0,53.0,53.0,53.0,53.0,53.0,53.0,54.0,54.0,54.0,54.0,54.0,54.0,55.0,55.0,55.0,55.0,55.0,55.0,55.0,56.0,56.0,56.0,56.0,56.0,56.0,57.0,57.0,57.0,57.0,57.0,57.0,57.0,58.0,58.0,58.0,58.0,58.0,58.0,58.0,58.0,58.0,58.0,59.0,59.0,59.0,59.0,59.0,60.0,60.0,60.0,60.0,61.0,61.0,61.0,61.0,61.0,61.0,62.0,62.0,62.0,62.0,62.0,62.0,62.0,62.0,62.0,63.0,63.0,63.0,63.0,63.0,64.0,64.0,64.0,64.0,64.0,64.0,64.0,65.0,66.0,66.0,66.0,66.0,66.0,67.0,68.0,68.0,68.0,69.0,69.0,69.0,70.0,70.0,70.0,70.0,71.0,71.0,71.0,71.0,71.0,71.0,71.0,71.0,72.0,72.0,73.0,73.0,73.0,73.0,73.0,74.0,74.0,74.0,74.0,74.0,74.0,74.0,75.0,75.0,75.0,76.0,76.0,76.0,76.0,77.0,77.0,77.0,78.0,79.0,79.0,79.0,80.0,80.0,80.0,80.0,80.0,81.0,82.0,82.0,82.0,82.0,85.0,85.0,85.0,85.0,86.0,86.0,86.0,87.0,87.0,88.0,88.0,89.0,89.0,89.0,90.0,90.0,91.0,91.0,91.0,91.0,92.0,92.0,92.0,92.0,93.0,93.0,94.0,94.0,95.0,97.0,97.0,97.0,99.0,100.0,101.0,101.0,102.0,102.0,104.0,106.0,107.0,107.0,109.0,110.0,111.0,112.0,113.0,116.0,116.0,119.0,122.0,125.0,125.0,125.0,130.0,135.0,149.0,150.0,151.0,152.0,189.0,204.0],\"xaxis\":\"x\",\"y\":[-0.175068647324788,0.6018580485993574,1.333083174175023,1.3787847445235029,1.3787847445235029,1.652994166614377,1.7443973073113357,1.8358004480082935,1.972905159053731,1.972905159053731,1.972905159053731,2.1557114404476474,2.201413010796127,2.247114581144606,2.338517721841564,2.338517721841564,2.338517721841564,2.4756224328870013,2.7041302846293975,2.7041302846293975,2.7498318549778764,2.7955334253263553,2.7955334253263553,2.886936566023314,3.0697428474172304,3.0697428474172304,3.1154444177657092,3.161145988114188,3.161145988114188,3.206847558462668,3.2982506991596257,3.2982506991596257,3.3439522695081054,3.3896538398565843,3.3896538398565843,3.435355410205063,3.435355410205063,3.481056980553542,3.481056980553542,3.481056980553542,3.481056980553542,3.526758550902022,3.526758550902022,3.526758550902022,3.5724601212505007,3.5724601212505007,3.5724601212505007,3.5724601212505007,3.5724601212505007,3.6181616915989796,3.6181616915989796,3.6638632619474594,3.6638632619474594,3.755266402644417,3.755266402644417,3.755266402644417,3.755266402644417,3.800967972992896,3.800967972992896,3.800967972992896,3.846669543341376,3.846669543341376,3.8923711136898547,3.8923711136898547,3.8923711136898547,3.8923711136898547,3.8923711136898547,3.8923711136898547,3.9380726840383335,3.983774254386813,3.983774254386813,3.983774254386813,4.029475824735292,4.029475824735292,4.029475824735292,4.075177395083771,4.075177395083771,4.075177395083771,4.120878965432251,4.120878965432251,4.16658053578073,4.16658053578073,4.16658053578073,4.212282106129209,4.212282106129209,4.2579836764776875,4.2579836764776875,4.2579836764776875,4.2579836764776875,4.2579836764776875,4.2579836764776875,4.303685246826166,4.303685246826166,4.303685246826166,4.303685246826166,4.303685246826166,4.349386817174646,4.349386817174646,4.349386817174646,4.349386817174646,4.395088387523125,4.395088387523125,4.395088387523125,4.395088387523125,4.395088387523125,4.440789957871605,4.440789957871605,4.486491528220084,4.486491528220084,4.486491528220084,4.532193098568563,4.532193098568563,4.577894668917041,4.577894668917041,4.62359623926552,4.669297809614,4.669297809614,4.669297809614,4.669297809614,4.669297809614,4.714999379962479,4.714999379962479,4.714999379962479,4.760700950310959,4.760700950310959,4.760700950310959,4.760700950310959,4.760700950310959,4.806402520659438,4.806402520659438,4.8521040910079165,4.897805661356395,4.897805661356395,4.897805661356395,4.897805661356395,4.897805661356395,4.897805661356395,4.943507231704874,4.943507231704874,4.943507231704874,4.943507231704874,4.943507231704874,4.943507231704874,4.989208802053353,4.989208802053353,4.989208802053353,4.989208802053353,4.989208802053353,4.989208802053353,4.989208802053353,4.989208802053353,5.034910372401833,5.034910372401833,5.034910372401833,5.034910372401833,5.034910372401833,5.034910372401833,5.080611942750313,5.080611942750313,5.080611942750313,5.080611942750313,5.126313513098792,5.126313513098792,5.126313513098792,5.126313513098792,5.126313513098792,5.126313513098792,5.1720150834472705,5.1720150834472705,5.1720150834472705,5.1720150834472705,5.1720150834472705,5.217716653795749,5.217716653795749,5.217716653795749,5.263418224144228,5.263418224144228,5.263418224144228,5.263418224144228,5.263418224144228,5.309119794492707,5.309119794492707,5.309119794492707,5.309119794492707,5.309119794492707,5.309119794492707,5.354821364841187,5.354821364841187,5.354821364841187,5.354821364841187,5.354821364841187,5.354821364841187,5.400522935189666,5.400522935189666,5.400522935189666,5.400522935189666,5.400522935189666,5.4462245055381455,5.4462245055381455,5.4462245055381455,5.491926075886624,5.491926075886624,5.491926075886624,5.491926075886624,5.537627646235103,5.537627646235103,5.537627646235103,5.583329216583582,5.583329216583582,5.583329216583582,5.583329216583582,5.629030786932061,5.629030786932061,5.629030786932061,5.629030786932061,5.629030786932061,5.629030786932061,5.629030786932061,5.629030786932061,5.674732357280541,5.72043392762902,5.72043392762902,5.72043392762902,5.72043392762902,5.7661354979774995,5.7661354979774995,5.7661354979774995,5.7661354979774995,5.7661354979774995,5.7661354979774995,5.7661354979774995,5.7661354979774995,5.7661354979774995,5.811837068325978,5.811837068325978,5.811837068325978,5.811837068325978,5.811837068325978,5.857538638674457,5.857538638674457,5.857538638674457,5.857538638674457,5.857538638674457,5.903240209022936,5.903240209022936,5.903240209022936,5.948941779371415,5.948941779371415,5.948941779371415,5.948941779371415,5.948941779371415,5.948941779371415,5.948941779371415,5.948941779371415,5.948941779371415,5.948941779371415,5.994643349719895,5.994643349719895,5.994643349719895,6.040344920068374,6.040344920068374,6.040344920068374,6.040344920068374,6.040344920068374,6.040344920068374,6.040344920068374,6.040344920068374,6.086046490416853,6.086046490416853,6.086046490416853,6.086046490416853,6.086046490416853,6.086046490416853,6.086046490416853,6.086046490416853,6.086046490416853,6.131748060765332,6.131748060765332,6.131748060765332,6.131748060765332,6.131748060765332,6.131748060765332,6.131748060765332,6.131748060765332,6.177449631113811,6.177449631113811,6.177449631113811,6.177449631113811,6.22315120146229,6.22315120146229,6.22315120146229,6.22315120146229,6.22315120146229,6.22315120146229,6.268852771810769,6.268852771810769,6.268852771810769,6.268852771810769,6.268852771810769,6.268852771810769,6.268852771810769,6.268852771810769,6.268852771810769,6.268852771810769,6.268852771810769,6.314554342159249,6.314554342159249,6.314554342159249,6.314554342159249,6.314554342159249,6.314554342159249,6.314554342159249,6.314554342159249,6.360255912507728,6.360255912507728,6.360255912507728,6.360255912507728,6.360255912507728,6.360255912507728,6.360255912507728,6.360255912507728,6.405957482856207,6.405957482856207,6.405957482856207,6.405957482856207,6.405957482856207,6.405957482856207,6.451659053204686,6.451659053204686,6.451659053204686,6.451659053204686,6.451659053204686,6.451659053204686,6.451659053204686,6.451659053204686,6.497360623553165,6.497360623553165,6.497360623553165,6.497360623553165,6.497360623553165,6.497360623553165,6.497360623553165,6.497360623553165,6.497360623553165,6.497360623553165,6.497360623553165,6.497360623553165,6.543062193901644,6.543062193901644,6.543062193901644,6.543062193901644,6.543062193901644,6.543062193901644,6.543062193901644,6.543062193901644,6.543062193901644,6.543062193901644,6.543062193901644,6.543062193901644,6.543062193901644,6.588763764250123,6.588763764250123,6.588763764250123,6.588763764250123,6.588763764250123,6.588763764250123,6.588763764250123,6.588763764250123,6.588763764250123,6.588763764250123,6.634465334598603,6.634465334598603,6.634465334598603,6.634465334598603,6.634465334598603,6.634465334598603,6.634465334598603,6.634465334598603,6.634465334598603,6.634465334598603,6.6801669049470815,6.6801669049470815,6.6801669049470815,6.6801669049470815,6.6801669049470815,6.6801669049470815,6.6801669049470815,6.6801669049470815,6.6801669049470815,6.6801669049470815,6.725868475295561,6.725868475295561,6.725868475295561,6.725868475295561,6.725868475295561,6.725868475295561,6.725868475295561,6.725868475295561,6.77157004564404,6.77157004564404,6.77157004564404,6.77157004564404,6.77157004564404,6.77157004564404,6.77157004564404,6.77157004564404,6.77157004564404,6.77157004564404,6.77157004564404,6.817271615992519,6.817271615992519,6.817271615992519,6.817271615992519,6.817271615992519,6.862973186340998,6.862973186340998,6.862973186340998,6.862973186340998,6.862973186340998,6.862973186340998,6.862973186340998,6.862973186340998,6.862973186340998,6.862973186340998,6.908674756689477,6.908674756689477,6.908674756689477,6.908674756689477,6.908674756689477,6.908674756689477,6.954376327037957,6.954376327037957,6.954376327037957,6.954376327037957,6.954376327037957,6.954376327037957,6.954376327037957,7.0000778973864355,7.0000778973864355,7.0000778973864355,7.0000778973864355,7.0000778973864355,7.0000778973864355,7.0000778973864355,7.0000778973864355,7.0000778973864355,7.0000778973864355,7.0000778973864355,7.0000778973864355,7.045779467734914,7.045779467734914,7.045779467734914,7.045779467734914,7.045779467734914,7.045779467734914,7.045779467734914,7.045779467734914,7.045779467734914,7.045779467734914,7.091481038083394,7.091481038083394,7.091481038083394,7.091481038083394,7.091481038083394,7.091481038083394,7.091481038083394,7.137182608431873,7.137182608431873,7.137182608431873,7.137182608431873,7.137182608431873,7.137182608431873,7.137182608431873,7.137182608431873,7.182884178780352,7.182884178780352,7.182884178780352,7.182884178780352,7.182884178780352,7.182884178780352,7.182884178780352,7.182884178780352,7.182884178780352,7.228585749128831,7.228585749128831,7.228585749128831,7.228585749128831,7.228585749128831,7.228585749128831,7.228585749128831,7.228585749128831,7.228585749128831,7.2742873194773106,7.2742873194773106,7.2742873194773106,7.2742873194773106,7.2742873194773106,7.2742873194773106,7.2742873194773106,7.2742873194773106,7.2742873194773106,7.2742873194773106,7.2742873194773106,7.2742873194773106,7.2742873194773106,7.2742873194773106,7.319988889825789,7.319988889825789,7.319988889825789,7.319988889825789,7.319988889825789,7.319988889825789,7.319988889825789,7.319988889825789,7.365690460174268,7.365690460174268,7.365690460174268,7.365690460174268,7.365690460174268,7.365690460174268,7.365690460174268,7.365690460174268,7.365690460174268,7.365690460174268,7.365690460174268,7.411392030522748,7.411392030522748,7.411392030522748,7.411392030522748,7.411392030522748,7.411392030522748,7.411392030522748,7.411392030522748,7.457093600871227,7.457093600871227,7.457093600871227,7.457093600871227,7.457093600871227,7.457093600871227,7.457093600871227,7.457093600871227,7.457093600871227,7.457093600871227,7.457093600871227,7.457093600871227,7.502795171219706,7.502795171219706,7.502795171219706,7.502795171219706,7.502795171219706,7.548496741568185,7.548496741568185,7.548496741568185,7.548496741568185,7.548496741568185,7.548496741568185,7.548496741568185,7.548496741568185,7.5941983119166645,7.5941983119166645,7.5941983119166645,7.5941983119166645,7.5941983119166645,7.5941983119166645,7.5941983119166645,7.5941983119166645,7.639899882265143,7.639899882265143,7.639899882265143,7.639899882265143,7.639899882265143,7.639899882265143,7.639899882265143,7.639899882265143,7.639899882265143,7.685601452613622,7.685601452613622,7.685601452613622,7.685601452613622,7.685601452613622,7.685601452613622,7.685601452613622,7.685601452613622,7.685601452613622,7.685601452613622,7.685601452613622,7.685601452613622,7.685601452613622,7.731303022962102,7.731303022962102,7.731303022962102,7.731303022962102,7.731303022962102,7.731303022962102,7.731303022962102,7.731303022962102,7.731303022962102,7.731303022962102,7.731303022962102,7.777004593310581,7.777004593310581,7.777004593310581,7.777004593310581,7.777004593310581,7.82270616365906,7.82270616365906,7.82270616365906,7.82270616365906,7.82270616365906,7.868407734007539,7.868407734007539,7.868407734007539,7.868407734007539,7.9141093043560184,7.9141093043560184,7.9141093043560184,7.9141093043560184,7.9141093043560184,7.9141093043560184,7.9141093043560184,7.9141093043560184,7.9141093043560184,7.9141093043560184,7.9141093043560184,7.9141093043560184,7.959810874704497,7.959810874704497,7.959810874704497,7.959810874704497,7.959810874704497,7.959810874704497,7.959810874704497,7.959810874704497,7.959810874704497,7.959810874704497,7.959810874704497,8.005512445052977,8.005512445052977,8.005512445052977,8.005512445052977,8.005512445052977,8.005512445052977,8.005512445052977,8.051214015401456,8.051214015401456,8.051214015401456,8.051214015401456,8.051214015401456,8.051214015401456,8.051214015401456,8.051214015401456,8.051214015401456,8.096915585749935,8.096915585749935,8.096915585749935,8.096915585749935,8.096915585749935,8.096915585749935,8.142617156098414,8.142617156098414,8.142617156098414,8.142617156098414,8.142617156098414,8.142617156098414,8.142617156098414,8.188318726446893,8.188318726446893,8.188318726446893,8.188318726446893,8.188318726446893,8.234020296795372,8.234020296795372,8.234020296795372,8.234020296795372,8.234020296795372,8.234020296795372,8.234020296795372,8.234020296795372,8.279721867143852,8.279721867143852,8.279721867143852,8.279721867143852,8.279721867143852,8.279721867143852,8.279721867143852,8.279721867143852,8.279721867143852,8.279721867143852,8.279721867143852,8.325423437492331,8.325423437492331,8.325423437492331,8.325423437492331,8.325423437492331,8.37112500784081,8.37112500784081,8.37112500784081,8.37112500784081,8.37112500784081,8.37112500784081,8.37112500784081,8.37112500784081,8.37112500784081,8.37112500784081,8.37112500784081,8.37112500784081,8.416826578189289,8.416826578189289,8.416826578189289,8.416826578189289,8.416826578189289,8.416826578189289,8.416826578189289,8.416826578189289,8.416826578189289,8.416826578189289,8.462528148537768,8.462528148537768,8.462528148537768,8.462528148537768,8.462528148537768,8.462528148537768,8.508229718886247,8.508229718886247,8.508229718886247,8.508229718886247,8.508229718886247,8.508229718886247,8.508229718886247,8.508229718886247,8.508229718886247,8.508229718886247,8.508229718886247,8.508229718886247,8.553931289234725,8.553931289234725,8.553931289234725,8.553931289234725,8.553931289234725,8.553931289234725,8.553931289234725,8.553931289234725,8.553931289234725,8.553931289234725,8.553931289234725,8.599632859583206,8.599632859583206,8.599632859583206,8.599632859583206,8.599632859583206,8.599632859583206,8.599632859583206,8.599632859583206,8.599632859583206,8.645334429931685,8.645334429931685,8.645334429931685,8.645334429931685,8.645334429931685,8.691036000280164,8.691036000280164,8.691036000280164,8.691036000280164,8.691036000280164,8.691036000280164,8.691036000280164,8.736737570628643,8.736737570628643,8.736737570628643,8.736737570628643,8.736737570628643,8.782439140977122,8.782439140977122,8.782439140977122,8.782439140977122,8.782439140977122,8.782439140977122,8.782439140977122,8.8281407113256,8.8281407113256,8.8281407113256,8.8281407113256,8.8281407113256,8.8281407113256,8.8281407113256,8.8281407113256,8.8281407113256,8.8281407113256,8.8281407113256,8.8281407113256,8.87384228167408,8.87384228167408,8.87384228167408,8.87384228167408,8.87384228167408,8.87384228167408,8.87384228167408,8.87384228167408,8.87384228167408,8.87384228167408,8.87384228167408,8.919543852022558,8.919543852022558,8.919543852022558,8.919543852022558,8.919543852022558,8.919543852022558,8.919543852022558,8.919543852022558,8.965245422371039,8.965245422371039,8.965245422371039,8.965245422371039,8.965245422371039,8.965245422371039,8.965245422371039,8.965245422371039,8.965245422371039,8.965245422371039,8.965245422371039,9.010946992719518,9.010946992719518,9.010946992719518,9.010946992719518,9.010946992719518,9.010946992719518,9.010946992719518,9.056648563067997,9.056648563067997,9.056648563067997,9.056648563067997,9.056648563067997,9.056648563067997,9.056648563067997,9.056648563067997,9.056648563067997,9.102350133416476,9.102350133416476,9.102350133416476,9.102350133416476,9.102350133416476,9.102350133416476,9.102350133416476,9.102350133416476,9.102350133416476,9.102350133416476,9.148051703764954,9.148051703764954,9.148051703764954,9.148051703764954,9.148051703764954,9.148051703764954,9.193753274113433,9.193753274113433,9.193753274113433,9.193753274113433,9.193753274113433,9.193753274113433,9.193753274113433,9.193753274113433,9.239454844461914,9.239454844461914,9.239454844461914,9.239454844461914,9.239454844461914,9.239454844461914,9.239454844461914,9.239454844461914,9.285156414810393,9.285156414810393,9.285156414810393,9.285156414810393,9.285156414810393,9.285156414810393,9.285156414810393,9.285156414810393,9.285156414810393,9.285156414810393,9.285156414810393,9.285156414810393,9.285156414810393,9.330857985158872,9.330857985158872,9.330857985158872,9.330857985158872,9.330857985158872,9.330857985158872,9.330857985158872,9.330857985158872,9.37655955550735,9.37655955550735,9.37655955550735,9.37655955550735,9.37655955550735,9.37655955550735,9.37655955550735,9.37655955550735,9.37655955550735,9.37655955550735,9.42226112585583,9.42226112585583,9.42226112585583,9.42226112585583,9.42226112585583,9.42226112585583,9.42226112585583,9.467962696204308,9.467962696204308,9.513664266552787,9.513664266552787,9.513664266552787,9.513664266552787,9.513664266552787,9.513664266552787,9.513664266552787,9.513664266552787,9.513664266552787,9.559365836901266,9.559365836901266,9.559365836901266,9.559365836901266,9.559365836901266,9.559365836901266,9.559365836901266,9.559365836901266,9.559365836901266,9.605067407249745,9.605067407249745,9.605067407249745,9.605067407249745,9.605067407249745,9.605067407249745,9.605067407249745,9.605067407249745,9.650768977598226,9.650768977598226,9.650768977598226,9.650768977598226,9.650768977598226,9.650768977598226,9.650768977598226,9.696470547946705,9.696470547946705,9.696470547946705,9.696470547946705,9.696470547946705,9.696470547946705,9.742172118295183,9.742172118295183,9.742172118295183,9.742172118295183,9.742172118295183,9.742172118295183,9.742172118295183,9.742172118295183,9.742172118295183,9.787873688643662,9.787873688643662,9.787873688643662,9.787873688643662,9.787873688643662,9.787873688643662,9.787873688643662,9.787873688643662,9.787873688643662,9.787873688643662,9.833575258992141,9.833575258992141,9.833575258992141,9.833575258992141,9.833575258992141,9.833575258992141,9.833575258992141,9.833575258992141,9.833575258992141,9.833575258992141,9.833575258992141,9.87927682934062,9.87927682934062,9.87927682934062,9.87927682934062,9.87927682934062,9.87927682934062,9.87927682934062,9.87927682934062,9.924978399689099,9.924978399689099,9.924978399689099,9.924978399689099,9.924978399689099,9.924978399689099,9.924978399689099,9.924978399689099,9.924978399689099,9.924978399689099,9.97067997003758,9.97067997003758,9.97067997003758,9.97067997003758,9.97067997003758,9.97067997003758,9.97067997003758,9.97067997003758,9.97067997003758,9.97067997003758,10.016381540386059,10.016381540386059,10.016381540386059,10.016381540386059,10.016381540386059,10.016381540386059,10.016381540386059,10.062083110734537,10.062083110734537,10.062083110734537,10.062083110734537,10.062083110734537,10.062083110734537,10.062083110734537,10.062083110734537,10.062083110734537,10.062083110734537,10.062083110734537,10.107784681083016,10.107784681083016,10.107784681083016,10.107784681083016,10.107784681083016,10.107784681083016,10.107784681083016,10.107784681083016,10.107784681083016,10.153486251431495,10.153486251431495,10.153486251431495,10.153486251431495,10.153486251431495,10.153486251431495,10.153486251431495,10.153486251431495,10.199187821779976,10.199187821779976,10.199187821779976,10.199187821779976,10.199187821779976,10.244889392128453,10.244889392128453,10.244889392128453,10.244889392128453,10.244889392128453,10.290590962476934,10.290590962476934,10.290590962476934,10.290590962476934,10.290590962476934,10.290590962476934,10.290590962476934,10.336292532825412,10.336292532825412,10.336292532825412,10.336292532825412,10.336292532825412,10.336292532825412,10.381994103173891,10.381994103173891,10.381994103173891,10.381994103173891,10.381994103173891,10.381994103173891,10.381994103173891,10.381994103173891,10.381994103173891,10.42769567352237,10.42769567352237,10.42769567352237,10.42769567352237,10.42769567352237,10.42769567352237,10.47339724387085,10.47339724387085,10.47339724387085,10.47339724387085,10.47339724387085,10.47339724387085,10.47339724387085,10.51909881421933,10.51909881421933,10.51909881421933,10.51909881421933,10.51909881421933,10.51909881421933,10.564800384567807,10.564800384567807,10.564800384567807,10.564800384567807,10.564800384567807,10.564800384567807,10.564800384567807,10.610501954916288,10.610501954916288,10.610501954916288,10.610501954916288,10.610501954916288,10.610501954916288,10.610501954916288,10.610501954916288,10.610501954916288,10.610501954916288,10.656203525264766,10.656203525264766,10.656203525264766,10.656203525264766,10.656203525264766,10.701905095613245,10.701905095613245,10.701905095613245,10.701905095613245,10.747606665961724,10.747606665961724,10.747606665961724,10.747606665961724,10.747606665961724,10.747606665961724,10.793308236310203,10.793308236310203,10.793308236310203,10.793308236310203,10.793308236310203,10.793308236310203,10.793308236310203,10.793308236310203,10.793308236310203,10.839009806658682,10.839009806658682,10.839009806658682,10.839009806658682,10.839009806658682,10.88471137700716,10.88471137700716,10.88471137700716,10.88471137700716,10.88471137700716,10.88471137700716,10.88471137700716,10.930412947355642,10.97611451770412,10.97611451770412,10.97611451770412,10.97611451770412,10.97611451770412,11.0218160880526,11.067517658401078,11.067517658401078,11.067517658401078,11.113219228749557,11.113219228749557,11.113219228749557,11.158920799098036,11.158920799098036,11.158920799098036,11.158920799098036,11.204622369446515,11.204622369446515,11.204622369446515,11.204622369446515,11.204622369446515,11.204622369446515,11.204622369446515,11.204622369446515,11.250323939794995,11.250323939794995,11.296025510143474,11.296025510143474,11.296025510143474,11.296025510143474,11.296025510143474,11.341727080491953,11.341727080491953,11.341727080491953,11.341727080491953,11.341727080491953,11.341727080491953,11.341727080491953,11.387428650840432,11.387428650840432,11.387428650840432,11.433130221188911,11.433130221188911,11.433130221188911,11.433130221188911,11.47883179153739,11.47883179153739,11.47883179153739,11.524533361885869,11.57023493223435,11.57023493223435,11.57023493223435,11.615936502582828,11.615936502582828,11.615936502582828,11.615936502582828,11.615936502582828,11.661638072931307,11.707339643279786,11.707339643279786,11.707339643279786,11.707339643279786,11.844444354325223,11.844444354325223,11.844444354325223,11.844444354325223,11.890145924673703,11.890145924673703,11.890145924673703,11.935847495022182,11.935847495022182,11.981549065370661,11.981549065370661,12.02725063571914,12.02725063571914,12.02725063571914,12.072952206067619,12.072952206067619,12.1186537764161,12.1186537764161,12.1186537764161,12.1186537764161,12.164355346764577,12.164355346764577,12.164355346764577,12.164355346764577,12.210056917113057,12.210056917113057,12.255758487461534,12.255758487461534,12.301460057810015,12.392863198506973,12.392863198506973,12.392863198506973,12.48426633920393,12.529967909552411,12.575669479900888,12.575669479900888,12.621371050249369,12.621371050249369,12.712774190946327,12.804177331643285,12.849878901991765,12.849878901991765,12.941282042688723,12.986983613037202,13.03268518338568,13.078386753734161,13.124088324082638,13.261193035128077,13.261193035128077,13.398297746173514,13.53540245721895,13.672507168264389,13.672507168264389,13.672507168264389,13.901015020006785,14.129522871749181,14.769344856627889,14.815046426976366,14.860747997324847,14.906449567673326,16.597407670567055,17.28293122579424],\"yaxis\":\"y\"}],                        {\"coloraxis\":{\"colorbar\":{\"title\":{\"text\":\"Wk 8 Pts Margin\"}},\"colorscale\":[[0.0,\"#440154\"],[0.1111111111111111,\"#482878\"],[0.2222222222222222,\"#3e4989\"],[0.3333333333333333,\"#31688e\"],[0.4444444444444444,\"#26828e\"],[0.5555555555555556,\"#1f9e89\"],[0.6666666666666666,\"#35b779\"],[0.7777777777777778,\"#6ece58\"],[0.8888888888888888,\"#b5de2b\"],[1.0,\"#fde725\"]]},\"legend\":{\"itemsizing\":\"constant\",\"tracegroupgap\":0},\"template\":{\"data\":{\"pie\":[{\"automargin\":true,\"type\":\"pie\"}]},\"layout\":{\"xaxis\":{\"showgrid\":true,\"title\":{\"standoff\":15}},\"yaxis\":{\"showgrid\":true,\"title\":{\"standoff\":15}}}},\"title\":{\"text\":\"NFL Win Totals and Week 8 Scoring Margins | 1978-2020\"},\"xaxis\":{\"anchor\":\"y\",\"domain\":[0.0,1.0],\"title\":{\"text\":\"Wk 8 Pts Margin\"}},\"yaxis\":{\"anchor\":\"x\",\"domain\":[0.0,1.0],\"title\":{\"text\":\"Wk 17 Wins\"}}},                        {\"responsive\": true}                    ).then(function(){\n",
       "                            \n",
       "var gd = document.getElementById('84541ad5-4ffd-4625-8e27-379f688ed438');\n",
       "var x = new MutationObserver(function (mutations, observer) {{\n",
       "        var display = window.getComputedStyle(gd).display;\n",
       "        if (!display || display === 'none') {{\n",
       "            console.log([gd, 'removed!']);\n",
       "            Plotly.purge(gd);\n",
       "            observer.disconnect();\n",
       "        }}\n",
       "}});\n",
       "\n",
       "// Listen for the removal of the full notebook cells\n",
       "var notebookContainer = gd.closest('#notebook-container');\n",
       "if (notebookContainer) {{\n",
       "    x.observe(notebookContainer, {childList: true});\n",
       "}}\n",
       "\n",
       "// Listen for the clearing of the current output cell\n",
       "var outputEl = gd.closest('.output');\n",
       "if (outputEl) {{\n",
       "    x.observe(outputEl, {childList: true});\n",
       "}}\n",
       "\n",
       "                        })                };                });            </script>        </div>"
      ]
     },
     "metadata": {},
     "output_type": "display_data"
    }
   ],
   "source": [
    "fig = px.scatter(df, x = df['Wk 8 Pts Margin'], y = df['Wk 17 Wins'], color = df['Wk 8 Pts Margin'],\n",
    "          size = df['Wk 17 Wins'], size_max=17, trendline='ols', template='gridon',\n",
    "          title='NFL Win Totals & Week 8 Scoring Margins | 1978-2020',\n",
    "          hover_data = [df['Team']])\n",
    "\n",
    "fig"
   ]
  },
  {
   "cell_type": "code",
   "execution_count": 149,
   "metadata": {},
   "outputs": [
    {
     "data": {
      "text/markdown": [
       "Uploading report and associated data - *please wait...*"
      ],
      "text/plain": [
       "<IPython.core.display.Markdown object>"
      ]
     },
     "metadata": {},
     "output_type": "display_data"
    },
    {
     "data": {
      "text/markdown": [
       "Your report only contains a single element - did you know you can include additional plots, tables and text in a single report? Check out [the docs](https://docs.datapane.com/reports/blocks/layout-pages-and-selects) for more info"
      ],
      "text/plain": [
       "<IPython.core.display.Markdown object>"
      ]
     },
     "metadata": {},
     "output_type": "display_data"
    },
    {
     "data": {
      "text/markdown": [
       "Report successfully uploaded, click [here](https://datapane.com/u/wmblack23/reports/W3Dzjzk/nfl-win-totals-scoring-margins-1978-2020/) to view and share your report"
      ],
      "text/plain": [
       "<IPython.core.display.Markdown object>"
      ]
     },
     "metadata": {},
     "output_type": "display_data"
    }
   ],
   "source": [
    "graph = dp.Plot(fig)\n",
    "dp.Report(graph).upload(name='NFL Win Totals & Scoring Margins | 1978-2020')"
   ]
  },
  {
   "cell_type": "code",
   "execution_count": 148,
   "metadata": {},
   "outputs": [],
   "source": [
    "df.drop(columns = 'Wk 8 Expected', inplace=True)"
   ]
  },
  {
   "cell_type": "code",
   "execution_count": 150,
   "metadata": {},
   "outputs": [
    {
     "data": {
      "text/markdown": [
       "Uploading report and associated data - *please wait...*"
      ],
      "text/plain": [
       "<IPython.core.display.Markdown object>"
      ]
     },
     "metadata": {},
     "output_type": "display_data"
    },
    {
     "data": {
      "text/markdown": [
       "Your report only contains a single element - did you know you can include additional plots, tables and text in a single report? Check out [the docs](https://docs.datapane.com/reports/blocks/layout-pages-and-selects) for more info"
      ],
      "text/plain": [
       "<IPython.core.display.Markdown object>"
      ]
     },
     "metadata": {},
     "output_type": "display_data"
    },
    {
     "data": {
      "text/markdown": [
       "Report successfully uploaded, click [here](https://datapane.com/u/wmblack23/reports/d7dXnG7/week-8-scoring-margin-compared-to-end-of-season-wins/) to view and share your report"
      ],
      "text/plain": [
       "<IPython.core.display.Markdown object>"
      ]
     },
     "metadata": {},
     "output_type": "display_data"
    }
   ],
   "source": [
    "table = dp.DataTable(df)\n",
    "dp.Report(table).upload(name='Week 8 Scoring Margin compared to End-of-Season Wins')"
   ]
  },
  {
   "cell_type": "code",
   "execution_count": null,
   "metadata": {},
   "outputs": [],
   "source": []
  }
 ],
 "metadata": {
  "kernelspec": {
   "display_name": "Python 3",
   "language": "python",
   "name": "python3"
  },
  "language_info": {
   "codemirror_mode": {
    "name": "ipython",
    "version": 3
   },
   "file_extension": ".py",
   "mimetype": "text/x-python",
   "name": "python",
   "nbconvert_exporter": "python",
   "pygments_lexer": "ipython3",
   "version": "3.8.5"
  }
 },
 "nbformat": 4,
 "nbformat_minor": 4
}
