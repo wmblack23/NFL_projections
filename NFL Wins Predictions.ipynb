{
 "cells": [
  {
   "cell_type": "markdown",
   "metadata": {},
   "source": [
    "Data scraped from https://www.espn.com/ and https://www.teamrankings.com/"
   ]
  },
  {
   "cell_type": "code",
   "execution_count": null,
   "metadata": {},
   "outputs": [],
   "source": [
    "from bs4 import BeautifulSoup\n",
    "import pandas as pd\n",
    "import requests\n",
    "import numpy as np\n",
    "import plotly.express as px\n",
    "import matplotlib.pyplot as plt\n",
    "from sklearn.metrics import r2_score\n",
    "import datapane as dp"
   ]
  },
  {
   "cell_type": "markdown",
   "metadata": {},
   "source": [
    "## Scraping teams and scoring margins (through 8 weeks) from 2003-2020"
   ]
  },
  {
   "cell_type": "code",
   "execution_count": null,
   "metadata": {},
   "outputs": [],
   "source": [
    "year = 2003\n",
    "\n",
    "teams, point_diff = [], []\n",
    "\n",
    "while year < 2021:\n",
    "\n",
    "    url = \"https://www.teamrankings.com/nfl/stat/average-scoring-margin?date=\" + str(year) + \"-11-04\"\n",
    "\n",
    "    r = requests.get(url,timeout=2.5)\n",
    "    r_html = r.text\n",
    "\n",
    "    soup = BeautifulSoup(r_html, 'html.parser')\n",
    "    \n",
    "    classes = [\"text-left nowrap\", \"text-right\"]\n",
    "    \n",
    "    NFL_data = soup.find_all(\"td\", attrs={\"class\": classes})\n",
    "\n",
    "    NFL_data = [str(l) for l in NFL_data]\n",
    "    NFL_stats = []\n",
    "\n",
    "    for l in NFL_data:\n",
    "        if '\">' and '</td>' in l:\n",
    "            NFL_stats.append(l[l.index('\">')+len('\">'):l.index('</td>')])\n",
    "        if 'sort=\"' and '\"><a' in l:\n",
    "            NFL_stats.append(l[l.index('sort=\"')+len('sort=\"'):l.index('\"><a')])\n",
    "        else:\n",
    "            continue\n",
    "            \n",
    "    ct_team, ct_pd = 1, 2\n",
    "\n",
    "    while ct_pd <= len(NFL_stats) - 6:\n",
    "        teams.append(NFL_stats[ct_team])\n",
    "        point_diff.append(NFL_stats[ct_pd])\n",
    "\n",
    "        ct_team += 8\n",
    "        ct_pd += 8\n",
    "        \n",
    "    year += 1\n",
    "    \n",
    "point_diff = [float(l) for l in point_diff]"
   ]
  },
  {
   "cell_type": "markdown",
   "metadata": {},
   "source": [
    "## Changing team names to match what we get from ESPN for consistency"
   ]
  },
  {
   "cell_type": "code",
   "execution_count": null,
   "metadata": {},
   "outputs": [],
   "source": [
    "def change_names(list):\n",
    "    \n",
    "    for indx, item in enumerate(list):\n",
    "        if item == 'Kansas City':\n",
    "            list[indx] = \"Kansas City Chiefs\"\n",
    "        if item == \"Tampa Bay\":\n",
    "            list[indx] = \"Tampa Bay Buccaneers\"\n",
    "        if item == \"Baltimore\":\n",
    "            list[indx] = \"Baltimore Ravens\"\n",
    "        if item == \"Pittsburgh\":\n",
    "            list[indx] = \"Pittsburgh Steelers\"\n",
    "        if item == \"Indianapolis\":\n",
    "            list[indx] = \"Indianapolis Colts\"\n",
    "        if item == \"Miami\":\n",
    "            list[indx] = \"Miami Dolphins\"\n",
    "        if item == \"Arizona\":\n",
    "            list[indx] = \"Arizona Cardinals\"\n",
    "        if item == \"Seattle\":\n",
    "            list[indx] = \"Seattle Seahawks\"\n",
    "        if item == \"LA Rams\":\n",
    "            list[indx] = \"Los Angeles Rams\"\n",
    "        if item == \"Green Bay\":\n",
    "            list[indx] = \"Green Bay Packers\"\n",
    "        if item == \"San Francisco\":\n",
    "            list[indx] = \"San Francisco 49ers\"\n",
    "        if item == \"Tennessee\":\n",
    "            list[indx] = \"Tennessee Titans\"\n",
    "        if item == \"New Orleans\":\n",
    "            list[indx] = \"New Orleans Saints\"\n",
    "        if item == \"Buffalo\":\n",
    "            list[indx] = \"Buffalo Bills\"\n",
    "        if item == \"Chicago\":\n",
    "            list[indx] = \"Chicago Bears\"\n",
    "        if item == \"LA Chargers\":\n",
    "            list[indx] = \"Los Angeles Chargers\"\n",
    "        if item == \"Carolina\":\n",
    "            list[indx] = \"Carolina Panthers\"\n",
    "        if item == \"Atlanta\":\n",
    "            list[indx] = \"Atlanta Falcons\"\n",
    "        if item == \"Las Vegas\":\n",
    "            list[indx] = \"Las Vegas Raiders\"\n",
    "        if item == \"Philadelphia\":\n",
    "            list[indx] = \"Philadelphia Eagles\"\n",
    "        if item == \"Cincinnati\":\n",
    "            list[indx] = \"Cincinnati Bengals\"\n",
    "        if item == \"Cleveland\":\n",
    "            list[indx] = \"Cleveland Browns\"\n",
    "        if item == \"Detroit\":\n",
    "            list[indx] = \"Detroit Lions\"\n",
    "        if item == \"New England\":\n",
    "            list[indx] = \"New England Patriots\"\n",
    "        if item == \"Minnesota\":\n",
    "            list[indx] = \"Minnesota Vikings\"\n",
    "        if item == \"Denver\":\n",
    "            list[indx] = \"Denver Broncos\"\n",
    "        if item == \"NY Giants\":\n",
    "            list[indx] = \"New York Giants\"\n",
    "        if item == \"Houston\":\n",
    "            list[indx] = \"Houston Texans\"\n",
    "        if item == \"Jacksonville\":\n",
    "            list[indx] = \"Jacksonville Jaguars\"\n",
    "        if item == \"Dallas\":\n",
    "            list[indx] = \"Dallas Cowboys\"\n",
    "        if item == \"NY Jets\":\n",
    "            list[indx] = \"New York Jets\"\n",
    "    \n",
    "    return list"
   ]
  },
  {
   "cell_type": "code",
   "execution_count": null,
   "metadata": {},
   "outputs": [],
   "source": [
    "NFL_teams = change_names(teams)"
   ]
  },
  {
   "cell_type": "markdown",
   "metadata": {},
   "source": [
    "## Scraping final league standings from 2003-2020"
   ]
  },
  {
   "cell_type": "code",
   "execution_count": null,
   "metadata": {},
   "outputs": [],
   "source": [
    "year = 2003\n",
    "\n",
    "teams_standings = []\n",
    "wins = []\n",
    "\n",
    "while year < 2021:\n",
    "\n",
    "    url = \"https://www.espn.com/nfl/standings/_/season/\" + str(year) + \"/group/league\"\n",
    "\n",
    "    r = requests.get(url,timeout=2.5)\n",
    "    r_html = r.text\n",
    "\n",
    "    soup = BeautifulSoup(r_html, 'html.parser')\n",
    "    \n",
    "    data = soup.find_all(\"td\")\n",
    "    data = [str(l) for l in data]\n",
    "    \n",
    "    teams = data[0:32]\n",
    "\n",
    "    teams = [i[-135:] for i in teams]\n",
    "    \n",
    "    left, right = 'tabindex=\"0\">', '</a>'\n",
    "    for l in teams:\n",
    "        if left and right in l:\n",
    "            teams_standings.append(l[l.index(left)+len(left):l.index(right)])\n",
    "        elif 'none\" title=\"' and '\">WSH' in l:\n",
    "            teams_standings.append(l[l.index('none\" title=\"')+len('none\" title=\"'):l.index('\">WSH')])\n",
    "        elif 'none\" title=\"' and '\">OAK' in l:\n",
    "            teams_standings.append(l[l.index('none\" title=\"')+len('none\" title=\"'):l.index('\">OAK')])\n",
    "        elif 'none\" title=\"' and '\">SD' in l:\n",
    "            teams_standings.append(l[l.index('none\" title=\"')+len('none\" title=\"'):l.index('\">SD')]) \n",
    "        elif 'none\" title=\"' and '\">STL' in l:\n",
    "            teams_standings.append(l[l.index('none\" title=\"')+len('none\" title=\"'):l.index('\">STL')]) \n",
    "    \n",
    "    stats = data[32:]\n",
    "    \n",
    "    left, right = 'cell\">', '</sp'\n",
    "    stats = [l[l.index(left)+len(left):l.index(right)] for l in stats if left in l and right in l]\n",
    "    \n",
    "    ct = 0\n",
    "    while ct < len(stats):\n",
    "        wins.append(stats[ct])\n",
    "        ct += 11\n",
    "    \n",
    "    year += 1\n"
   ]
  },
  {
   "cell_type": "markdown",
   "metadata": {},
   "source": [
    "## Teams names changed since 2003, so updating"
   ]
  },
  {
   "cell_type": "code",
   "execution_count": null,
   "metadata": {},
   "outputs": [],
   "source": [
    "for indx, item in enumerate(teams_standings):\n",
    "    if item == \"St. Louis Rams\":\n",
    "        teams_standings[indx] = \"Los Angeles Rams\"\n",
    "    if item == \"Washington Redskins\":\n",
    "        teams_standings[indx] = \"Washington\"\n",
    "    if item == \"Oakland Raiders\":\n",
    "        teams_standings[indx] = \"Las Vegas Raiders\"\n",
    "    if item == \"San Diego Chargers\":\n",
    "        teams_standings[indx] = \"Los Angeles Chargers\""
   ]
  },
  {
   "cell_type": "markdown",
   "metadata": {},
   "source": [
    "## Re-organizing lists so that standings and wins match up with the team names and scoring margins from the first scrape"
   ]
  },
  {
   "cell_type": "code",
   "execution_count": null,
   "metadata": {},
   "outputs": [],
   "source": [
    "NFL_standings, NFL_wins = [], []\n",
    "\n",
    "for i in NFL_teams:\n",
    "    if i in teams_standings:\n",
    "        item_index = teams_standings.index(i)\n",
    "        NFL_standings.append(i)\n",
    "        teams_standings[teams_standings.index(i)] = ''\n",
    "        NFL_wins.append(wins[item_index])\n",
    "\n",
    "NFL_wins = [float(l) for l in NFL_wins]"
   ]
  },
  {
   "cell_type": "markdown",
   "metadata": {},
   "source": [
    "## New list called seasons. Each season is appended 32 times (one for each team)"
   ]
  },
  {
   "cell_type": "code",
   "execution_count": null,
   "metadata": {},
   "outputs": [],
   "source": [
    "seasons = []\n",
    "\n",
    "ct = 0\n",
    "year = 2003\n",
    "\n",
    "while ct <= len(NFL_wins) - 1:\n",
    "    seasons.append(year)\n",
    "    ct += 1\n",
    "    if ct % 32 == 0:\n",
    "        year += 1"
   ]
  },
  {
   "cell_type": "code",
   "execution_count": null,
   "metadata": {},
   "outputs": [],
   "source": [
    "df = pd.DataFrame(data={'Team': NFL_standings, 'Season':seasons, 'Scoring Margin': point_diff, 'Actual Wins': NFL_wins})\n",
    "\n",
    "df"
   ]
  },
  {
   "cell_type": "markdown",
   "metadata": {},
   "source": [
    "## Running DataFrame through the model to get predicted wins for each team since 2003"
   ]
  },
  {
   "cell_type": "code",
   "execution_count": null,
   "metadata": {},
   "outputs": [],
   "source": [
    "from sklearn import linear_model\n",
    "\n",
    "X = df[['Scoring Margin']]\n",
    "y = df['Actual Wins']\n",
    "\n",
    "scorig_margin = df['Scoring Margin'].tolist()\n",
    "actual_wins = df['Actual Wins'].tolist()\n",
    "\n",
    "predicted_wins = []\n",
    "\n",
    "for i in scorig_margin:\n",
    "    \n",
    "    regr = linear_model.LinearRegression()\n",
    "    regr.fit(X, y)\n",
    "    predicted_wins.append(round(float(regr.predict([[i]])), 2))\n",
    "\n",
    "\n",
    "df['Predicted Wins'] = predicted_wins\n",
    "diff_list = []\n",
    "\n",
    "for i, k in zip(actual_wins, predicted_wins):\n",
    "    diff = str(round(i-k, 2))\n",
    "    if float(diff) > 0:\n",
    "        diff = '+' + str(diff)\n",
    "\n",
    "    diff_list.append(diff)\n",
    "\n",
    "diff_list = [float(l) for l in diff_list]\n",
    "\n",
    "df['Difference'] = diff_list\n",
    "df"
   ]
  },
  {
   "cell_type": "code",
   "execution_count": null,
   "metadata": {},
   "outputs": [],
   "source": [
    "df_copy = df.copy()\n",
    "df_copy['Difference'] = df_copy['Difference'].astype(float)\n",
    "\n",
    "overperforming = df_copy.nlargest(10, 'Difference')"
   ]
  },
  {
   "cell_type": "markdown",
   "metadata": {},
   "source": [
    "## Finding average difference between projected and observed win totals"
   ]
  },
  {
   "cell_type": "code",
   "execution_count": null,
   "metadata": {},
   "outputs": [],
   "source": [
    "diff_list_float = [float(l) for l in diff_list]\n",
    "\n",
    "abs_vals = [abs(x) for x in diff_list_float]\n",
    "\n",
    "avg_difference = sum(abs_vals) / len(diff_list_float)\n",
    "\n",
    "avg_difference"
   ]
  },
  {
   "cell_type": "markdown",
   "metadata": {},
   "source": [
    "## Plotly object"
   ]
  },
  {
   "cell_type": "code",
   "execution_count": null,
   "metadata": {},
   "outputs": [],
   "source": [
    "fig = px.scatter(df, x = df['Scoring Margin'], y = df['Actual Wins'], color = df['Scoring Margin'],\n",
    "          size = df['Actual Wins'], size_max=17, trendline='ols', template='gridon',\n",
    "          title='NFL Win Totals and Week 8 Scoring Margins | 2003-2020',\n",
    "          hover_data = [df['Team'], df['Season'], df['Predicted Wins']])"
   ]
  },
  {
   "cell_type": "markdown",
   "metadata": {},
   "source": [
    "## Creating linear regression model"
   ]
  },
  {
   "cell_type": "code",
   "execution_count": null,
   "metadata": {},
   "outputs": [],
   "source": [
    "model = np.polyfit(df['Scoring Margin'], df['Actual Wins'], 1)"
   ]
  },
  {
   "cell_type": "code",
   "execution_count": null,
   "metadata": {},
   "outputs": [],
   "source": [
    "predict = np.poly1d(model)\n",
    "\n",
    "r2 = r2_score(NFL_wins, predict(point_diff))\n",
    "r2 #R2 value"
   ]
  },
  {
   "cell_type": "code",
   "execution_count": null,
   "metadata": {},
   "outputs": [],
   "source": [
    "r = np.sqrt(r2) #Coefficient correlation"
   ]
  },
  {
   "cell_type": "markdown",
   "metadata": {},
   "source": [
    "## Scraping for current season scoring margins to run through the model"
   ]
  },
  {
   "cell_type": "code",
   "execution_count": null,
   "metadata": {},
   "outputs": [],
   "source": [
    "year = 2021\n",
    "\n",
    "current_teams, current_point_diff = [], []\n",
    "\n",
    "url = \"https://www.teamrankings.com/nfl/stat/average-scoring-margin?date=\" + str(year) + \"-11-04\"\n",
    "\n",
    "r = requests.get(url,timeout=2.5)\n",
    "r_html = r.text\n",
    "\n",
    "soup = BeautifulSoup(r_html, 'html.parser')\n",
    "\n",
    "classes = [\"text-left nowrap\", \"text-right\"]\n",
    "\n",
    "NFL_data = soup.find_all(\"td\", attrs={\"class\": classes})\n",
    "\n",
    "NFL_data = [str(l) for l in NFL_data]\n",
    "NFL_stats = []\n",
    "\n",
    "for l in NFL_data:\n",
    "    if '\">' and '</td>' in l:\n",
    "        NFL_stats.append(l[l.index('\">')+len('\">'):l.index('</td>')])\n",
    "    if 'sort=\"' and '\"><a' in l:\n",
    "        NFL_stats.append(l[l.index('sort=\"')+len('sort=\"'):l.index('\"><a')])\n",
    "    else:\n",
    "        continue\n",
    "\n",
    "ct_team, ct_pd = 1, 2\n",
    "\n",
    "while ct_pd <= len(NFL_stats) - 6:\n",
    "    current_teams.append(NFL_stats[ct_team])\n",
    "    current_point_diff.append(NFL_stats[ct_pd])\n",
    "\n",
    "    ct_team += 8\n",
    "    ct_pd += 8\n",
    "\n",
    "year += 1\n",
    "\n",
    "current_point_diff = [float(l) for l in current_point_diff]"
   ]
  },
  {
   "cell_type": "code",
   "execution_count": null,
   "metadata": {},
   "outputs": [],
   "source": [
    "current_teams = change_names(current_teams)"
   ]
  },
  {
   "cell_type": "markdown",
   "metadata": {},
   "source": [
    "## Putting current data through model"
   ]
  },
  {
   "cell_type": "code",
   "execution_count": null,
   "metadata": {},
   "outputs": [],
   "source": [
    "projected_wins = []\n",
    "\n",
    "for i in current_point_diff:\n",
    "    \n",
    "    X = df[['Scoring Margin']]\n",
    "    y = df['Actual Wins']\n",
    "\n",
    "    regr = linear_model.LinearRegression()\n",
    "    regr.fit(X, y)\n",
    "    \n",
    "    prediction = regr.predict([[i]])\n",
    "    \n",
    "    projected_wins.append(round(float(prediction), 2))"
   ]
  },
  {
   "cell_type": "code",
   "execution_count": null,
   "metadata": {},
   "outputs": [],
   "source": [
    "new_df = pd.DataFrame(data={\"Team\": current_teams, \"Week-8 Scoring Margin\": current_point_diff, \"Projected 2021 Wins\": projected_wins})\n",
    "\n",
    "new_df"
   ]
  },
  {
   "cell_type": "markdown",
   "metadata": {},
   "source": [
    "## DataPane objects"
   ]
  },
  {
   "cell_type": "code",
   "execution_count": null,
   "metadata": {},
   "outputs": [],
   "source": [
    "table = dp.DataTable(new_df)\n",
    "dp.Report(table).upload(name='Projected Win Totals for the 2021 NFL Season')"
   ]
  },
  {
   "cell_type": "code",
   "execution_count": null,
   "metadata": {},
   "outputs": [],
   "source": [
    "table = dp.DataTable(df)\n",
    "dp.Report(table).upload(name='Week 8 Scoring Margin compared to End-of-Season Wins')"
   ]
  },
  {
   "cell_type": "code",
   "execution_count": null,
   "metadata": {},
   "outputs": [],
   "source": [
    "table = dp.DataTable(overperforming)\n",
    "dp.Report(table).upload(name='10 Most Overperforming Teams by Observed Win Total')"
   ]
  },
  {
   "cell_type": "code",
   "execution_count": null,
   "metadata": {},
   "outputs": [],
   "source": [
    "underperforming = df_copy.nsmallest(10, 'Difference')\n",
    "\n",
    "table = dp.DataTable(underperforming)\n",
    "dp.Report(table).upload(name='10 Most Underperforming Teams by Observed Win Total')"
   ]
  },
  {
   "cell_type": "code",
   "execution_count": null,
   "metadata": {},
   "outputs": [],
   "source": [
    "graph = dp.Plot(fig)\n",
    "dp.Report(graph).upload(name='NFL Win Totals and Scoring Margins | 2003-2020')"
   ]
  }
 ],
 "metadata": {
  "kernelspec": {
   "display_name": "Python 3",
   "language": "python",
   "name": "python3"
  },
  "language_info": {
   "codemirror_mode": {
    "name": "ipython",
    "version": 3
   },
   "file_extension": ".py",
   "mimetype": "text/x-python",
   "name": "python",
   "nbconvert_exporter": "python",
   "pygments_lexer": "ipython3",
   "version": "3.8.5"
  }
 },
 "nbformat": 4,
 "nbformat_minor": 4
}
